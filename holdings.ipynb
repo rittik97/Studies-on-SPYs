{
 "cells": [
  {
   "cell_type": "code",
   "execution_count": 1,
   "metadata": {},
   "outputs": [],
   "source": [
    "import pandas as pd\n",
    "import numpy as np \n",
    "import matplotlib.pyplot as plt\n",
    "import requests"
   ]
  },
  {
   "cell_type": "code",
   "execution_count": 167,
   "metadata": {},
   "outputs": [],
   "source": [
    "holdings=['QQQ','NVO','AZN','MBUU','CWH']"
   ]
  },
  {
   "cell_type": "code",
   "execution_count": 54,
   "metadata": {},
   "outputs": [
    {
     "name": "stdout",
     "output_type": "stream",
     "text": [
      "           Date        k        d  k_change\n",
      "5006 2000-06-22  91.0542  94.2856       NaN\n",
      "5005 2000-06-23  83.5821  90.2647       NaN\n",
      "5004 2000-06-26  76.6470  83.7611       NaN\n",
      "5003 2000-06-27  72.5592  77.5961 -0.203121\n",
      "5002 2000-06-28  72.8650  74.0237 -0.128222\n",
      "...         ...      ...      ...       ...\n",
      "4    2020-05-12  91.8402  95.3003 -0.029197\n",
      "3    2020-05-13  80.0734  89.8020 -0.170811\n",
      "2    2020-05-14  72.7483  81.5540 -0.253805\n",
      "1    2020-05-15  72.9614  75.2610 -0.205561\n",
      "0    2020-05-18  83.2266  76.3121  0.039379\n",
      "\n",
      "[5007 rows x 4 columns]\n"
     ]
    }
   ],
   "source": [
    "for ticker in holdings:\n",
    "    d={'function': 'STOCH','apikey':\"YEUC2DL0F7KC43PB\",'symbol':ticker,'interval':'daily','fastkperiod':22 }\n",
    "    response = requests.get(\n",
    "        'https://www.alphavantage.co/query',\n",
    "        params=d,\n",
    "        )\n",
    "    slowk=[]\n",
    "    slowd=[]\n",
    "    for key, val in response.json()['Technical Analysis: STOCH'].items():\n",
    "        slowk.append(float(val['SlowK']))\n",
    "        slowd.append(float(val['SlowD']))\n",
    "        \n",
    "    sto=pd.DataFrame({'Date':list(response.json()['Technical Analysis: STOCH'].keys()),\n",
    "                 'k':slowk,\n",
    "                  'd':slowd\n",
    "                 })\n",
    "    sto=sto.astype({'Date': 'datetime64'})\n",
    "    sto.sort_values(by='Date',inplace=True)\n",
    "    sto['k_change'] = sto.k/sto.k.shift(3)-1\n",
    "    print(sto)"
   ]
  },
  {
   "cell_type": "code",
   "execution_count": 168,
   "metadata": {},
   "outputs": [
    {
     "name": "stdout",
     "output_type": "stream",
     "text": [
      "QQQ 2020-05-19 00:00:00 0.2091203796557024 -0.45913701443037197\n",
      "NVO 2020-05-19 00:00:00 -0.09417990905274432 -0.47456756599687605\n",
      "AZN 2020-05-19 00:00:00 -0.2415376833695585 -0.5116273204951323\n",
      "MBUU 2020-05-19 00:00:00 0.27503665048482895 -0.4364955204247237\n",
      "CWH 2020-05-19 00:00:00 0.11674096531962608 -0.5164024279176075\n"
     ]
    }
   ],
   "source": [
    "for ticker in holdings:\n",
    "    \n",
    "    d={'function': 'TIME_SERIES_DAILY_ADJUSTED','apikey':\"YEUC2DL0F7KC43PB\",'symbol':ticker,'outputsize':'full'}\n",
    "    response = requests.get(\n",
    "        'https://www.alphavantage.co/query',\n",
    "        params=d,\n",
    "        )\n",
    "    spy=[[],[],[],[],[],[],[]]\n",
    "    for key, val in response.json()['Time Series (Daily)'].items():\n",
    "        spy[0].append(float(val['1. open']))\n",
    "        spy[1].append(float(val['2. high']))\n",
    "        spy[2].append(float(val['3. low']))\n",
    "        spy[3].append(float(val['4. close']))\n",
    "        spy[4].append(float(val['5. adjusted close']))\n",
    "        #spy[5].append(float(val['6. volume']))\n",
    "        #spy[6].append(float(val['7. dividend amount']))\n",
    "        \n",
    "    spy=pd.DataFrame({'Date':list(response.json()['Time Series (Daily)'].keys()),\n",
    "                 'open':spy[0],\n",
    "                  'high':spy[1],\n",
    "                  'low':spy[2],\n",
    "                  'close':spy[3],\n",
    "                  'adj_close':spy[4]#,\n",
    "                #  'volume':spy[5],\n",
    "                #  'dividend':spy[6],\n",
    "                 })\n",
    "    spy=spy.astype({'Date': 'datetime64'})\n",
    "    spy=spy.sort_values(by='Date')\n",
    "    spy['highest_high']=spy.high.rolling(22).max()\n",
    "    spy['lowest_low']=spy.low.rolling(22).min()\n",
    "    spy['k']=(spy.close-spy.lowest_low)/(spy.highest_high-spy.lowest_low)\n",
    "    spy['k']=spy.k.rolling(3).mean()\n",
    "    spy['k_change'] = spy.k/spy.k.shift(3)-1\n",
    "    print(ticker,spy.iloc[-1]['Date'], spy.iloc[-1]['k_change'],np.nanpercentile(spy.k_change,q=10))\n"
   ]
  },
  {
   "cell_type": "code",
   "execution_count": null,
   "metadata": {},
   "outputs": [],
   "source": [
    "pk_444bcc6ef4a94b859405ef30fe66fa14 \n",
    "https://cloud.iexapis.com/stable/stock/QQQ/intraday-prices?token=pk_9469e57bc642462d905e4dc0003523ab&chartIEXOnly=True&chartLast=1"
   ]
  },
  {
   "cell_type": "code",
   "execution_count": 105,
   "metadata": {},
   "outputs": [
    {
     "name": "stdout",
     "output_type": "stream",
     "text": [
      "hi\n"
     ]
    }
   ],
   "source": [
    "if ~(pd.to_datetime(list(response.json()['Time Series (Daily)'].keys())[0])==pd.Timestamp.today()):\n",
    "    d={'function': 'TIME_SERIES_INTRADAY','apikey':\"YEUC2DL0F7KC43PB\",'symbol':ticker,'interval':'1min'}\n",
    "    response = requests.get(\n",
    "        'https://www.alphavantage.co/query',\n",
    "        params=d,\n",
    "        )"
   ]
  },
  {
   "cell_type": "code",
   "execution_count": 148,
   "metadata": {},
   "outputs": [],
   "source": [
    "d={'token':\"pk_9469e57bc642462d905e4dc0003523ab\",'chartIEXOnly':'True','chartLast':'1'}\n",
    "response = requests.get(\n",
    "        'https://cloud.iexapis.com/stable/stock/{}/intraday-prices?'.format(holdings[0])#token={}&chartIEXOnly=True&chartLast=1'.format(holdings[0],'pk_9469e57bc642462d905e4dc0003523ab'),\n",
    "        ,params=d,\n",
    "        )"
   ]
  },
  {
   "cell_type": "code",
   "execution_count": 152,
   "metadata": {},
   "outputs": [
    {
     "data": {
      "text/plain": [
       "0    2020-05-19\n",
       "dtype: object"
      ]
     },
     "execution_count": 152,
     "metadata": {},
     "output_type": "execute_result"
    }
   ],
   "source": [
    "pd.Series(response.json()[0]['date'])"
   ]
  },
  {
   "cell_type": "code",
   "execution_count": 164,
   "metadata": {},
   "outputs": [
    {
     "data": {
      "text/plain": [
       "Timestamp('2020-05-19 00:00:00')"
      ]
     },
     "execution_count": 164,
     "metadata": {},
     "output_type": "execute_result"
    }
   ],
   "source": [
    "spy.iloc[-1]['Date']\n"
   ]
  },
  {
   "cell_type": "code",
   "execution_count": 93,
   "metadata": {},
   "outputs": [
    {
     "data": {
      "text/plain": [
       "-0.45913701443037197"
      ]
     },
     "execution_count": 93,
     "metadata": {},
     "output_type": "execute_result"
    }
   ],
   "source": [
    "np.nanpercentile(spy.k_change,q=10)"
   ]
  },
  {
   "cell_type": "code",
   "execution_count": null,
   "metadata": {},
   "outputs": [],
   "source": []
  }
 ],
 "metadata": {
  "kernelspec": {
   "display_name": "Python 3",
   "language": "python",
   "name": "python3"
  },
  "language_info": {
   "codemirror_mode": {
    "name": "ipython",
    "version": 3
   },
   "file_extension": ".py",
   "mimetype": "text/x-python",
   "name": "python",
   "nbconvert_exporter": "python",
   "pygments_lexer": "ipython3",
   "version": "3.6.9"
  }
 },
 "nbformat": 4,
 "nbformat_minor": 2
}

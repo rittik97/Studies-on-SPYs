{
 "cells": [
  {
   "cell_type": "code",
   "execution_count": 1,
   "metadata": {},
   "outputs": [],
   "source": [
    "import pandas as pd\n",
    "import numpy as np \n",
    "import matplotlib.pyplot as plt"
   ]
  },
  {
   "cell_type": "code",
   "execution_count": 2,
   "metadata": {},
   "outputs": [],
   "source": [
    "import requests"
   ]
  },
  {
   "cell_type": "code",
   "execution_count": 18,
   "metadata": {},
   "outputs": [],
   "source": [
    "ticker='ECL'\n",
    "d={'function': 'TIME_SERIES_DAILY_ADJUSTED','apikey':\"YEUC2DL0F7KC43PB\",'symbol':ticker,'outputsize':'full'}\n",
    "response = requests.get(\n",
    "        'https://www.alphavantage.co/query',\n",
    "        params=d,\n",
    "        )"
   ]
  },
  {
   "cell_type": "code",
   "execution_count": 19,
   "metadata": {},
   "outputs": [],
   "source": [
    "#open #high #low #close #adjusted close  #volume #dividend amount\n",
    "spy=[[],[],[],[],[],[],[]]\n",
    "for key, val in response.json()['Time Series (Daily)'].items():\n",
    "    spy[0].append(float(val['1. open']))\n",
    "    spy[1].append(float(val['2. high']))\n",
    "    spy[2].append(float(val['3. low']))\n",
    "    spy[3].append(float(val['4. close']))\n",
    "    spy[4].append(float(val['5. adjusted close']))\n",
    "    spy[5].append(float(val['6. volume']))\n",
    "    spy[6].append(float(val['7. dividend amount']))"
   ]
  },
  {
   "cell_type": "code",
   "execution_count": 20,
   "metadata": {},
   "outputs": [],
   "source": [
    "spy=pd.DataFrame({'Date':list(response.json()['Time Series (Daily)'].keys()),\n",
    "                 'open':spy[0],\n",
    "                  'high':spy[1],\n",
    "                  'low':spy[2],\n",
    "                  'close':spy[3],\n",
    "                  'adj_close':spy[4],\n",
    "                  'volume':spy[5],\n",
    "                  'dividend':spy[6],\n",
    "                 })\n",
    "spy=spy.astype({'Date': 'datetime64'})\n",
    "\n",
    "\n",
    "spy=spy.sort_values(by='Date')"
   ]
  },
  {
   "cell_type": "code",
   "execution_count": 21,
   "metadata": {},
   "outputs": [
    {
     "data": {
      "text/html": [
       "<div>\n",
       "<style scoped>\n",
       "    .dataframe tbody tr th:only-of-type {\n",
       "        vertical-align: middle;\n",
       "    }\n",
       "\n",
       "    .dataframe tbody tr th {\n",
       "        vertical-align: top;\n",
       "    }\n",
       "\n",
       "    .dataframe thead th {\n",
       "        text-align: right;\n",
       "    }\n",
       "</style>\n",
       "<table border=\"1\" class=\"dataframe\">\n",
       "  <thead>\n",
       "    <tr style=\"text-align: right;\">\n",
       "      <th></th>\n",
       "      <th>Date</th>\n",
       "      <th>open</th>\n",
       "      <th>high</th>\n",
       "      <th>low</th>\n",
       "      <th>close</th>\n",
       "      <th>adj_close</th>\n",
       "      <th>volume</th>\n",
       "      <th>dividend</th>\n",
       "    </tr>\n",
       "  </thead>\n",
       "  <tbody>\n",
       "    <tr>\n",
       "      <th>5032</th>\n",
       "      <td>2000-05-03</td>\n",
       "      <td>39.50</td>\n",
       "      <td>40.25</td>\n",
       "      <td>39.25</td>\n",
       "      <td>39.88</td>\n",
       "      <td>15.7222</td>\n",
       "      <td>662600.0</td>\n",
       "      <td>0.0</td>\n",
       "    </tr>\n",
       "    <tr>\n",
       "      <th>5031</th>\n",
       "      <td>2000-05-04</td>\n",
       "      <td>39.88</td>\n",
       "      <td>40.19</td>\n",
       "      <td>39.44</td>\n",
       "      <td>39.88</td>\n",
       "      <td>15.7222</td>\n",
       "      <td>409500.0</td>\n",
       "      <td>0.0</td>\n",
       "    </tr>\n",
       "    <tr>\n",
       "      <th>5030</th>\n",
       "      <td>2000-05-05</td>\n",
       "      <td>39.69</td>\n",
       "      <td>41.13</td>\n",
       "      <td>39.50</td>\n",
       "      <td>40.25</td>\n",
       "      <td>15.8680</td>\n",
       "      <td>420700.0</td>\n",
       "      <td>0.0</td>\n",
       "    </tr>\n",
       "    <tr>\n",
       "      <th>5029</th>\n",
       "      <td>2000-05-08</td>\n",
       "      <td>39.88</td>\n",
       "      <td>39.88</td>\n",
       "      <td>38.56</td>\n",
       "      <td>39.25</td>\n",
       "      <td>15.4738</td>\n",
       "      <td>356500.0</td>\n",
       "      <td>0.0</td>\n",
       "    </tr>\n",
       "    <tr>\n",
       "      <th>5028</th>\n",
       "      <td>2000-05-09</td>\n",
       "      <td>39.00</td>\n",
       "      <td>40.00</td>\n",
       "      <td>38.69</td>\n",
       "      <td>40.00</td>\n",
       "      <td>15.7695</td>\n",
       "      <td>502700.0</td>\n",
       "      <td>0.0</td>\n",
       "    </tr>\n",
       "  </tbody>\n",
       "</table>\n",
       "</div>"
      ],
      "text/plain": [
       "           Date   open   high    low  close  adj_close    volume  dividend\n",
       "5032 2000-05-03  39.50  40.25  39.25  39.88    15.7222  662600.0       0.0\n",
       "5031 2000-05-04  39.88  40.19  39.44  39.88    15.7222  409500.0       0.0\n",
       "5030 2000-05-05  39.69  41.13  39.50  40.25    15.8680  420700.0       0.0\n",
       "5029 2000-05-08  39.88  39.88  38.56  39.25    15.4738  356500.0       0.0\n",
       "5028 2000-05-09  39.00  40.00  38.69  40.00    15.7695  502700.0       0.0"
      ]
     },
     "execution_count": 21,
     "metadata": {},
     "output_type": "execute_result"
    }
   ],
   "source": [
    "spy.head()"
   ]
  },
  {
   "cell_type": "code",
   "execution_count": 7,
   "metadata": {},
   "outputs": [
    {
     "name": "stdout",
     "output_type": "stream",
     "text": [
      "<class 'pandas.core.frame.DataFrame'>\n",
      "Int64Index: 100 entries, 99 to 0\n",
      "Data columns (total 8 columns):\n",
      "Date         100 non-null datetime64[ns]\n",
      "open         100 non-null float64\n",
      "high         100 non-null float64\n",
      "low          100 non-null float64\n",
      "close        100 non-null float64\n",
      "adj_close    100 non-null float64\n",
      "volume       100 non-null float64\n",
      "dividend     100 non-null float64\n",
      "dtypes: datetime64[ns](1), float64(7)\n",
      "memory usage: 7.0 KB\n"
     ]
    }
   ],
   "source": [
    "spy.info()"
   ]
  },
  {
   "cell_type": "code",
   "execution_count": 8,
   "metadata": {},
   "outputs": [],
   "source": [
    "spy=spy.astype({'Date': 'datetime64'})"
   ]
  },
  {
   "cell_type": "code",
   "execution_count": 9,
   "metadata": {},
   "outputs": [],
   "source": [
    "dspy=spy.copy(deep=True)\n",
    "dspy.set_index('Date', inplace=True)"
   ]
  },
  {
   "cell_type": "code",
   "execution_count": 10,
   "metadata": {},
   "outputs": [
    {
     "data": {
      "text/html": [
       "<div>\n",
       "<style scoped>\n",
       "    .dataframe tbody tr th:only-of-type {\n",
       "        vertical-align: middle;\n",
       "    }\n",
       "\n",
       "    .dataframe tbody tr th {\n",
       "        vertical-align: top;\n",
       "    }\n",
       "\n",
       "    .dataframe thead th {\n",
       "        text-align: right;\n",
       "    }\n",
       "</style>\n",
       "<table border=\"1\" class=\"dataframe\">\n",
       "  <thead>\n",
       "    <tr style=\"text-align: right;\">\n",
       "      <th></th>\n",
       "      <th>count</th>\n",
       "      <th>mean</th>\n",
       "      <th>std</th>\n",
       "      <th>min</th>\n",
       "      <th>25%</th>\n",
       "      <th>50%</th>\n",
       "      <th>75%</th>\n",
       "      <th>max</th>\n",
       "    </tr>\n",
       "  </thead>\n",
       "  <tbody>\n",
       "    <tr>\n",
       "      <th>open</th>\n",
       "      <td>100.0</td>\n",
       "      <td>1.849278e+02</td>\n",
       "      <td>16.927358</td>\n",
       "      <td>135.41</td>\n",
       "      <td>1.756850e+02</td>\n",
       "      <td>1.894300e+02</td>\n",
       "      <td>1.965750e+02</td>\n",
       "      <td>2.100000e+02</td>\n",
       "    </tr>\n",
       "    <tr>\n",
       "      <th>high</th>\n",
       "      <td>100.0</td>\n",
       "      <td>1.877733e+02</td>\n",
       "      <td>15.622568</td>\n",
       "      <td>141.32</td>\n",
       "      <td>1.790425e+02</td>\n",
       "      <td>1.916350e+02</td>\n",
       "      <td>1.985625e+02</td>\n",
       "      <td>2.112350e+02</td>\n",
       "    </tr>\n",
       "    <tr>\n",
       "      <th>low</th>\n",
       "      <td>100.0</td>\n",
       "      <td>1.821881e+02</td>\n",
       "      <td>18.607216</td>\n",
       "      <td>124.60</td>\n",
       "      <td>1.725650e+02</td>\n",
       "      <td>1.878750e+02</td>\n",
       "      <td>1.954150e+02</td>\n",
       "      <td>2.082200e+02</td>\n",
       "    </tr>\n",
       "    <tr>\n",
       "      <th>close</th>\n",
       "      <td>100.0</td>\n",
       "      <td>1.852057e+02</td>\n",
       "      <td>17.350296</td>\n",
       "      <td>125.22</td>\n",
       "      <td>1.749700e+02</td>\n",
       "      <td>1.901350e+02</td>\n",
       "      <td>1.964875e+02</td>\n",
       "      <td>2.103100e+02</td>\n",
       "    </tr>\n",
       "    <tr>\n",
       "      <th>adj_close</th>\n",
       "      <td>100.0</td>\n",
       "      <td>1.848408e+02</td>\n",
       "      <td>17.156682</td>\n",
       "      <td>125.22</td>\n",
       "      <td>1.749700e+02</td>\n",
       "      <td>1.898467e+02</td>\n",
       "      <td>1.959331e+02</td>\n",
       "      <td>2.097167e+02</td>\n",
       "    </tr>\n",
       "    <tr>\n",
       "      <th>volume</th>\n",
       "      <td>100.0</td>\n",
       "      <td>1.515844e+06</td>\n",
       "      <td>694343.942243</td>\n",
       "      <td>249542.00</td>\n",
       "      <td>1.043104e+06</td>\n",
       "      <td>1.331408e+06</td>\n",
       "      <td>1.872716e+06</td>\n",
       "      <td>3.445269e+06</td>\n",
       "    </tr>\n",
       "    <tr>\n",
       "      <th>dividend</th>\n",
       "      <td>100.0</td>\n",
       "      <td>9.400000e-03</td>\n",
       "      <td>0.066131</td>\n",
       "      <td>0.00</td>\n",
       "      <td>0.000000e+00</td>\n",
       "      <td>0.000000e+00</td>\n",
       "      <td>0.000000e+00</td>\n",
       "      <td>4.700000e-01</td>\n",
       "    </tr>\n",
       "  </tbody>\n",
       "</table>\n",
       "</div>"
      ],
      "text/plain": [
       "           count          mean            std        min           25%  \\\n",
       "open       100.0  1.849278e+02      16.927358     135.41  1.756850e+02   \n",
       "high       100.0  1.877733e+02      15.622568     141.32  1.790425e+02   \n",
       "low        100.0  1.821881e+02      18.607216     124.60  1.725650e+02   \n",
       "close      100.0  1.852057e+02      17.350296     125.22  1.749700e+02   \n",
       "adj_close  100.0  1.848408e+02      17.156682     125.22  1.749700e+02   \n",
       "volume     100.0  1.515844e+06  694343.942243  249542.00  1.043104e+06   \n",
       "dividend   100.0  9.400000e-03       0.066131       0.00  0.000000e+00   \n",
       "\n",
       "                    50%           75%           max  \n",
       "open       1.894300e+02  1.965750e+02  2.100000e+02  \n",
       "high       1.916350e+02  1.985625e+02  2.112350e+02  \n",
       "low        1.878750e+02  1.954150e+02  2.082200e+02  \n",
       "close      1.901350e+02  1.964875e+02  2.103100e+02  \n",
       "adj_close  1.898467e+02  1.959331e+02  2.097167e+02  \n",
       "volume     1.331408e+06  1.872716e+06  3.445269e+06  \n",
       "dividend   0.000000e+00  0.000000e+00  4.700000e-01  "
      ]
     },
     "execution_count": 10,
     "metadata": {},
     "output_type": "execute_result"
    }
   ],
   "source": [
    "spy.describe().T"
   ]
  },
  {
   "cell_type": "code",
   "execution_count": 11,
   "metadata": {},
   "outputs": [
    {
     "ename": "AttributeError",
     "evalue": "'DataFrame' object has no attribute 'Volume'",
     "output_type": "error",
     "traceback": [
      "\u001b[0;31m---------------------------------------------------------------------------\u001b[0m",
      "\u001b[0;31mAttributeError\u001b[0m                            Traceback (most recent call last)",
      "\u001b[0;32m<ipython-input-11-5093f37f428f>\u001b[0m in \u001b[0;36m<module>\u001b[0;34m\u001b[0m\n\u001b[1;32m      1\u001b[0m \u001b[0mfig\u001b[0m\u001b[0;34m,\u001b[0m \u001b[0max\u001b[0m \u001b[0;34m=\u001b[0m \u001b[0mplt\u001b[0m\u001b[0;34m.\u001b[0m\u001b[0msubplots\u001b[0m\u001b[0;34m(\u001b[0m\u001b[0;36m2\u001b[0m\u001b[0;34m,\u001b[0m\u001b[0;36m2\u001b[0m\u001b[0;34m,\u001b[0m \u001b[0mfigsize\u001b[0m\u001b[0;34m=\u001b[0m\u001b[0;34m(\u001b[0m\u001b[0;36m10\u001b[0m\u001b[0;34m,\u001b[0m\u001b[0;36m7\u001b[0m\u001b[0;34m)\u001b[0m\u001b[0;34m)\u001b[0m\u001b[0;34m\u001b[0m\u001b[0;34m\u001b[0m\u001b[0m\n\u001b[1;32m      2\u001b[0m \u001b[0mfig\u001b[0m\u001b[0;34m.\u001b[0m\u001b[0mtight_layout\u001b[0m\u001b[0;34m(\u001b[0m\u001b[0;34m)\u001b[0m\u001b[0;34m\u001b[0m\u001b[0;34m\u001b[0m\u001b[0m\n\u001b[0;32m----> 3\u001b[0;31m \u001b[0max\u001b[0m\u001b[0;34m[\u001b[0m\u001b[0;36m0\u001b[0m\u001b[0;34m]\u001b[0m\u001b[0;34m[\u001b[0m\u001b[0;36m1\u001b[0m\u001b[0;34m]\u001b[0m\u001b[0;34m.\u001b[0m\u001b[0mplot\u001b[0m\u001b[0;34m(\u001b[0m\u001b[0mspy\u001b[0m\u001b[0;34m.\u001b[0m\u001b[0mVolume\u001b[0m\u001b[0;34m,\u001b[0m \u001b[0mcolor\u001b[0m\u001b[0;34m=\u001b[0m\u001b[0;34m'c'\u001b[0m\u001b[0;34m)\u001b[0m\u001b[0;34m\u001b[0m\u001b[0;34m\u001b[0m\u001b[0m\n\u001b[0m\u001b[1;32m      4\u001b[0m \u001b[0max\u001b[0m\u001b[0;34m[\u001b[0m\u001b[0;36m0\u001b[0m\u001b[0;34m]\u001b[0m\u001b[0;34m[\u001b[0m\u001b[0;36m1\u001b[0m\u001b[0;34m]\u001b[0m\u001b[0;34m.\u001b[0m\u001b[0mset_title\u001b[0m\u001b[0;34m(\u001b[0m\u001b[0;34m\"Volume\"\u001b[0m\u001b[0;34m)\u001b[0m\u001b[0;34m;\u001b[0m\u001b[0;34m\u001b[0m\u001b[0;34m\u001b[0m\u001b[0m\n\u001b[1;32m      5\u001b[0m \u001b[0;34m\u001b[0m\u001b[0m\n",
      "\u001b[0;32m/anaconda3/lib/python3.6/site-packages/pandas/core/generic.py\u001b[0m in \u001b[0;36m__getattr__\u001b[0;34m(self, name)\u001b[0m\n\u001b[1;32m   5177\u001b[0m             \u001b[0;32mif\u001b[0m \u001b[0mself\u001b[0m\u001b[0;34m.\u001b[0m\u001b[0m_info_axis\u001b[0m\u001b[0;34m.\u001b[0m\u001b[0m_can_hold_identifiers_and_holds_name\u001b[0m\u001b[0;34m(\u001b[0m\u001b[0mname\u001b[0m\u001b[0;34m)\u001b[0m\u001b[0;34m:\u001b[0m\u001b[0;34m\u001b[0m\u001b[0;34m\u001b[0m\u001b[0m\n\u001b[1;32m   5178\u001b[0m                 \u001b[0;32mreturn\u001b[0m \u001b[0mself\u001b[0m\u001b[0;34m[\u001b[0m\u001b[0mname\u001b[0m\u001b[0;34m]\u001b[0m\u001b[0;34m\u001b[0m\u001b[0;34m\u001b[0m\u001b[0m\n\u001b[0;32m-> 5179\u001b[0;31m             \u001b[0;32mreturn\u001b[0m \u001b[0mobject\u001b[0m\u001b[0;34m.\u001b[0m\u001b[0m__getattribute__\u001b[0m\u001b[0;34m(\u001b[0m\u001b[0mself\u001b[0m\u001b[0;34m,\u001b[0m \u001b[0mname\u001b[0m\u001b[0;34m)\u001b[0m\u001b[0;34m\u001b[0m\u001b[0;34m\u001b[0m\u001b[0m\n\u001b[0m\u001b[1;32m   5180\u001b[0m \u001b[0;34m\u001b[0m\u001b[0m\n\u001b[1;32m   5181\u001b[0m     \u001b[0;32mdef\u001b[0m \u001b[0m__setattr__\u001b[0m\u001b[0;34m(\u001b[0m\u001b[0mself\u001b[0m\u001b[0;34m,\u001b[0m \u001b[0mname\u001b[0m\u001b[0;34m,\u001b[0m \u001b[0mvalue\u001b[0m\u001b[0;34m)\u001b[0m\u001b[0;34m:\u001b[0m\u001b[0;34m\u001b[0m\u001b[0;34m\u001b[0m\u001b[0m\n",
      "\u001b[0;31mAttributeError\u001b[0m: 'DataFrame' object has no attribute 'Volume'"
     ]
    },
    {
     "data": {
      "image/png": "[encoded data removed]",
      "text/plain": [
       "<Figure size 720x504 with 4 Axes>"
      ]
     },
     "metadata": {
      "needs_background": "light"
     },
     "output_type": "display_data"
    }
   ],
   "source": [
    "fig, ax = plt.subplots(2,2, figsize=(10,7))\n",
    "fig.tight_layout()\n",
    "ax[0][1].plot(spy.Volume, color='c')\n",
    "ax[0][1].set_title(\"Volume\");\n",
    "\n",
    "ax[0][0].plot(spy.adj_close/spy.adj_close[0]/100);\n",
    "ax[0][0].set_title(\"Returns\");\n",
    "\n",
    "ax[1][1].plot(spy.Low, color='r')\n",
    "ax[1][1].set_title(\"Low\");\n",
    "\n",
    "ax[1][0].plot(spy.High, color='g')\n",
    "ax[1][0].set_title(\"High\");"
   ]
  },
  {
   "cell_type": "code",
   "execution_count": null,
   "metadata": {},
   "outputs": [],
   "source": [
    "plt.plot(spy.Close.rolling(14).std())\n",
    "np.mean(spy.Close.rolling(14).std())\n",
    "plt.hlines(np.mean(spy.Close.rolling(14).std()),0,len(spy))"
   ]
  },
  {
   "cell_type": "code",
   "execution_count": null,
   "metadata": {},
   "outputs": [],
   "source": [
    "def std_dev_percentile(x,window):\n",
    "    x=x.rolling(window).std().dropna().values\n",
    "    #print(x)\n",
    "    val=x[-1:]\n",
    "    return np.round(100*(np.where(np.sort(x)==val)[0][0]/len(x)),2),val\n"
   ]
  },
  {
   "cell_type": "code",
   "execution_count": null,
   "metadata": {},
   "outputs": [],
   "source": [
    "std_dev_percentile(spy.adj_close[-500:],10)"
   ]
  },
  {
   "cell_type": "code",
   "execution_count": 28,
   "metadata": {},
   "outputs": [],
   "source": [
    "def return_percentile_latest(x,window):\n",
    "    x=x/x.shift(window)-1\n",
    "    x=x.dropna().values\n",
    "    val=x[-1]\n",
    "    return np.round(100*(np.where(np.sort(x)==val)[0][0]/len(x)),2),val\n",
    "\n",
    "def return_percentile(x,window,val):\n",
    "    x=x/x.shift(window)-1\n",
    "    x=x.dropna()\n",
    "    return np.percentile(x,val)\n",
    "\n",
    "def get_percentile(x, t='latest',val=0):\n",
    "    if t=='latest':\n",
    "        x=x.dropna().values\n",
    "        val=x[-1]\n",
    "        return np.round(100*(np.where(np.sort(x)==val)[0][0]/len(x)),2),val\n",
    "    else:\n",
    "        return  np.percentile(np.sort(x),val)\n",
    "        "
   ]
  },
  {
   "cell_type": "code",
   "execution_count": null,
   "metadata": {},
   "outputs": [],
   "source": [
    "return_percentile_latest(spy.adj_close,3)#returns percentile and latest value, shift doesn't include current pos\n",
    "#return_percentile(spy.adj_close,3,1.6)"
   ]
  },
  {
   "cell_type": "markdown",
   "metadata": {},
   "source": [
    "### RSI"
   ]
  },
  {
   "cell_type": "code",
   "execution_count": null,
   "metadata": {},
   "outputs": [],
   "source": [
    "def RSI(series, period=14):\n",
    " print(len(series))\n",
    " delta = series.diff().dropna()\n",
    " u = delta * 0\n",
    " d = u.copy()\n",
    " u[delta > 0] = delta[delta > 0]\n",
    " d[delta < 0] = -delta[delta < 0]\n",
    " u[u.index[period-1]] = np.mean( u[:period] ) #first value is sum of avg gains\n",
    " u = u.drop(u.index[:(period-1)])\n",
    " d[d.index[period-1]] = np.mean( d[:period] ) #first value is sum of avg losses\n",
    " d = d.drop(d.index[:(period-1)])\n",
    " #rs = pd.stats.moments.ewma(u, com=period-1, adjust=False) / pd.stats.moments.ewma(d, com=period-1, adjust=False)\n",
    " rs = pd.Series.ewm(u, com=period-1).mean()/pd.Series.ewm(d, com=period-1).mean()\n",
    " return 100 - 100 / (1 + rs)"
   ]
  },
  {
   "cell_type": "code",
   "execution_count": null,
   "metadata": {},
   "outputs": [],
   "source": [
    "#spy.Close.rolling(14).apply(RSI, raw=False)\n",
    "#Graph\n",
    "#min max, %s \n",
    "#fit 14 vs 10\n",
    "#backtested profitability\n"
   ]
  },
  {
   "cell_type": "code",
   "execution_count": null,
   "metadata": {},
   "outputs": [],
   "source": [
    "rsi=RSI(spy.adj_close).dropna();"
   ]
  },
  {
   "cell_type": "code",
   "execution_count": null,
   "metadata": {},
   "outputs": [],
   "source": [
    "fig, ax= plt.subplots(2,1, figsize=(15,7))\n",
    "ax[0].plot(rsi)\n",
    "ax[0].hlines(70,0,len(spy), color='red')\n",
    "ax[0].hlines(30,0,len(spy), color='red')\n",
    "ax[1].plot(spy.adj_close);"
   ]
  },
  {
   "cell_type": "code",
   "execution_count": null,
   "metadata": {},
   "outputs": [],
   "source": [
    "print(\"Min RSI\", np.min(rsi))\n",
    "print(\"Max RSI\", np.max(rsi))\n",
    "print(\"Median RSI\", np.median(rsi))\n",
    "print(\"Std dev. RSI\", np.std(rsi))\n",
    "print(\"% of time below 20\", np.round(100*np.sum(np.where(rsi<20,1,0))/len(rsi),2))\n",
    "print(\"% of time below 30\", np.round(100*np.sum(np.where(rsi<30,1,0))/len(rsi),2))\n",
    "print(\"% of time above 70\", np.round(100*np.sum(np.where(rsi>70,1,0))/len(rsi),2))\n",
    "print(\"% of time above 80\", np.round(100*np.sum(np.where(rsi>80,1,0))/len(rsi),2))"
   ]
  },
  {
   "cell_type": "code",
   "execution_count": null,
   "metadata": {},
   "outputs": [],
   "source": [
    "rsi.describe()"
   ]
  },
  {
   "cell_type": "markdown",
   "metadata": {},
   "source": [
    "### MACD"
   ]
  },
  {
   "cell_type": "code",
   "execution_count": null,
   "metadata": {},
   "outputs": [],
   "source": [
    "macd=spy.adj_close.ewm(span=12,min_periods=0,adjust=True,ignore_na=True).mean()-spy.adj_close.ewm(span=26,min_periods=0,adjust=True,ignore_na=True).mean()"
   ]
  },
  {
   "cell_type": "code",
   "execution_count": null,
   "metadata": {},
   "outputs": [],
   "source": [
    "signal=macd.ewm(span=12,min_periods=0,adjust=True,ignore_na=True).mean()\n",
    "macd_hist=macd-signal"
   ]
  },
  {
   "cell_type": "code",
   "execution_count": null,
   "metadata": {},
   "outputs": [],
   "source": [
    "macd_hist.describe()"
   ]
  },
  {
   "cell_type": "code",
   "execution_count": null,
   "metadata": {},
   "outputs": [],
   "source": [
    "fig, ax= plt.subplots(2,1, figsize=(15,7))\n",
    "ax[0].plot(macd_hist)\n",
    "ax[0].hlines(np.percentile(macd_hist,75),0,len(spy), color='red')\n",
    "ax[0].hlines(np.percentile(macd_hist,25),0,len(spy), color='red')\n",
    "ax[1].plot(spy.adj_close);"
   ]
  },
  {
   "cell_type": "code",
   "execution_count": null,
   "metadata": {},
   "outputs": [],
   "source": [
    "spy['macd']=macd\n",
    "spy['macd_hist']=macd_hist"
   ]
  },
  {
   "cell_type": "code",
   "execution_count": null,
   "metadata": {},
   "outputs": [],
   "source": [
    "dspy['macd']=macd\n",
    "dspy['macd_hist']=macd_hist"
   ]
  },
  {
   "cell_type": "code",
   "execution_count": null,
   "metadata": {},
   "outputs": [],
   "source": [
    "def calcs(x):\n",
    "    print(x)\n",
    "    return 0"
   ]
  },
  {
   "cell_type": "code",
   "execution_count": null,
   "metadata": {},
   "outputs": [],
   "source": [
    "spy.macd[0]=-1"
   ]
  },
  {
   "cell_type": "code",
   "execution_count": null,
   "metadata": {},
   "outputs": [],
   "source": [
    "results=pd.DataFrame(columns=['start_date','end_date','entry_price','exit_price','is_long'])"
   ]
  },
  {
   "cell_type": "code",
   "execution_count": null,
   "metadata": {},
   "outputs": [],
   "source": [
    "def sign_change(x):\n",
    "    if np.sign(x[0]) == np.sign(x[1]):\n",
    "        return False\n",
    "    return True"
   ]
  },
  {
   "cell_type": "code",
   "execution_count": null,
   "metadata": {},
   "outputs": [],
   "source": [
    "#On sign change.\n",
    "has_position=False\n",
    "position_start_index=-1\n",
    "position_end_index=-1\n",
    "last=0\n",
    "is_long=False\n",
    "for index, row in spy.iterrows():\n",
    "    if  index == 0:\n",
    "        last=row.macd\n",
    "        continue\n",
    "    if sign_change([last,row.macd]):\n",
    "        #print(index)\n",
    "        if has_position:\n",
    "            #has_position=False #Uncommented for long only\n",
    "            #print(last, row.macd, index)\n",
    "            results=results.append({'start_date':spy.loc[position_start_index,'Date'],'end_date':spy.loc[index,'Date'],'entry_price':spy.loc[position_start_index,'adj_close'],'exit_price':spy.loc[index,'adj_close'],'is_long':is_long}, ignore_index=True)\n",
    "            if has_position:\n",
    "                position_start_index=index\n",
    "                if row.macd>0:\n",
    "                    is_long=True\n",
    "                else:\n",
    "                    is_long=False\n",
    "        \n",
    "        else:\n",
    "            has_position=True\n",
    "            position_start_index=index\n",
    "            if row.macd>0:\n",
    "                is_long=True\n",
    "            else:\n",
    "                is_long=False\n",
    "            \n",
    "                           \n",
    "    last=row.macd                 "
   ]
  },
  {
   "cell_type": "code",
   "execution_count": null,
   "metadata": {},
   "outputs": [],
   "source": [
    "#On sign change buy and below -x sell:\n",
    "has_position=False\n",
    "position_start_index=-1\n",
    "position_end_index=-1\n",
    "last=0\n",
    "is_long=False\n",
    "for index, row in spy.iterrows():\n",
    "    if  index == 0:\n",
    "        last=row.macd\n",
    "        continue\n",
    "    if has_position and row.macd<=-0.2:\n",
    "        #print(index)\n",
    "        #if has_position:\n",
    "            has_position=False #Uncommented for long only\n",
    "            #print(last, row.macd, index)\n",
    "            results=results.append({'start_date':spy.loc[position_start_index,'Date'],'end_date':spy.loc[index,'Date'],'entry_price':spy.loc[position_start_index,'adj_close'],'exit_price':spy.loc[index,'adj_close'],'is_long':is_long}, ignore_index=True)\n",
    "            \n",
    "    elif last<0 and row.macd>=0:\n",
    "            has_position=True\n",
    "            position_start_index=index\n",
    "            if row.macd>0:\n",
    "                is_long=True\n",
    "            else:\n",
    "                is_long=False\n",
    "            \n",
    "                           \n",
    "    last=row.macd                 "
   ]
  },
  {
   "cell_type": "code",
   "execution_count": null,
   "metadata": {},
   "outputs": [],
   "source": [
    "def calc_returns(x):\n",
    "    if x.is_long==True:\n",
    "        return np.round(100*(x.exit_price/x.entry_price-1),2)\n",
    "    return -1*np.round(100*(x.exit_price/x.entry_price-1),2)"
   ]
  },
  {
   "cell_type": "code",
   "execution_count": null,
   "metadata": {},
   "outputs": [],
   "source": [
    "#results['returns']=np.round(100*(results.exit_price/results.entry_price-1),2)\n",
    "results['returns']=results.apply(calc_returns, axis=1)"
   ]
  },
  {
   "cell_type": "code",
   "execution_count": null,
   "metadata": {},
   "outputs": [],
   "source": [
    "#results.sort_values(by='returns', ascending=False)\n",
    "results"
   ]
  },
  {
   "cell_type": "code",
   "execution_count": null,
   "metadata": {},
   "outputs": [],
   "source": [
    "results.returns.describe()"
   ]
  },
  {
   "cell_type": "code",
   "execution_count": null,
   "metadata": {},
   "outputs": [],
   "source": [
    "value_trend=[1000]\n",
    "for r in results.returns:\n",
    "    value_trend.append(value_trend[-1]*(1+r/100))"
   ]
  },
  {
   "cell_type": "code",
   "execution_count": null,
   "metadata": {},
   "outputs": [],
   "source": [
    "plt.plot(value_trend)"
   ]
  },
  {
   "cell_type": "code",
   "execution_count": null,
   "metadata": {},
   "outputs": [],
   "source": [
    "print(f'Returns (%) :', np.round(100*(value_trend[-1]/value_trend[0]-1)))\n",
    "print(f'SPY returns (%) :', np.round(100*(spy.adj_close[-1:]/spy.adj_close[0]-1)))"
   ]
  },
  {
   "cell_type": "code",
   "execution_count": null,
   "metadata": {},
   "outputs": [],
   "source": [
    "macd_pos=spy.macd[spy.macd>=0]\n",
    "macd_pos.describe()"
   ]
  },
  {
   "cell_type": "code",
   "execution_count": null,
   "metadata": {},
   "outputs": [],
   "source": [
    "macd_neg=spy.macd[spy.macd<=0]\n",
    "macd_neg.describe()"
   ]
  },
  {
   "cell_type": "code",
   "execution_count": null,
   "metadata": {},
   "outputs": [],
   "source": [
    "plt.hist(macd_pos, bins=10, alpha=0.6, color='g' ,label='Positives')\n",
    "plt.hist(macd_neg, bins=10, alpha=0.6, color='r' ,label='Negatives')\n",
    "plt.legend(loc='upper left');"
   ]
  },
  {
   "cell_type": "code",
   "execution_count": null,
   "metadata": {},
   "outputs": [],
   "source": [
    "get_percentile(macd_neg,t='val',val=10)"
   ]
  },
  {
   "cell_type": "code",
   "execution_count": null,
   "metadata": {},
   "outputs": [],
   "source": [
    "get_percentile(macd_neg)"
   ]
  },
  {
   "cell_type": "code",
   "execution_count": null,
   "metadata": {},
   "outputs": [],
   "source": [
    "# macd turning point\n",
    "#slopes\n",
    "#value at stage of cycle\n",
    "# cycle leegth vs depth "
   ]
  },
  {
   "cell_type": "code",
   "execution_count": null,
   "metadata": {},
   "outputs": [],
   "source": [
    "macd_results=pd.DataFrame(columns=['start_date','end_date','is_long','hist','length'])"
   ]
  },
  {
   "cell_type": "code",
   "execution_count": null,
   "metadata": {},
   "outputs": [],
   "source": [
    "#### MACD values per cycle\n",
    "w_macd=[]\n",
    "cycle_macd_hist=[]\n",
    "counter=1\n",
    "has_position=False\n",
    "position_start_index=-1\n",
    "position_end_index=-1\n",
    "last=0\n",
    "is_long=False\n",
    "for index, row in spy.iterrows():\n",
    "    if  index == 0:\n",
    "        last=-1#row[index+1].macd_hist\n",
    "        continue\n",
    "    if sign_change([last,row.macd_hist]):\n",
    "        #print(index)\n",
    "        if has_position:\n",
    "            #has_position=False #Uncommented for long only\n",
    "            #print(last, row.macd, index)\n",
    "            macd_results=macd_results.append({'start_date':spy.loc[position_start_index,'Date'],'end_date':spy.loc[index,'Date'],'is_long':is_long,'hist':cycle_macd_hist,'length':counter-1}, ignore_index=True)\n",
    "            counter=1\n",
    "            if has_position:\n",
    "                position_start_index=index\n",
    "                cycle_macd_hist=[]\n",
    "                cycle_macd_hist.append(row.macd_hist)\n",
    "                w_macd.append(counter*row.macd_hist)\n",
    "                counter+=1\n",
    "                if row.macd_hist>0:\n",
    "                    is_long=True\n",
    "                else:\n",
    "                    is_long=False\n",
    "                    \n",
    "        \n",
    "        else:\n",
    "            has_position=True\n",
    "            position_start_index=index\n",
    "            w_macd.append(counter*row.macd_hist)\n",
    "            counter+=1\n",
    "            cycle_macd_hist.append(row.macd_hist)\n",
    "            if row.macd_hist>0:\n",
    "                is_long=True\n",
    "            else:\n",
    "                is_long=False\n",
    "            \n",
    "    elif has_position:\n",
    "        cycle_macd_hist.append(row.macd_hist)\n",
    "        w_macd.append(counter*row.macd_hist)\n",
    "        counter+=1\n",
    "    last=row.macd_hist                 "
   ]
  },
  {
   "cell_type": "code",
   "execution_count": null,
   "metadata": {},
   "outputs": [],
   "source": [
    "macd_results"
   ]
  },
  {
   "cell_type": "code",
   "execution_count": null,
   "metadata": {},
   "outputs": [],
   "source": [
    "w_macd=np.asarray(w_macd)\n",
    "w_macd[-1:]"
   ]
  },
  {
   "cell_type": "code",
   "execution_count": null,
   "metadata": {},
   "outputs": [],
   "source": [
    "np.percentile(w_macd[w_macd<=0],0.5)"
   ]
  },
  {
   "cell_type": "markdown",
   "metadata": {},
   "source": [
    "### STO"
   ]
  },
  {
   "cell_type": "code",
   "execution_count": 12,
   "metadata": {},
   "outputs": [],
   "source": [
    "d={'function': 'STOCH','apikey':\"YEUC2DL0F7KC43PB\",'symbol':ticker,'interval':'daily','fastkperiod':22 }\n",
    "response = requests.get(\n",
    "        'https://www.alphavantage.co/query',\n",
    "        params=d,\n",
    "        )\n",
    "\n",
    "#https://www.alphavantage.co/query?function=STOCH&symbol=SPY&interval=weekly&apikey=YEUC2DL0F7KC43PB&fastkperiod=16"
   ]
  },
  {
   "cell_type": "code",
   "execution_count": 13,
   "metadata": {},
   "outputs": [],
   "source": [
    "slowk=[]\n",
    "slowd=[]\n",
    "for key, val in response.json()['Technical Analysis: STOCH'].items():\n",
    "    slowk.append(float(val['SlowK']))\n",
    "    slowd.append(float(val['SlowD']))"
   ]
  },
  {
   "cell_type": "code",
   "execution_count": 14,
   "metadata": {},
   "outputs": [],
   "source": [
    "sto=pd.DataFrame({'Date':list(response.json()['Technical Analysis: STOCH'].keys()),\n",
    "                 'k':slowk,\n",
    "                  'd':slowd\n",
    "                 })"
   ]
  },
  {
   "cell_type": "code",
   "execution_count": 15,
   "metadata": {},
   "outputs": [],
   "source": [
    "sto=sto.astype({'Date': 'datetime64'})"
   ]
  },
  {
   "cell_type": "code",
   "execution_count": 22,
   "metadata": {},
   "outputs": [],
   "source": [
    "spy=spy.merge(sto,left_on='Date',right_on='Date',how='left')"
   ]
  },
  {
   "cell_type": "code",
   "execution_count": 23,
   "metadata": {},
   "outputs": [],
   "source": [
    "spy['sto_diff']=spy['k']-spy['d']"
   ]
  },
  {
   "cell_type": "code",
   "execution_count": 24,
   "metadata": {},
   "outputs": [
    {
     "data": {
      "image/png": "[encoded data removed]",
      "text/plain": [
       "<Figure size 432x288 with 1 Axes>"
      ]
     },
     "metadata": {
      "needs_background": "light"
     },
     "output_type": "display_data"
    }
   ],
   "source": [
    "plt.hist(spy.sto_diff[spy.sto_diff>=0], bins=10, alpha=0.6, color='g' ,label='Positives')\n",
    "plt.hist(spy.sto_diff[spy.sto_diff<=0], bins=10, alpha=0.6, color='r' ,label='Negatives')\n",
    "plt.legend(loc='upper left');"
   ]
  },
  {
   "cell_type": "code",
   "execution_count": 25,
   "metadata": {},
   "outputs": [
    {
     "name": "stderr",
     "output_type": "stream",
     "text": [
      "/anaconda3/lib/python3.6/site-packages/numpy/lib/histograms.py:839: RuntimeWarning: invalid value encountered in greater_equal\n",
      "  keep = (tmp_a >= first_edge)\n",
      "/anaconda3/lib/python3.6/site-packages/numpy/lib/histograms.py:840: RuntimeWarning: invalid value encountered in less_equal\n",
      "  keep &= (tmp_a <= last_edge)\n"
     ]
    },
    {
     "data": {
      "image/png": "[encoded data removed]",
      "text/plain": [
       "<Figure size 720x288 with 1 Axes>"
      ]
     },
     "metadata": {
      "needs_background": "light"
     },
     "output_type": "display_data"
    }
   ],
   "source": [
    "plt.figure(figsize=(10,4))\n",
    "plt.hist(np.abs(spy.sto_diff), bins=15, histtype='step');"
   ]
  },
  {
   "cell_type": "code",
   "execution_count": 29,
   "metadata": {},
   "outputs": [
    {
     "data": {
      "text/plain": [
       "0.6176800000000015"
      ]
     },
     "execution_count": 29,
     "metadata": {},
     "output_type": "execute_result"
    }
   ],
   "source": [
    "get_percentile(np.abs(spy.sto_diff.dropna()),t='val',val=10)"
   ]
  },
  {
   "cell_type": "code",
   "execution_count": 30,
   "metadata": {},
   "outputs": [
    {
     "data": {
      "text/plain": [
       "-7.451359999999999"
      ]
     },
     "execution_count": 30,
     "metadata": {},
     "output_type": "execute_result"
    }
   ],
   "source": [
    "get_percentile(spy.sto_diff.dropna(),t='val',val=12)"
   ]
  },
  {
   "cell_type": "code",
   "execution_count": 31,
   "metadata": {},
   "outputs": [
    {
     "data": {
      "text/plain": [
       "20.195798000000025"
      ]
     },
     "execution_count": 31,
     "metadata": {},
     "output_type": "execute_result"
    }
   ],
   "source": [
    "get_percentile(spy.sto_diff[spy.sto_diff>=0].dropna(),t='val',val=99)"
   ]
  },
  {
   "cell_type": "code",
   "execution_count": 32,
   "metadata": {},
   "outputs": [
    {
     "data": {
      "text/plain": [
       "(24.55, -4.060500000000005)"
      ]
     },
     "execution_count": 32,
     "metadata": {},
     "output_type": "execute_result"
    }
   ],
   "source": [
    "get_percentile(spy.sto_diff)"
   ]
  },
  {
   "cell_type": "code",
   "execution_count": null,
   "metadata": {},
   "outputs": [],
   "source": [
    "spy.dropna().head(5)"
   ]
  },
  {
   "cell_type": "code",
   "execution_count": null,
   "metadata": {},
   "outputs": [],
   "source": [
    "results=pd.DataFrame(columns=['start_date','end_date','entry_price','exit_price','is_long'])"
   ]
  },
  {
   "cell_type": "code",
   "execution_count": null,
   "metadata": {},
   "outputs": [],
   "source": [
    "#On sign change.\n",
    "has_position=False\n",
    "position_start_index=-1\n",
    "position_end_index=-1\n",
    "last=0\n",
    "is_long=False\n",
    "for index, row in spy.dropna().iterrows():\n",
    "    if  index == 1847:\n",
    "        last=row.sto_diff\n",
    "        continue\n",
    "    if sign_change([last,row.sto_diff]):\n",
    "        #print(index)\n",
    "        if has_position:\n",
    "            #has_position=False \n",
    "            #print(last, row.macd, index)\n",
    "            results=results.append({'start_date':spy.loc[position_start_index,'Date'],'end_date':spy.loc[index,'Date'],'entry_price':spy.loc[position_start_index,'adj_close'],'exit_price':spy.loc[index,'adj_close'],'is_long':is_long}, ignore_index=True)\n",
    "            if has_position:\n",
    "                position_start_index=index\n",
    "                if row.sto_diff>0:\n",
    "                    is_long=True\n",
    "                else:\n",
    "                    is_long=False\n",
    "        \n",
    "        else:\n",
    "            has_position=True\n",
    "            position_start_index=index\n",
    "            if row.sto_diff>0:\n",
    "                is_long=True\n",
    "            else:\n",
    "                is_long=False\n",
    "            \n",
    "                           \n",
    "    last=row.sto_diff"
   ]
  },
  {
   "cell_type": "code",
   "execution_count": null,
   "metadata": {},
   "outputs": [],
   "source": [
    "def close_position(x,is_long):\n",
    "    if is_long and x> -6.80:\n",
    "        return False\n",
    "    elif ~is_long and x<0:\n",
    "        return True\n",
    "    return True"
   ]
  },
  {
   "cell_type": "code",
   "execution_count": null,
   "metadata": {},
   "outputs": [],
   "source": [
    "#On sign change buy and below -x sell:\n",
    "\n",
    "has_position=False\n",
    "position_start_index=-1\n",
    "position_end_index=-1\n",
    "last=0\n",
    "is_long=False\n",
    "for index, row in spy.dropna().iterrows():\n",
    "    if  index == 1847:\n",
    "        last=row.sto_diff\n",
    "        continue\n",
    "    if has_position and row.sto_diff<-6.8:#close_position(row.sto_diff,is_long):\n",
    "        #print(index)\n",
    "        #if has_position:\n",
    "            has_position=False #Uncommented for long only\n",
    "            #print(last, row.macd, index)\n",
    "            results=results.append({'start_date':spy.loc[position_start_index,'Date'],'end_date':spy.loc[index,'Date'],'entry_price':spy.loc[position_start_index,'adj_close'],'exit_price':spy.loc[index,'adj_close'],'is_long':is_long}, ignore_index=True)\n",
    "            if has_position:\n",
    "                position_start_index=index\n",
    "                if row.sto_diff>0:\n",
    "                    is_long=True\n",
    "                else:\n",
    "                    is_long=False\n",
    "            \n",
    "    elif ~has_position and last<0 and row.sto_diff>=0:# and index<=1852:\n",
    "\n",
    "            has_position=True\n",
    "            position_start_index=index\n",
    "            if row.sto_diff>0:\n",
    "                is_long=True\n",
    "            else:\n",
    "                is_long=False\n",
    "                         \n",
    "    last=row.sto_diff\n",
    "                               "
   ]
  },
  {
   "cell_type": "code",
   "execution_count": null,
   "metadata": {},
   "outputs": [],
   "source": [
    "results['returns']=results.apply(calc_returns, axis=1)"
   ]
  },
  {
   "cell_type": "code",
   "execution_count": null,
   "metadata": {},
   "outputs": [],
   "source": [
    "results#.tail(20)"
   ]
  },
  {
   "cell_type": "code",
   "execution_count": null,
   "metadata": {},
   "outputs": [],
   "source": [
    "results.returns.describe()"
   ]
  },
  {
   "cell_type": "code",
   "execution_count": null,
   "metadata": {},
   "outputs": [],
   "source": [
    "v=1000\n",
    "value_trend=[]\n",
    "for r in res:\n",
    "    value_trend.append(v*(1+r/100))\n",
    "    v=value_trend[-1]"
   ]
  },
  {
   "cell_type": "code",
   "execution_count": null,
   "metadata": {},
   "outputs": [],
   "source": [
    "v"
   ]
  },
  {
   "cell_type": "code",
   "execution_count": null,
   "metadata": {},
   "outputs": [],
   "source": [
    "plt.plot(value_trend)"
   ]
  },
  {
   "cell_type": "code",
   "execution_count": 34,
   "metadata": {},
   "outputs": [],
   "source": [
    "spy['k_change'] = spy.k/spy.k.shift(3)-1"
   ]
  },
  {
   "cell_type": "code",
   "execution_count": 35,
   "metadata": {},
   "outputs": [
    {
     "data": {
      "text/plain": [
       "-0.41633803731930286"
      ]
     },
     "execution_count": 35,
     "metadata": {},
     "output_type": "execute_result"
    }
   ],
   "source": [
    "get_percentile(spy.k_change.dropna(),'val',10)"
   ]
  },
  {
   "cell_type": "code",
   "execution_count": 44,
   "metadata": {},
   "outputs": [
    {
     "data": {
      "text/html": [
       "<div>\n",
       "<style scoped>\n",
       "    .dataframe tbody tr th:only-of-type {\n",
       "        vertical-align: middle;\n",
       "    }\n",
       "\n",
       "    .dataframe tbody tr th {\n",
       "        vertical-align: top;\n",
       "    }\n",
       "\n",
       "    .dataframe thead th {\n",
       "        text-align: right;\n",
       "    }\n",
       "</style>\n",
       "<table border=\"1\" class=\"dataframe\">\n",
       "  <thead>\n",
       "    <tr style=\"text-align: right;\">\n",
       "      <th></th>\n",
       "      <th>open</th>\n",
       "      <th>high</th>\n",
       "      <th>low</th>\n",
       "      <th>close</th>\n",
       "      <th>adj_close</th>\n",
       "      <th>volume</th>\n",
       "      <th>dividend</th>\n",
       "      <th>k</th>\n",
       "      <th>d</th>\n",
       "      <th>sto_diff</th>\n",
       "      <th>k_change</th>\n",
       "    </tr>\n",
       "    <tr>\n",
       "      <th>Date</th>\n",
       "      <th></th>\n",
       "      <th></th>\n",
       "      <th></th>\n",
       "      <th></th>\n",
       "      <th></th>\n",
       "      <th></th>\n",
       "      <th></th>\n",
       "      <th></th>\n",
       "      <th></th>\n",
       "      <th></th>\n",
       "      <th></th>\n",
       "    </tr>\n",
       "  </thead>\n",
       "  <tbody>\n",
       "    <tr>\n",
       "      <th>2018-07-12</th>\n",
       "      <td>142.67</td>\n",
       "      <td>142.8700</td>\n",
       "      <td>142.13</td>\n",
       "      <td>142.66</td>\n",
       "      <td>140.0498</td>\n",
       "      <td>543369.0</td>\n",
       "      <td>0.0</td>\n",
       "      <td>54.2249</td>\n",
       "      <td>51.8343</td>\n",
       "      <td>2.3906</td>\n",
       "      <td>0.297666</td>\n",
       "    </tr>\n",
       "    <tr>\n",
       "      <th>2018-07-13</th>\n",
       "      <td>142.85</td>\n",
       "      <td>143.4000</td>\n",
       "      <td>142.61</td>\n",
       "      <td>143.16</td>\n",
       "      <td>140.5406</td>\n",
       "      <td>670932.0</td>\n",
       "      <td>0.0</td>\n",
       "      <td>55.4630</td>\n",
       "      <td>53.6589</td>\n",
       "      <td>1.8041</td>\n",
       "      <td>0.109497</td>\n",
       "    </tr>\n",
       "    <tr>\n",
       "      <th>2018-07-16</th>\n",
       "      <td>143.26</td>\n",
       "      <td>143.4100</td>\n",
       "      <td>142.31</td>\n",
       "      <td>142.62</td>\n",
       "      <td>140.0105</td>\n",
       "      <td>689991.0</td>\n",
       "      <td>0.0</td>\n",
       "      <td>57.9815</td>\n",
       "      <td>55.8898</td>\n",
       "      <td>2.0917</td>\n",
       "      <td>0.130490</td>\n",
       "    </tr>\n",
       "    <tr>\n",
       "      <th>2018-07-17</th>\n",
       "      <td>142.41</td>\n",
       "      <td>144.0800</td>\n",
       "      <td>142.21</td>\n",
       "      <td>143.72</td>\n",
       "      <td>141.0904</td>\n",
       "      <td>664010.0</td>\n",
       "      <td>0.0</td>\n",
       "      <td>61.9074</td>\n",
       "      <td>58.4506</td>\n",
       "      <td>3.4568</td>\n",
       "      <td>0.141678</td>\n",
       "    </tr>\n",
       "    <tr>\n",
       "      <th>2018-07-18</th>\n",
       "      <td>144.00</td>\n",
       "      <td>144.5604</td>\n",
       "      <td>143.52</td>\n",
       "      <td>144.00</td>\n",
       "      <td>141.3652</td>\n",
       "      <td>770199.0</td>\n",
       "      <td>0.0</td>\n",
       "      <td>67.2537</td>\n",
       "      <td>62.3809</td>\n",
       "      <td>4.8728</td>\n",
       "      <td>0.212587</td>\n",
       "    </tr>\n",
       "    <tr>\n",
       "      <th>2018-07-19</th>\n",
       "      <td>143.15</td>\n",
       "      <td>143.6100</td>\n",
       "      <td>141.83</td>\n",
       "      <td>141.90</td>\n",
       "      <td>139.3037</td>\n",
       "      <td>1148959.0</td>\n",
       "      <td>0.0</td>\n",
       "      <td>67.5865</td>\n",
       "      <td>65.5826</td>\n",
       "      <td>2.0039</td>\n",
       "      <td>0.165656</td>\n",
       "    </tr>\n",
       "    <tr>\n",
       "      <th>2018-07-20</th>\n",
       "      <td>141.29</td>\n",
       "      <td>141.6200</td>\n",
       "      <td>140.58</td>\n",
       "      <td>140.91</td>\n",
       "      <td>138.3318</td>\n",
       "      <td>1028050.0</td>\n",
       "      <td>0.0</td>\n",
       "      <td>59.5274</td>\n",
       "      <td>64.7892</td>\n",
       "      <td>-5.2618</td>\n",
       "      <td>-0.038445</td>\n",
       "    </tr>\n",
       "    <tr>\n",
       "      <th>2018-07-23</th>\n",
       "      <td>140.94</td>\n",
       "      <td>141.0800</td>\n",
       "      <td>139.70</td>\n",
       "      <td>140.34</td>\n",
       "      <td>137.7722</td>\n",
       "      <td>877772.0</td>\n",
       "      <td>0.0</td>\n",
       "      <td>46.7063</td>\n",
       "      <td>57.9401</td>\n",
       "      <td>-11.2338</td>\n",
       "      <td>-0.305521</td>\n",
       "    </tr>\n",
       "    <tr>\n",
       "      <th>2018-07-24</th>\n",
       "      <td>141.12</td>\n",
       "      <td>141.6100</td>\n",
       "      <td>140.24</td>\n",
       "      <td>140.61</td>\n",
       "      <td>138.0373</td>\n",
       "      <td>899929.0</td>\n",
       "      <td>0.0</td>\n",
       "      <td>42.1909</td>\n",
       "      <td>49.4749</td>\n",
       "      <td>-7.2840</td>\n",
       "      <td>-0.375750</td>\n",
       "    </tr>\n",
       "    <tr>\n",
       "      <th>2018-07-25</th>\n",
       "      <td>140.66</td>\n",
       "      <td>141.7000</td>\n",
       "      <td>139.80</td>\n",
       "      <td>141.60</td>\n",
       "      <td>139.0092</td>\n",
       "      <td>1238480.0</td>\n",
       "      <td>0.0</td>\n",
       "      <td>46.6800</td>\n",
       "      <td>45.1924</td>\n",
       "      <td>1.4876</td>\n",
       "      <td>-0.215823</td>\n",
       "    </tr>\n",
       "    <tr>\n",
       "      <th>2018-07-26</th>\n",
       "      <td>142.13</td>\n",
       "      <td>143.1200</td>\n",
       "      <td>141.99</td>\n",
       "      <td>142.70</td>\n",
       "      <td>140.0890</td>\n",
       "      <td>919096.0</td>\n",
       "      <td>0.0</td>\n",
       "      <td>56.9395</td>\n",
       "      <td>48.6035</td>\n",
       "      <td>8.3360</td>\n",
       "      <td>0.219097</td>\n",
       "    </tr>\n",
       "  </tbody>\n",
       "</table>\n",
       "</div>"
      ],
      "text/plain": [
       "              open      high     low   close  adj_close     volume  dividend  \\\n",
       "Date                                                                           \n",
       "2018-07-12  142.67  142.8700  142.13  142.66   140.0498   543369.0       0.0   \n",
       "2018-07-13  142.85  143.4000  142.61  143.16   140.5406   670932.0       0.0   \n",
       "2018-07-16  143.26  143.4100  142.31  142.62   140.0105   689991.0       0.0   \n",
       "2018-07-17  142.41  144.0800  142.21  143.72   141.0904   664010.0       0.0   \n",
       "2018-07-18  144.00  144.5604  143.52  144.00   141.3652   770199.0       0.0   \n",
       "2018-07-19  143.15  143.6100  141.83  141.90   139.3037  1148959.0       0.0   \n",
       "2018-07-20  141.29  141.6200  140.58  140.91   138.3318  1028050.0       0.0   \n",
       "2018-07-23  140.94  141.0800  139.70  140.34   137.7722   877772.0       0.0   \n",
       "2018-07-24  141.12  141.6100  140.24  140.61   138.0373   899929.0       0.0   \n",
       "2018-07-25  140.66  141.7000  139.80  141.60   139.0092  1238480.0       0.0   \n",
       "2018-07-26  142.13  143.1200  141.99  142.70   140.0890   919096.0       0.0   \n",
       "\n",
       "                  k        d  sto_diff  k_change  \n",
       "Date                                              \n",
       "2018-07-12  54.2249  51.8343    2.3906  0.297666  \n",
       "2018-07-13  55.4630  53.6589    1.8041  0.109497  \n",
       "2018-07-16  57.9815  55.8898    2.0917  0.130490  \n",
       "2018-07-17  61.9074  58.4506    3.4568  0.141678  \n",
       "2018-07-18  67.2537  62.3809    4.8728  0.212587  \n",
       "2018-07-19  67.5865  65.5826    2.0039  0.165656  \n",
       "2018-07-20  59.5274  64.7892   -5.2618 -0.038445  \n",
       "2018-07-23  46.7063  57.9401  -11.2338 -0.305521  \n",
       "2018-07-24  42.1909  49.4749   -7.2840 -0.375750  \n",
       "2018-07-25  46.6800  45.1924    1.4876 -0.215823  \n",
       "2018-07-26  56.9395  48.6035    8.3360  0.219097  "
      ]
     },
     "execution_count": 44,
     "metadata": {},
     "output_type": "execute_result"
    }
   ],
   "source": [
    "spy.set_index('Date')['2018-7-12':'2018-7-26']"
   ]
  },
  {
   "cell_type": "code",
   "execution_count": null,
   "metadata": {},
   "outputs": [],
   "source": [
    "spy['ret']=100*(spy.adj_close.shift(-4)/spy.adj_close-1)"
   ]
  },
  {
   "cell_type": "code",
   "execution_count": null,
   "metadata": {},
   "outputs": [],
   "source": [
    "res=[]\n",
    "last=0\n",
    "for index, row in spy.dropna().iterrows():\n",
    "    if row.k>40 and spy.loc[last,'k']<40:\n",
    "        res.append(row.ret)\n",
    "        #print(row.Date, row.ret)\n",
    "    last=index            \n",
    "        "
   ]
  },
  {
   "cell_type": "code",
   "execution_count": null,
   "metadata": {},
   "outputs": [],
   "source": [
    "plt.hist(res);"
   ]
  },
  {
   "cell_type": "code",
   "execution_count": null,
   "metadata": {},
   "outputs": [],
   "source": [
    "pd.DataFrame(res).describe()"
   ]
  },
  {
   "cell_type": "markdown",
   "metadata": {},
   "source": [
    "### Slope"
   ]
  },
  {
   "cell_type": "code",
   "execution_count": null,
   "metadata": {},
   "outputs": [],
   "source": [
    "np.polyfit(x=[1,2,3,4],y=spy.adj_close.values[-4:],deg=1,full=False)"
   ]
  },
  {
   "cell_type": "code",
   "execution_count": null,
   "metadata": {},
   "outputs": [],
   "source": [
    "plt.plot([1,2,3,4],spy.adj_close.values[-4:])"
   ]
  },
  {
   "cell_type": "code",
   "execution_count": null,
   "metadata": {},
   "outputs": [],
   "source": []
  },
  {
   "cell_type": "code",
   "execution_count": null,
   "metadata": {},
   "outputs": [],
   "source": []
  },
  {
   "cell_type": "code",
   "execution_count": null,
   "metadata": {},
   "outputs": [],
   "source": []
  },
  {
   "cell_type": "code",
   "execution_count": null,
   "metadata": {},
   "outputs": [],
   "source": []
  },
  {
   "cell_type": "code",
   "execution_count": null,
   "metadata": {},
   "outputs": [],
   "source": []
  },
  {
   "cell_type": "code",
   "execution_count": null,
   "metadata": {},
   "outputs": [],
   "source": [
    "spy['std']=spy.Close.rolling(22).apply(np.std, raw=False)"
   ]
  },
  {
   "cell_type": "code",
   "execution_count": null,
   "metadata": {},
   "outputs": [],
   "source": [
    "spy=spy.set_index('Date')"
   ]
  },
  {
   "cell_type": "code",
   "execution_count": null,
   "metadata": {},
   "outputs": [],
   "source": [
    "spy.reset_index(inplace=True)"
   ]
  },
  {
   "cell_type": "markdown",
   "metadata": {},
   "source": [
    "#price drop, macd hist trough, macd level itself, vol, instead of AMCS signal cycle maybe holding cycle with <-0.3\n",
    "There will be bad signals, have to make yourown determination\n",
    "is down x% is what percentile of all x days, maybe VaR*\n",
    "Not trade high vol situations\n",
    "does it always cycle down\n",
    "can repeat with weekly & sto but maybe have to rely on *\n",
    "pressure release, mean reversion need of the process\n",
    "\n",
    "so looks like forget predictor, there is not even a good descriptor for quick changes. \n",
    "Maybe use vol to describe market, explore shorter MAs for high vol. \n",
    "A lot if your skill and estimation.\n",
    "sentiment maybe something from an unbiased or differentiated source \n",
    "stay long buy protection\n"
   ]
  }
 ],
 "metadata": {
  "kernelspec": {
   "display_name": "Python 3",
   "language": "python",
   "name": "python3"
  },
  "language_info": {
   "codemirror_mode": {
    "name": "ipython",
    "version": 3
   },
   "file_extension": ".py",
   "mimetype": "text/x-python",
   "name": "python",
   "nbconvert_exporter": "python",
   "pygments_lexer": "ipython3",
   "version": "3.6.9"
  }
 },
 "nbformat": 4,
 "nbformat_minor": 2
}

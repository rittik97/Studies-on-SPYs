{
 "cells": [
  {
   "cell_type": "code",
   "execution_count": 1,
   "metadata": {},
   "outputs": [],
   "source": [
    "import pandas as pd\n",
    "import numpy as np \n",
    "import matplotlib.pyplot as plt"
   ]
  },
  {
   "cell_type": "code",
   "execution_count": 2,
   "metadata": {},
   "outputs": [],
   "source": [
    "import requests"
   ]
  },
  {
   "cell_type": "code",
   "execution_count": 3,
   "metadata": {},
   "outputs": [],
   "source": [
    "ticker='ECL'\n",
    "d={'function': 'TIME_SERIES_DAILY_ADJUSTED','apikey':\"YEUC2DL0F7KC43PB\",'symbol':ticker,'outputsize':'full'}\n",
    "response = requests.get(\n",
    "        'https://www.alphavantage.co/query',\n",
    "        params=d,\n",
    "        )"
   ]
  },
  {
   "cell_type": "code",
   "execution_count": 4,
   "metadata": {},
   "outputs": [],
   "source": [
    "#open #high #low #close #adjusted close  #volume #dividend amount\n",
    "spy=[[],[],[],[],[],[],[]]\n",
    "for key, val in response.json()['Time Series (Daily)'].items():\n",
    "    spy[0].append(float(val['1. open']))\n",
    "    spy[1].append(float(val['2. high']))\n",
    "    spy[2].append(float(val['3. low']))\n",
    "    spy[3].append(float(val['4. close']))\n",
    "    spy[4].append(float(val['5. adjusted close']))\n",
    "    spy[5].append(float(val['6. volume']))\n",
    "    spy[6].append(float(val['7. dividend amount']))"
   ]
  },
  {
   "cell_type": "code",
   "execution_count": 5,
   "metadata": {},
   "outputs": [],
   "source": [
    "spy=pd.DataFrame({'Date':list(response.json()['Time Series (Daily)'].keys()),\n",
    "                 'open':spy[0],\n",
    "                  'high':spy[1],\n",
    "                  'low':spy[2],\n",
    "                  'close':spy[3],\n",
    "                  'adj_close':spy[4],\n",
    "                  'volume':spy[5],\n",
    "                  'dividend':spy[6],\n",
    "                 })\n",
    "spy=spy.astype({'Date': 'datetime64'})\n",
    "\n",
    "\n",
    "spy=spy.sort_values(by='Date')"
   ]
  },
  {
   "cell_type": "code",
   "execution_count": 6,
   "metadata": {},
   "outputs": [
    {
     "data": {
      "text/html": [
       "<div>\n",
       "<style scoped>\n",
       "    .dataframe tbody tr th:only-of-type {\n",
       "        vertical-align: middle;\n",
       "    }\n",
       "\n",
       "    .dataframe tbody tr th {\n",
       "        vertical-align: top;\n",
       "    }\n",
       "\n",
       "    .dataframe thead th {\n",
       "        text-align: right;\n",
       "    }\n",
       "</style>\n",
       "<table border=\"1\" class=\"dataframe\">\n",
       "  <thead>\n",
       "    <tr style=\"text-align: right;\">\n",
       "      <th></th>\n",
       "      <th>Date</th>\n",
       "      <th>open</th>\n",
       "      <th>high</th>\n",
       "      <th>low</th>\n",
       "      <th>close</th>\n",
       "      <th>adj_close</th>\n",
       "      <th>volume</th>\n",
       "      <th>dividend</th>\n",
       "    </tr>\n",
       "  </thead>\n",
       "  <tbody>\n",
       "    <tr>\n",
       "      <th>5032</th>\n",
       "      <td>2000-05-03</td>\n",
       "      <td>39.50</td>\n",
       "      <td>40.25</td>\n",
       "      <td>39.25</td>\n",
       "      <td>39.88</td>\n",
       "      <td>15.7222</td>\n",
       "      <td>662600.0</td>\n",
       "      <td>0.0</td>\n",
       "    </tr>\n",
       "    <tr>\n",
       "      <th>5031</th>\n",
       "      <td>2000-05-04</td>\n",
       "      <td>39.88</td>\n",
       "      <td>40.19</td>\n",
       "      <td>39.44</td>\n",
       "      <td>39.88</td>\n",
       "      <td>15.7222</td>\n",
       "      <td>409500.0</td>\n",
       "      <td>0.0</td>\n",
       "    </tr>\n",
       "    <tr>\n",
       "      <th>5030</th>\n",
       "      <td>2000-05-05</td>\n",
       "      <td>39.69</td>\n",
       "      <td>41.13</td>\n",
       "      <td>39.50</td>\n",
       "      <td>40.25</td>\n",
       "      <td>15.8680</td>\n",
       "      <td>420700.0</td>\n",
       "      <td>0.0</td>\n",
       "    </tr>\n",
       "    <tr>\n",
       "      <th>5029</th>\n",
       "      <td>2000-05-08</td>\n",
       "      <td>39.88</td>\n",
       "      <td>39.88</td>\n",
       "      <td>38.56</td>\n",
       "      <td>39.25</td>\n",
       "      <td>15.4738</td>\n",
       "      <td>356500.0</td>\n",
       "      <td>0.0</td>\n",
       "    </tr>\n",
       "    <tr>\n",
       "      <th>5028</th>\n",
       "      <td>2000-05-09</td>\n",
       "      <td>39.00</td>\n",
       "      <td>40.00</td>\n",
       "      <td>38.69</td>\n",
       "      <td>40.00</td>\n",
       "      <td>15.7695</td>\n",
       "      <td>502700.0</td>\n",
       "      <td>0.0</td>\n",
       "    </tr>\n",
       "  </tbody>\n",
       "</table>\n",
       "</div>"
      ],
      "text/plain": [
       "           Date   open   high    low  close  adj_close    volume  dividend\n",
       "5032 2000-05-03  39.50  40.25  39.25  39.88    15.7222  662600.0       0.0\n",
       "5031 2000-05-04  39.88  40.19  39.44  39.88    15.7222  409500.0       0.0\n",
       "5030 2000-05-05  39.69  41.13  39.50  40.25    15.8680  420700.0       0.0\n",
       "5029 2000-05-08  39.88  39.88  38.56  39.25    15.4738  356500.0       0.0\n",
       "5028 2000-05-09  39.00  40.00  38.69  40.00    15.7695  502700.0       0.0"
      ]
     },
     "execution_count": 6,
     "metadata": {},
     "output_type": "execute_result"
    }
   ],
   "source": [
    "spy.head()"
   ]
  },
  {
   "cell_type": "code",
   "execution_count": 7,
   "metadata": {},
   "outputs": [
    {
     "name": "stdout",
     "output_type": "stream",
     "text": [
      "<class 'pandas.core.frame.DataFrame'>\n",
      "Int64Index: 5033 entries, 5032 to 0\n",
      "Data columns (total 8 columns):\n",
      "Date         5033 non-null datetime64[ns]\n",
      "open         5033 non-null float64\n",
      "high         5033 non-null float64\n",
      "low          5033 non-null float64\n",
      "close        5033 non-null float64\n",
      "adj_close    5033 non-null float64\n",
      "volume       5033 non-null float64\n",
      "dividend     5033 non-null float64\n",
      "dtypes: datetime64[ns](1), float64(7)\n",
      "memory usage: 353.9 KB\n"
     ]
    }
   ],
   "source": [
    "spy.info()"
   ]
  },
  {
   "cell_type": "code",
   "execution_count": 8,
   "metadata": {},
   "outputs": [],
   "source": [
    "spy=spy.astype({'Date': 'datetime64'})"
   ]
  },
  {
   "cell_type": "code",
   "execution_count": 9,
   "metadata": {},
   "outputs": [],
   "source": [
    "dspy=spy.copy(deep=True)\n",
    "dspy.set_index('Date', inplace=True)"
   ]
  },
  {
   "cell_type": "code",
   "execution_count": 10,
   "metadata": {},
   "outputs": [
    {
     "data": {
      "text/html": [
       "<div>\n",
       "<style scoped>\n",
       "    .dataframe tbody tr th:only-of-type {\n",
       "        vertical-align: middle;\n",
       "    }\n",
       "\n",
       "    .dataframe tbody tr th {\n",
       "        vertical-align: top;\n",
       "    }\n",
       "\n",
       "    .dataframe thead th {\n",
       "        text-align: right;\n",
       "    }\n",
       "</style>\n",
       "<table border=\"1\" class=\"dataframe\">\n",
       "  <thead>\n",
       "    <tr style=\"text-align: right;\">\n",
       "      <th></th>\n",
       "      <th>count</th>\n",
       "      <th>mean</th>\n",
       "      <th>std</th>\n",
       "      <th>min</th>\n",
       "      <th>25%</th>\n",
       "      <th>50%</th>\n",
       "      <th>75%</th>\n",
       "      <th>max</th>\n",
       "    </tr>\n",
       "  </thead>\n",
       "  <tbody>\n",
       "    <tr>\n",
       "      <th>open</th>\n",
       "      <td>5033.0</td>\n",
       "      <td>7.450148e+01</td>\n",
       "      <td>4.655816e+01</td>\n",
       "      <td>24.1000</td>\n",
       "      <td>40.1500</td>\n",
       "      <td>48.8500</td>\n",
       "      <td>1.121600e+02</td>\n",
       "      <td>2.100000e+02</td>\n",
       "    </tr>\n",
       "    <tr>\n",
       "      <th>high</th>\n",
       "      <td>5033.0</td>\n",
       "      <td>7.513722e+01</td>\n",
       "      <td>4.689375e+01</td>\n",
       "      <td>24.3900</td>\n",
       "      <td>40.7900</td>\n",
       "      <td>49.3850</td>\n",
       "      <td>1.131300e+02</td>\n",
       "      <td>2.112350e+02</td>\n",
       "    </tr>\n",
       "    <tr>\n",
       "      <th>low</th>\n",
       "      <td>5033.0</td>\n",
       "      <td>7.386242e+01</td>\n",
       "      <td>4.621383e+01</td>\n",
       "      <td>23.7800</td>\n",
       "      <td>39.7500</td>\n",
       "      <td>48.4200</td>\n",
       "      <td>1.114500e+02</td>\n",
       "      <td>2.082200e+02</td>\n",
       "    </tr>\n",
       "    <tr>\n",
       "      <th>close</th>\n",
       "      <td>5033.0</td>\n",
       "      <td>7.453776e+01</td>\n",
       "      <td>4.657160e+01</td>\n",
       "      <td>24.0000</td>\n",
       "      <td>40.2500</td>\n",
       "      <td>48.9600</td>\n",
       "      <td>1.124100e+02</td>\n",
       "      <td>2.103100e+02</td>\n",
       "    </tr>\n",
       "    <tr>\n",
       "      <th>adj_close</th>\n",
       "      <td>5033.0</td>\n",
       "      <td>6.638077e+01</td>\n",
       "      <td>4.999350e+01</td>\n",
       "      <td>12.4527</td>\n",
       "      <td>27.4194</td>\n",
       "      <td>42.1686</td>\n",
       "      <td>1.062558e+02</td>\n",
       "      <td>2.097167e+02</td>\n",
       "    </tr>\n",
       "    <tr>\n",
       "      <th>volume</th>\n",
       "      <td>5033.0</td>\n",
       "      <td>1.165211e+06</td>\n",
       "      <td>1.012886e+06</td>\n",
       "      <td>97600.0000</td>\n",
       "      <td>648300.0000</td>\n",
       "      <td>944100.0000</td>\n",
       "      <td>1.406200e+06</td>\n",
       "      <td>2.694340e+07</td>\n",
       "    </tr>\n",
       "    <tr>\n",
       "      <th>dividend</th>\n",
       "      <td>5033.0</td>\n",
       "      <td>3.398569e-03</td>\n",
       "      <td>3.083804e-02</td>\n",
       "      <td>0.0000</td>\n",
       "      <td>0.0000</td>\n",
       "      <td>0.0000</td>\n",
       "      <td>0.000000e+00</td>\n",
       "      <td>4.700000e-01</td>\n",
       "    </tr>\n",
       "  </tbody>\n",
       "</table>\n",
       "</div>"
      ],
      "text/plain": [
       "            count          mean           std         min          25%  \\\n",
       "open       5033.0  7.450148e+01  4.655816e+01     24.1000      40.1500   \n",
       "high       5033.0  7.513722e+01  4.689375e+01     24.3900      40.7900   \n",
       "low        5033.0  7.386242e+01  4.621383e+01     23.7800      39.7500   \n",
       "close      5033.0  7.453776e+01  4.657160e+01     24.0000      40.2500   \n",
       "adj_close  5033.0  6.638077e+01  4.999350e+01     12.4527      27.4194   \n",
       "volume     5033.0  1.165211e+06  1.012886e+06  97600.0000  648300.0000   \n",
       "dividend   5033.0  3.398569e-03  3.083804e-02      0.0000       0.0000   \n",
       "\n",
       "                   50%           75%           max  \n",
       "open           48.8500  1.121600e+02  2.100000e+02  \n",
       "high           49.3850  1.131300e+02  2.112350e+02  \n",
       "low            48.4200  1.114500e+02  2.082200e+02  \n",
       "close          48.9600  1.124100e+02  2.103100e+02  \n",
       "adj_close      42.1686  1.062558e+02  2.097167e+02  \n",
       "volume     944100.0000  1.406200e+06  2.694340e+07  \n",
       "dividend        0.0000  0.000000e+00  4.700000e-01  "
      ]
     },
     "execution_count": 10,
     "metadata": {},
     "output_type": "execute_result"
    }
   ],
   "source": [
    "spy.describe().T"
   ]
  },
  {
   "cell_type": "code",
   "execution_count": 11,
   "metadata": {},
   "outputs": [
    {
     "data": {
      "image/png": "[encoded data removed]",
      "text/plain": [
       "<Figure size 720x504 with 4 Axes>"
      ]
     },
     "metadata": {
      "needs_background": "light"
     },
     "output_type": "display_data"
    }
   ],
   "source": [
    "fig, ax = plt.subplots(2,2, figsize=(10,7))\n",
    "fig.tight_layout()\n",
    "ax[0][1].plot(spy.volume, color='c')\n",
    "ax[0][1].set_title(\"volume\");\n",
    "\n",
    "ax[0][0].plot(spy.adj_close/spy.adj_close[0]/100);\n",
    "ax[0][0].set_title(\"Returns\");\n",
    "\n",
    "ax[1][1].plot(spy.low, color='r')\n",
    "ax[1][1].set_title(\"Low\");\n",
    "\n",
    "ax[1][0].plot(spy.high, color='g')\n",
    "ax[1][0].set_title(\"High\");"
   ]
  },
  {
   "cell_type": "code",
   "execution_count": 13,
   "metadata": {},
   "outputs": [
    {
     "data": {
      "text/plain": [
       "<matplotlib.collections.LineCollection at 0x1057dea20>"
      ]
     },
     "execution_count": 13,
     "metadata": {},
     "output_type": "execute_result"
    },
    {
     "data": {
      "image/png": "[encoded data removed]",
      "text/plain": [
       "<Figure size 432x288 with 1 Axes>"
      ]
     },
     "metadata": {
      "needs_background": "light"
     },
     "output_type": "display_data"
    }
   ],
   "source": [
    "plt.plot(spy.adj_close.rolling(14).std())\n",
    "np.mean(spy.adj_close.rolling(14).std())\n",
    "plt.hlines(np.mean(spy.adj_close.rolling(14).std()),0,len(spy))"
   ]
  },
  {
   "cell_type": "code",
   "execution_count": 14,
   "metadata": {},
   "outputs": [],
   "source": [
    "def std_dev_percentile(x,window):\n",
    "    x=x.rolling(window).std().dropna().values\n",
    "    #print(x)\n",
    "    val=x[-1:]\n",
    "    return np.round(100*(np.where(np.sort(x)==val)[0][0]/len(x)),2),val\n"
   ]
  },
  {
   "cell_type": "code",
   "execution_count": 15,
   "metadata": {},
   "outputs": [
    {
     "data": {
      "text/plain": [
       "(93.48, array([8.84314681]))"
      ]
     },
     "execution_count": 15,
     "metadata": {},
     "output_type": "execute_result"
    }
   ],
   "source": [
    "std_dev_percentile(spy.adj_close[-500:],10)"
   ]
  },
  {
   "cell_type": "code",
   "execution_count": 16,
   "metadata": {},
   "outputs": [],
   "source": [
    "def return_percentile_latest(x,window):\n",
    "    x=x/x.shift(window)-1\n",
    "    x=x.dropna().values\n",
    "    val=x[-1]\n",
    "    return np.round(100*(np.where(np.sort(x)==val)[0][0]/len(x)),2),val\n",
    "\n",
    "def return_percentile(x,window,val):\n",
    "    x=x/x.shift(window)-1\n",
    "    x=x.dropna()\n",
    "    return np.percentile(x,val)\n",
    "\n",
    "def get_percentile(x, t='latest',val=0):\n",
    "    if t=='latest':\n",
    "        x=x.dropna().values\n",
    "        val=x[-1]\n",
    "        return np.round(100*(np.where(np.sort(x)==val)[0][0]/len(x)),2),val\n",
    "    else:\n",
    "        return  np.percentile(np.sort(x),val)\n",
    "        "
   ]
  },
  {
   "cell_type": "code",
   "execution_count": 17,
   "metadata": {},
   "outputs": [
    {
     "data": {
      "text/plain": [
       "(75.81, 0.014470284237726228)"
      ]
     },
     "execution_count": 17,
     "metadata": {},
     "output_type": "execute_result"
    }
   ],
   "source": [
    "return_percentile_latest(spy.adj_close,3)#returns percentile and latest value, shift doesn't include current pos\n",
    "#return_percentile(spy.adj_close,3,1.6)"
   ]
  },
  {
   "cell_type": "markdown",
   "metadata": {},
   "source": [
    "### RSI"
   ]
  },
  {
   "cell_type": "code",
   "execution_count": 18,
   "metadata": {},
   "outputs": [],
   "source": [
    "def RSI(series, period=14):\n",
    " print(len(series))\n",
    " delta = series.diff().dropna()\n",
    " u = delta * 0\n",
    " d = u.copy()\n",
    " u[delta > 0] = delta[delta > 0]\n",
    " d[delta < 0] = -delta[delta < 0]\n",
    " u[u.index[period-1]] = np.mean( u[:period] ) #first value is sum of avg gains\n",
    " u = u.drop(u.index[:(period-1)])\n",
    " d[d.index[period-1]] = np.mean( d[:period] ) #first value is sum of avg losses\n",
    " d = d.drop(d.index[:(period-1)])\n",
    " #rs = pd.stats.moments.ewma(u, com=period-1, adjust=False) / pd.stats.moments.ewma(d, com=period-1, adjust=False)\n",
    " rs = pd.Series.ewm(u, com=period-1).mean()/pd.Series.ewm(d, com=period-1).mean()\n",
    " return 100 - 100 / (1 + rs)"
   ]
  },
  {
   "cell_type": "code",
   "execution_count": 19,
   "metadata": {},
   "outputs": [],
   "source": [
    "#spy.Close.rolling(14).apply(RSI, raw=False)\n",
    "#Graph\n",
    "#min max, %s \n",
    "#fit 14 vs 10\n",
    "#backtested profitability\n"
   ]
  },
  {
   "cell_type": "code",
   "execution_count": 20,
   "metadata": {},
   "outputs": [
    {
     "name": "stdout",
     "output_type": "stream",
     "text": [
      "5033\n"
     ]
    }
   ],
   "source": [
    "rsi=RSI(spy.adj_close).dropna();"
   ]
  },
  {
   "cell_type": "code",
   "execution_count": 21,
   "metadata": {},
   "outputs": [
    {
     "data": {
      "image/png": "[encoded data removed]",
      "text/plain": [
       "<Figure size 1080x504 with 2 Axes>"
      ]
     },
     "metadata": {
      "needs_background": "light"
     },
     "output_type": "display_data"
    }
   ],
   "source": [
    "fig, ax= plt.subplots(2,1, figsize=(15,7))\n",
    "ax[0].plot(rsi)\n",
    "ax[0].hlines(70,0,len(spy), color='red')\n",
    "ax[0].hlines(30,0,len(spy), color='red')\n",
    "ax[1].plot(spy.adj_close);"
   ]
  },
  {
   "cell_type": "code",
   "execution_count": 22,
   "metadata": {},
   "outputs": [
    {
     "name": "stdout",
     "output_type": "stream",
     "text": [
      "Min RSI 10.928063733236925\n",
      "Max RSI 85.79658663632947\n",
      "Median RSI 53.5856220621764\n",
      "Std dev. RSI 10.391333391055909\n",
      "% of time below 20 0.1\n",
      "% of time below 30 1.24\n",
      "% of time above 70 5.46\n",
      "% of time above 80 0.46\n"
     ]
    }
   ],
   "source": [
    "print(\"Min RSI\", np.min(rsi))\n",
    "print(\"Max RSI\", np.max(rsi))\n",
    "print(\"Median RSI\", np.median(rsi))\n",
    "print(\"Std dev. RSI\", np.std(rsi))\n",
    "print(\"% of time below 20\", np.round(100*np.sum(np.where(rsi<20,1,0))/len(rsi),2))\n",
    "print(\"% of time below 30\", np.round(100*np.sum(np.where(rsi<30,1,0))/len(rsi),2))\n",
    "print(\"% of time above 70\", np.round(100*np.sum(np.where(rsi>70,1,0))/len(rsi),2))\n",
    "print(\"% of time above 80\", np.round(100*np.sum(np.where(rsi>80,1,0))/len(rsi),2))"
   ]
  },
  {
   "cell_type": "code",
   "execution_count": 23,
   "metadata": {},
   "outputs": [
    {
     "data": {
      "text/plain": [
       "count    5019.000000\n",
       "mean       53.465568\n",
       "std        10.392369\n",
       "min        10.928064\n",
       "25%        46.411762\n",
       "50%        53.585622\n",
       "75%        60.617256\n",
       "max        85.796587\n",
       "Name: adj_close, dtype: float64"
      ]
     },
     "execution_count": 23,
     "metadata": {},
     "output_type": "execute_result"
    }
   ],
   "source": [
    "rsi.describe()"
   ]
  },
  {
   "cell_type": "code",
   "execution_count": 24,
   "metadata": {},
   "outputs": [
    {
     "data": {
      "text/plain": [
       "(78.36, 61.695723749213364)"
      ]
     },
     "execution_count": 24,
     "metadata": {},
     "output_type": "execute_result"
    }
   ],
   "source": [
    "get_percentile(rsi)"
   ]
  },
  {
   "cell_type": "markdown",
   "metadata": {},
   "source": [
    "### MACD"
   ]
  },
  {
   "cell_type": "code",
   "execution_count": 25,
   "metadata": {},
   "outputs": [],
   "source": [
    "macd=spy.adj_close.ewm(span=12,min_periods=0,adjust=True,ignore_na=True).mean()-spy.adj_close.ewm(span=26,min_periods=0,adjust=True,ignore_na=True).mean()"
   ]
  },
  {
   "cell_type": "code",
   "execution_count": 26,
   "metadata": {},
   "outputs": [],
   "source": [
    "signal=macd.ewm(span=12,min_periods=0,adjust=True,ignore_na=True).mean()\n",
    "macd_hist=macd-signal"
   ]
  },
  {
   "cell_type": "code",
   "execution_count": 27,
   "metadata": {},
   "outputs": [
    {
     "data": {
      "text/plain": [
       "count    5033.000000\n",
       "mean        0.004127\n",
       "std         0.476563\n",
       "min        -6.789330\n",
       "25%        -0.129517\n",
       "50%        -0.002045\n",
       "75%         0.134543\n",
       "max         5.292967\n",
       "Name: adj_close, dtype: float64"
      ]
     },
     "execution_count": 27,
     "metadata": {},
     "output_type": "execute_result"
    }
   ],
   "source": [
    "macd_hist.describe()"
   ]
  },
  {
   "cell_type": "code",
   "execution_count": 28,
   "metadata": {},
   "outputs": [
    {
     "data": {
      "image/png": "[encoded data removed]",
      "text/plain": [
       "<Figure size 1080x504 with 2 Axes>"
      ]
     },
     "metadata": {
      "needs_background": "light"
     },
     "output_type": "display_data"
    }
   ],
   "source": [
    "fig, ax= plt.subplots(2,1, figsize=(15,7))\n",
    "ax[0].plot(macd_hist)\n",
    "ax[0].hlines(np.percentile(macd_hist,75),0,len(spy), color='red')\n",
    "ax[0].hlines(np.percentile(macd_hist,25),0,len(spy), color='red')\n",
    "ax[1].plot(spy.adj_close);"
   ]
  },
  {
   "cell_type": "code",
   "execution_count": 29,
   "metadata": {},
   "outputs": [],
   "source": [
    "spy['macd']=macd\n",
    "spy['macd_hist']=macd_hist"
   ]
  },
  {
   "cell_type": "code",
   "execution_count": 30,
   "metadata": {},
   "outputs": [],
   "source": [
    "dspy['macd']=macd\n",
    "dspy['macd_hist']=macd_hist"
   ]
  },
  {
   "cell_type": "code",
   "execution_count": 31,
   "metadata": {},
   "outputs": [],
   "source": [
    "def calcs(x):\n",
    "    print(x)\n",
    "    return 0"
   ]
  },
  {
   "cell_type": "code",
   "execution_count": 32,
   "metadata": {},
   "outputs": [
    {
     "name": "stderr",
     "output_type": "stream",
     "text": [
      "/anaconda3/lib/python3.6/site-packages/ipykernel_launcher.py:1: SettingWithCopyWarning: \n",
      "A value is trying to be set on a copy of a slice from a DataFrame\n",
      "\n",
      "See the caveats in the documentation: http://pandas.pydata.org/pandas-docs/stable/user_guide/indexing.html#returning-a-view-versus-a-copy\n",
      "  \"\"\"Entry point for launching an IPython kernel.\n"
     ]
    }
   ],
   "source": [
    "spy.macd[0]=-1"
   ]
  },
  {
   "cell_type": "code",
   "execution_count": 33,
   "metadata": {},
   "outputs": [],
   "source": [
    "results=pd.DataFrame(columns=['start_date','end_date','entry_price','exit_price','is_long'])"
   ]
  },
  {
   "cell_type": "code",
   "execution_count": 34,
   "metadata": {},
   "outputs": [],
   "source": [
    "def sign_change(x):\n",
    "    if np.sign(x[0]) == np.sign(x[1]):\n",
    "        return False\n",
    "    return True"
   ]
  },
  {
   "cell_type": "code",
   "execution_count": 37,
   "metadata": {},
   "outputs": [],
   "source": [
    "#On sign change.\n",
    "has_position=False\n",
    "position_start_index=-1\n",
    "position_end_index=-1\n",
    "last=0\n",
    "is_long=False\n",
    "for index, row in spy.iterrows():\n",
    "    if  index == 0:\n",
    "        last=row.macd\n",
    "        continue\n",
    "    if sign_change([last,row.macd]):\n",
    "        #print(index)\n",
    "        if has_position:\n",
    "            #has_position=False #Uncommented for long only\n",
    "            #print(last, row.macd, index)\n",
    "            results=results.append({'start_date':spy.loc[position_start_index,'Date'],'end_date':spy.loc[index,'Date'],'entry_price':spy.loc[position_start_index,'adj_close'],'exit_price':spy.loc[index,'adj_close'],'is_long':is_long}, ignore_index=True)\n",
    "            if has_position:\n",
    "                position_start_index=index\n",
    "                if row.macd>0:\n",
    "                    is_long=True\n",
    "                else:\n",
    "                    is_long=False\n",
    "        \n",
    "        else:\n",
    "            has_position=True\n",
    "            position_start_index=index\n",
    "            if row.macd>0:\n",
    "                is_long=True\n",
    "            else:\n",
    "                is_long=False\n",
    "            \n",
    "                           \n",
    "    last=row.macd                 "
   ]
  },
  {
   "cell_type": "code",
   "execution_count": null,
   "metadata": {},
   "outputs": [],
   "source": [
    "#On sign change buy and below -x sell:\n",
    "has_position=False\n",
    "position_start_index=-1\n",
    "position_end_index=-1\n",
    "last=0\n",
    "is_long=False\n",
    "for index, row in spy.iterrows():\n",
    "    if  index == 0:\n",
    "        last=row.macd\n",
    "        continue\n",
    "    if has_position and row.macd<=-0.2:\n",
    "        #print(index)\n",
    "        #if has_position:\n",
    "            has_position=False #Uncommented for long only\n",
    "            #print(last, row.macd, index)\n",
    "            results=results.append({'start_date':spy.loc[position_start_index,'Date'],'end_date':spy.loc[index,'Date'],'entry_price':spy.loc[position_start_index,'adj_close'],'exit_price':spy.loc[index,'adj_close'],'is_long':is_long}, ignore_index=True)\n",
    "            \n",
    "    elif last<0 and row.macd>=0:\n",
    "            has_position=True\n",
    "            position_start_index=index\n",
    "            if row.macd>0:\n",
    "                is_long=True\n",
    "            else:\n",
    "                is_long=False\n",
    "            \n",
    "                           \n",
    "    last=row.macd                 "
   ]
  },
  {
   "cell_type": "code",
   "execution_count": 35,
   "metadata": {},
   "outputs": [],
   "source": [
    "def calc_returns(x):\n",
    "    if x.is_long==True:\n",
    "        return np.round(100*(x.exit_price/x.entry_price-1),2)\n",
    "    return -1*np.round(100*(x.exit_price/x.entry_price-1),2)"
   ]
  },
  {
   "cell_type": "code",
   "execution_count": 38,
   "metadata": {},
   "outputs": [],
   "source": [
    "#results['returns']=np.round(100*(results.exit_price/results.entry_price-1),2)\n",
    "results['returns']=results.apply(calc_returns, axis=1)"
   ]
  },
  {
   "cell_type": "code",
   "execution_count": 39,
   "metadata": {},
   "outputs": [
    {
     "data": {
      "text/html": [
       "<div>\n",
       "<style scoped>\n",
       "    .dataframe tbody tr th:only-of-type {\n",
       "        vertical-align: middle;\n",
       "    }\n",
       "\n",
       "    .dataframe tbody tr th {\n",
       "        vertical-align: top;\n",
       "    }\n",
       "\n",
       "    .dataframe thead th {\n",
       "        text-align: right;\n",
       "    }\n",
       "</style>\n",
       "<table border=\"1\" class=\"dataframe\">\n",
       "  <thead>\n",
       "    <tr style=\"text-align: right;\">\n",
       "      <th></th>\n",
       "      <th>start_date</th>\n",
       "      <th>end_date</th>\n",
       "      <th>entry_price</th>\n",
       "      <th>exit_price</th>\n",
       "      <th>is_long</th>\n",
       "      <th>returns</th>\n",
       "    </tr>\n",
       "  </thead>\n",
       "  <tbody>\n",
       "    <tr>\n",
       "      <th>0</th>\n",
       "      <td>2000-05-05</td>\n",
       "      <td>2000-05-08</td>\n",
       "      <td>15.8680</td>\n",
       "      <td>15.4738</td>\n",
       "      <td>True</td>\n",
       "      <td>-2.48</td>\n",
       "    </tr>\n",
       "    <tr>\n",
       "      <th>1</th>\n",
       "      <td>2000-05-08</td>\n",
       "      <td>2000-05-10</td>\n",
       "      <td>15.4738</td>\n",
       "      <td>15.7695</td>\n",
       "      <td>False</td>\n",
       "      <td>-1.91</td>\n",
       "    </tr>\n",
       "    <tr>\n",
       "      <th>2</th>\n",
       "      <td>2000-05-10</td>\n",
       "      <td>2000-05-18</td>\n",
       "      <td>15.7695</td>\n",
       "      <td>15.4501</td>\n",
       "      <td>True</td>\n",
       "      <td>-2.03</td>\n",
       "    </tr>\n",
       "    <tr>\n",
       "      <th>3</th>\n",
       "      <td>2000-05-18</td>\n",
       "      <td>2000-07-03</td>\n",
       "      <td>15.4501</td>\n",
       "      <td>15.8206</td>\n",
       "      <td>False</td>\n",
       "      <td>-2.40</td>\n",
       "    </tr>\n",
       "    <tr>\n",
       "      <th>4</th>\n",
       "      <td>2000-07-03</td>\n",
       "      <td>2000-07-14</td>\n",
       "      <td>15.8206</td>\n",
       "      <td>14.6854</td>\n",
       "      <td>True</td>\n",
       "      <td>-7.18</td>\n",
       "    </tr>\n",
       "    <tr>\n",
       "      <th>...</th>\n",
       "      <td>...</td>\n",
       "      <td>...</td>\n",
       "      <td>...</td>\n",
       "      <td>...</td>\n",
       "      <td>...</td>\n",
       "      <td>...</td>\n",
       "    </tr>\n",
       "    <tr>\n",
       "      <th>215</th>\n",
       "      <td>2018-12-17</td>\n",
       "      <td>2019-01-18</td>\n",
       "      <td>147.7403</td>\n",
       "      <td>152.5386</td>\n",
       "      <td>False</td>\n",
       "      <td>-3.25</td>\n",
       "    </tr>\n",
       "    <tr>\n",
       "      <th>216</th>\n",
       "      <td>2019-01-18</td>\n",
       "      <td>2019-09-11</td>\n",
       "      <td>152.5386</td>\n",
       "      <td>195.6695</td>\n",
       "      <td>True</td>\n",
       "      <td>28.28</td>\n",
       "    </tr>\n",
       "    <tr>\n",
       "      <th>217</th>\n",
       "      <td>2019-09-11</td>\n",
       "      <td>2019-12-20</td>\n",
       "      <td>195.6695</td>\n",
       "      <td>190.6805</td>\n",
       "      <td>False</td>\n",
       "      <td>2.55</td>\n",
       "    </tr>\n",
       "    <tr>\n",
       "      <th>218</th>\n",
       "      <td>2019-12-20</td>\n",
       "      <td>2020-02-27</td>\n",
       "      <td>190.6805</td>\n",
       "      <td>182.9623</td>\n",
       "      <td>True</td>\n",
       "      <td>-4.05</td>\n",
       "    </tr>\n",
       "    <tr>\n",
       "      <th>219</th>\n",
       "      <td>2020-02-27</td>\n",
       "      <td>2020-04-17</td>\n",
       "      <td>182.9623</td>\n",
       "      <td>178.7500</td>\n",
       "      <td>False</td>\n",
       "      <td>2.30</td>\n",
       "    </tr>\n",
       "  </tbody>\n",
       "</table>\n",
       "<p>220 rows × 6 columns</p>\n",
       "</div>"
      ],
      "text/plain": [
       "    start_date   end_date  entry_price  exit_price is_long  returns\n",
       "0   2000-05-05 2000-05-08      15.8680     15.4738    True    -2.48\n",
       "1   2000-05-08 2000-05-10      15.4738     15.7695   False    -1.91\n",
       "2   2000-05-10 2000-05-18      15.7695     15.4501    True    -2.03\n",
       "3   2000-05-18 2000-07-03      15.4501     15.8206   False    -2.40\n",
       "4   2000-07-03 2000-07-14      15.8206     14.6854    True    -7.18\n",
       "..         ...        ...          ...         ...     ...      ...\n",
       "215 2018-12-17 2019-01-18     147.7403    152.5386   False    -3.25\n",
       "216 2019-01-18 2019-09-11     152.5386    195.6695    True    28.28\n",
       "217 2019-09-11 2019-12-20     195.6695    190.6805   False     2.55\n",
       "218 2019-12-20 2020-02-27     190.6805    182.9623    True    -4.05\n",
       "219 2020-02-27 2020-04-17     182.9623    178.7500   False     2.30\n",
       "\n",
       "[220 rows x 6 columns]"
      ]
     },
     "execution_count": 39,
     "metadata": {},
     "output_type": "execute_result"
    }
   ],
   "source": [
    "#results.sort_values(by='returns', ascending=False)\n",
    "results"
   ]
  },
  {
   "cell_type": "code",
   "execution_count": 40,
   "metadata": {},
   "outputs": [
    {
     "data": {
      "text/plain": [
       "count    220.000000\n",
       "mean      -0.935091\n",
       "std        5.002550\n",
       "min       -8.880000\n",
       "25%       -3.420000\n",
       "50%       -1.950000\n",
       "75%       -0.530000\n",
       "max       28.280000\n",
       "Name: returns, dtype: float64"
      ]
     },
     "execution_count": 40,
     "metadata": {},
     "output_type": "execute_result"
    }
   ],
   "source": [
    "results.returns.describe()"
   ]
  },
  {
   "cell_type": "code",
   "execution_count": 41,
   "metadata": {},
   "outputs": [],
   "source": [
    "value_trend=[1000]\n",
    "for r in results.returns:\n",
    "    value_trend.append(value_trend[-1]*(1+r/100))"
   ]
  },
  {
   "cell_type": "code",
   "execution_count": 42,
   "metadata": {},
   "outputs": [
    {
     "data": {
      "text/plain": [
       "[<matplotlib.lines.Line2D at 0x11b3444e0>]"
      ]
     },
     "execution_count": 42,
     "metadata": {},
     "output_type": "execute_result"
    },
    {
     "data": {
      "image/png": "[encoded data removed]",
      "text/plain": [
       "<Figure size 432x288 with 1 Axes>"
      ]
     },
     "metadata": {
      "needs_background": "light"
     },
     "output_type": "display_data"
    }
   ],
   "source": [
    "plt.plot(value_trend)"
   ]
  },
  {
   "cell_type": "code",
   "execution_count": 43,
   "metadata": {},
   "outputs": [
    {
     "name": "stdout",
     "output_type": "stream",
     "text": [
      "Returns (%) : -90.0\n",
      "SPY returns (%) : 0    0.0\n",
      "Name: adj_close, dtype: float64\n"
     ]
    }
   ],
   "source": [
    "print(f'Returns (%) :', np.round(100*(value_trend[-1]/value_trend[0]-1)))\n",
    "print(f'SPY returns (%) :', np.round(100*(spy.adj_close[-1:]/spy.adj_close[0]-1)))"
   ]
  },
  {
   "cell_type": "code",
   "execution_count": 44,
   "metadata": {},
   "outputs": [
    {
     "data": {
      "text/plain": [
       "count    3187.000000\n",
       "mean        0.679955\n",
       "std         0.761563\n",
       "min         0.000000\n",
       "25%         0.180117\n",
       "50%         0.440867\n",
       "75%         0.879537\n",
       "max         6.397683\n",
       "Name: macd, dtype: float64"
      ]
     },
     "execution_count": 44,
     "metadata": {},
     "output_type": "execute_result"
    }
   ],
   "source": [
    "macd_pos=spy.macd[spy.macd>=0]\n",
    "macd_pos.describe()"
   ]
  },
  {
   "cell_type": "code",
   "execution_count": 45,
   "metadata": {},
   "outputs": [
    {
     "data": {
      "text/plain": [
       "count    1848.000000\n",
       "mean       -0.572572\n",
       "std         1.149115\n",
       "min       -13.932557\n",
       "25%        -0.582250\n",
       "50%        -0.234020\n",
       "75%        -0.101813\n",
       "max         0.000000\n",
       "Name: macd, dtype: float64"
      ]
     },
     "execution_count": 45,
     "metadata": {},
     "output_type": "execute_result"
    }
   ],
   "source": [
    "macd_neg=spy.macd[spy.macd<=0]\n",
    "macd_neg.describe()"
   ]
  },
  {
   "cell_type": "code",
   "execution_count": 46,
   "metadata": {},
   "outputs": [
    {
     "data": {
      "image/png": "[encoded data removed]",
      "text/plain": [
       "<Figure size 432x288 with 1 Axes>"
      ]
     },
     "metadata": {
      "needs_background": "light"
     },
     "output_type": "display_data"
    }
   ],
   "source": [
    "plt.hist(macd_pos, bins=10, alpha=0.6, color='g' ,label='Positives')\n",
    "plt.hist(macd_neg, bins=10, alpha=0.6, color='r' ,label='Negatives')\n",
    "plt.legend(loc='upper left');"
   ]
  },
  {
   "cell_type": "code",
   "execution_count": 47,
   "metadata": {},
   "outputs": [
    {
     "data": {
      "text/plain": [
       "-1.481406168221477"
      ]
     },
     "execution_count": 47,
     "metadata": {},
     "output_type": "execute_result"
    }
   ],
   "source": [
    "get_percentile(macd_neg,t='val',val=10)"
   ]
  },
  {
   "cell_type": "code",
   "execution_count": 48,
   "metadata": {},
   "outputs": [
    {
     "data": {
      "text/plain": [
       "(15.69, -1.0)"
      ]
     },
     "execution_count": 48,
     "metadata": {},
     "output_type": "execute_result"
    }
   ],
   "source": [
    "get_percentile(macd_neg)"
   ]
  },
  {
   "cell_type": "code",
   "execution_count": 49,
   "metadata": {},
   "outputs": [],
   "source": [
    "# macd turning point\n",
    "#slopes\n",
    "#value at stage of cycle\n",
    "# cycle leegth vs depth "
   ]
  },
  {
   "cell_type": "code",
   "execution_count": 50,
   "metadata": {},
   "outputs": [],
   "source": [
    "macd_results=pd.DataFrame(columns=['start_date','end_date','is_long','hist','length'])"
   ]
  },
  {
   "cell_type": "code",
   "execution_count": 54,
   "metadata": {},
   "outputs": [],
   "source": [
    "#### MACD values per cycle\n",
    "w_macd=[]\n",
    "cycle_macd_hist=[]\n",
    "counter=1\n",
    "has_position=False\n",
    "position_start_index=-1\n",
    "position_end_index=-1\n",
    "last=0\n",
    "is_long=False\n",
    "for index, row in spy.iterrows():\n",
    "    if  index == 0:\n",
    "        last=-1#row[index+1].macd_hist\n",
    "        continue\n",
    "    if sign_change([last,row.macd_hist]):\n",
    "        #print(index)\n",
    "        if has_position:\n",
    "            #has_position=False #Uncommented for long only\n",
    "            #print(last, row.macd, index)\n",
    "            macd_results=macd_results.append({'start_date':spy.loc[position_start_index,'Date'],'end_date':spy.loc[index,'Date'],'is_long':is_long,'hist':cycle_macd_hist,'length':counter-1}, ignore_index=True)\n",
    "            counter=1\n",
    "            if has_position:\n",
    "                position_start_index=index\n",
    "                cycle_macd_hist=[]\n",
    "                cycle_macd_hist.append(row.macd_hist)\n",
    "                w_macd.append(counter*row.macd_hist)\n",
    "                counter+=1\n",
    "                if row.macd_hist>0:\n",
    "                    is_long=True\n",
    "                else:\n",
    "                    is_long=False\n",
    "                    \n",
    "        \n",
    "        else:\n",
    "            has_position=True\n",
    "            position_start_index=index\n",
    "            w_macd.append(counter*row.macd_hist)\n",
    "            counter+=1\n",
    "            cycle_macd_hist.append(row.macd_hist)\n",
    "            if row.macd_hist>0:\n",
    "                is_long=True\n",
    "            else:\n",
    "                is_long=False\n",
    "            \n",
    "    elif has_position:\n",
    "        cycle_macd_hist.append(row.macd_hist)\n",
    "        w_macd.append(counter*row.macd_hist)\n",
    "        counter+=1\n",
    "    last=row.macd_hist                 "
   ]
  },
  {
   "cell_type": "code",
   "execution_count": 55,
   "metadata": {},
   "outputs": [
    {
     "data": {
      "text/html": [
       "<div>\n",
       "<style scoped>\n",
       "    .dataframe tbody tr th:only-of-type {\n",
       "        vertical-align: middle;\n",
       "    }\n",
       "\n",
       "    .dataframe tbody tr th {\n",
       "        vertical-align: top;\n",
       "    }\n",
       "\n",
       "    .dataframe thead th {\n",
       "        text-align: right;\n",
       "    }\n",
       "</style>\n",
       "<table border=\"1\" class=\"dataframe\">\n",
       "  <thead>\n",
       "    <tr style=\"text-align: right;\">\n",
       "      <th></th>\n",
       "      <th>start_date</th>\n",
       "      <th>end_date</th>\n",
       "      <th>is_long</th>\n",
       "      <th>hist</th>\n",
       "      <th>length</th>\n",
       "    </tr>\n",
       "  </thead>\n",
       "  <tbody>\n",
       "    <tr>\n",
       "      <th>0</th>\n",
       "      <td>2000-05-05</td>\n",
       "      <td>2000-05-08</td>\n",
       "      <td>True</td>\n",
       "      <td>[0.002756604639287106]</td>\n",
       "      <td>1</td>\n",
       "    </tr>\n",
       "    <tr>\n",
       "      <th>1</th>\n",
       "      <td>2000-05-08</td>\n",
       "      <td>2000-05-10</td>\n",
       "      <td>False</td>\n",
       "      <td>[-0.006521948358804585, -0.0009237744532811759]</td>\n",
       "      <td>2</td>\n",
       "    </tr>\n",
       "    <tr>\n",
       "      <th>2</th>\n",
       "      <td>2000-05-10</td>\n",
       "      <td>2000-05-17</td>\n",
       "      <td>True</td>\n",
       "      <td>[0.0017270089607699553, 0.012501692628904852, ...</td>\n",
       "      <td>5</td>\n",
       "    </tr>\n",
       "    <tr>\n",
       "      <th>3</th>\n",
       "      <td>2000-05-17</td>\n",
       "      <td>2000-06-28</td>\n",
       "      <td>False</td>\n",
       "      <td>[-0.000624889646770899, -0.020468002248971218,...</td>\n",
       "      <td>29</td>\n",
       "    </tr>\n",
       "    <tr>\n",
       "      <th>4</th>\n",
       "      <td>2000-06-28</td>\n",
       "      <td>2000-07-14</td>\n",
       "      <td>True</td>\n",
       "      <td>[0.006064565483702239, 0.05082464863370559, 0....</td>\n",
       "      <td>11</td>\n",
       "    </tr>\n",
       "    <tr>\n",
       "      <th>...</th>\n",
       "      <td>...</td>\n",
       "      <td>...</td>\n",
       "      <td>...</td>\n",
       "      <td>...</td>\n",
       "      <td>...</td>\n",
       "    </tr>\n",
       "    <tr>\n",
       "      <th>391</th>\n",
       "      <td>2019-11-20</td>\n",
       "      <td>2019-12-06</td>\n",
       "      <td>False</td>\n",
       "      <td>[-0.12337891024381942, -0.5062307062631546, -0...</td>\n",
       "      <td>11</td>\n",
       "    </tr>\n",
       "    <tr>\n",
       "      <th>392</th>\n",
       "      <td>2019-12-06</td>\n",
       "      <td>2020-01-07</td>\n",
       "      <td>True</td>\n",
       "      <td>[0.07731625143629528, 0.12192033890204867, 0.1...</td>\n",
       "      <td>20</td>\n",
       "    </tr>\n",
       "    <tr>\n",
       "      <th>393</th>\n",
       "      <td>2020-01-07</td>\n",
       "      <td>2020-01-13</td>\n",
       "      <td>False</td>\n",
       "      <td>[-0.004255853594240966, -0.16270133114691232, ...</td>\n",
       "      <td>4</td>\n",
       "    </tr>\n",
       "    <tr>\n",
       "      <th>394</th>\n",
       "      <td>2020-01-13</td>\n",
       "      <td>2020-02-24</td>\n",
       "      <td>True</td>\n",
       "      <td>[0.016457135961838787, 0.01043643686542034, 0....</td>\n",
       "      <td>28</td>\n",
       "    </tr>\n",
       "    <tr>\n",
       "      <th>395</th>\n",
       "      <td>2020-02-24</td>\n",
       "      <td>2020-04-06</td>\n",
       "      <td>False</td>\n",
       "      <td>[-0.4098232601061471, -1.2622282027564378, -1....</td>\n",
       "      <td>30</td>\n",
       "    </tr>\n",
       "  </tbody>\n",
       "</table>\n",
       "<p>396 rows × 5 columns</p>\n",
       "</div>"
      ],
      "text/plain": [
       "    start_date   end_date is_long  \\\n",
       "0   2000-05-05 2000-05-08    True   \n",
       "1   2000-05-08 2000-05-10   False   \n",
       "2   2000-05-10 2000-05-17    True   \n",
       "3   2000-05-17 2000-06-28   False   \n",
       "4   2000-06-28 2000-07-14    True   \n",
       "..         ...        ...     ...   \n",
       "391 2019-11-20 2019-12-06   False   \n",
       "392 2019-12-06 2020-01-07    True   \n",
       "393 2020-01-07 2020-01-13   False   \n",
       "394 2020-01-13 2020-02-24    True   \n",
       "395 2020-02-24 2020-04-06   False   \n",
       "\n",
       "                                                  hist length  \n",
       "0                               [0.002756604639287106]      1  \n",
       "1      [-0.006521948358804585, -0.0009237744532811759]      2  \n",
       "2    [0.0017270089607699553, 0.012501692628904852, ...      5  \n",
       "3    [-0.000624889646770899, -0.020468002248971218,...     29  \n",
       "4    [0.006064565483702239, 0.05082464863370559, 0....     11  \n",
       "..                                                 ...    ...  \n",
       "391  [-0.12337891024381942, -0.5062307062631546, -0...     11  \n",
       "392  [0.07731625143629528, 0.12192033890204867, 0.1...     20  \n",
       "393  [-0.004255853594240966, -0.16270133114691232, ...      4  \n",
       "394  [0.016457135961838787, 0.01043643686542034, 0....     28  \n",
       "395  [-0.4098232601061471, -1.2622282027564378, -1....     30  \n",
       "\n",
       "[396 rows x 5 columns]"
      ]
     },
     "execution_count": 55,
     "metadata": {},
     "output_type": "execute_result"
    }
   ],
   "source": [
    "macd_results"
   ]
  },
  {
   "cell_type": "code",
   "execution_count": 56,
   "metadata": {},
   "outputs": [
    {
     "data": {
      "text/plain": [
       "array([63.4542371])"
      ]
     },
     "execution_count": 56,
     "metadata": {},
     "output_type": "execute_result"
    }
   ],
   "source": [
    "w_macd=np.asarray(w_macd)\n",
    "w_macd[-1:]"
   ]
  },
  {
   "cell_type": "code",
   "execution_count": 57,
   "metadata": {},
   "outputs": [
    {
     "data": {
      "text/plain": [
       "-37.628650380914095"
      ]
     },
     "execution_count": 57,
     "metadata": {},
     "output_type": "execute_result"
    }
   ],
   "source": [
    "np.percentile(w_macd[w_macd<=0],0.5)"
   ]
  },
  {
   "cell_type": "markdown",
   "metadata": {},
   "source": [
    "### STO"
   ]
  },
  {
   "cell_type": "code",
   "execution_count": 58,
   "metadata": {},
   "outputs": [],
   "source": [
    "d={'function': 'STOCH','apikey':\"YEUC2DL0F7KC43PB\",'symbol':ticker,'interval':'daily','fastkperiod':22 }\n",
    "response = requests.get(\n",
    "        'https://www.alphavantage.co/query',\n",
    "        params=d,\n",
    "        )\n",
    "\n",
    "#https://www.alphavantage.co/query?function=STOCH&symbol=SPY&interval=weekly&apikey=YEUC2DL0F7KC43PB&fastkperiod=16"
   ]
  },
  {
   "cell_type": "code",
   "execution_count": 59,
   "metadata": {},
   "outputs": [],
   "source": [
    "slowk=[]\n",
    "slowd=[]\n",
    "for key, val in response.json()['Technical Analysis: STOCH'].items():\n",
    "    slowk.append(float(val['SlowK']))\n",
    "    slowd.append(float(val['SlowD']))"
   ]
  },
  {
   "cell_type": "code",
   "execution_count": 60,
   "metadata": {},
   "outputs": [],
   "source": [
    "sto=pd.DataFrame({'Date':list(response.json()['Technical Analysis: STOCH'].keys()),\n",
    "                 'k':slowk,\n",
    "                  'd':slowd\n",
    "                 })"
   ]
  },
  {
   "cell_type": "code",
   "execution_count": 61,
   "metadata": {},
   "outputs": [],
   "source": [
    "sto=sto.astype({'Date': 'datetime64'})"
   ]
  },
  {
   "cell_type": "code",
   "execution_count": 62,
   "metadata": {},
   "outputs": [],
   "source": [
    "spy=spy.merge(sto,left_on='Date',right_on='Date',how='left')"
   ]
  },
  {
   "cell_type": "code",
   "execution_count": 63,
   "metadata": {},
   "outputs": [],
   "source": [
    "spy['sto_diff']=spy['k']-spy['d']"
   ]
  },
  {
   "cell_type": "code",
   "execution_count": 64,
   "metadata": {},
   "outputs": [
    {
     "data": {
      "image/png": "[encoded data removed]",
      "text/plain": [
       "<Figure size 432x288 with 1 Axes>"
      ]
     },
     "metadata": {
      "needs_background": "light"
     },
     "output_type": "display_data"
    }
   ],
   "source": [
    "plt.hist(spy.sto_diff[spy.sto_diff>=0], bins=10, alpha=0.6, color='g' ,label='Positives')\n",
    "plt.hist(spy.sto_diff[spy.sto_diff<=0], bins=10, alpha=0.6, color='r' ,label='Negatives')\n",
    "plt.legend(loc='upper left');"
   ]
  },
  {
   "cell_type": "code",
   "execution_count": 65,
   "metadata": {},
   "outputs": [
    {
     "name": "stderr",
     "output_type": "stream",
     "text": [
      "/anaconda3/lib/python3.6/site-packages/numpy/lib/histograms.py:839: RuntimeWarning: invalid value encountered in greater_equal\n",
      "  keep = (tmp_a >= first_edge)\n",
      "/anaconda3/lib/python3.6/site-packages/numpy/lib/histograms.py:840: RuntimeWarning: invalid value encountered in less_equal\n",
      "  keep &= (tmp_a <= last_edge)\n"
     ]
    },
    {
     "data": {
      "image/png": "[encoded data removed]",
      "text/plain": [
       "<Figure size 720x288 with 1 Axes>"
      ]
     },
     "metadata": {
      "needs_background": "light"
     },
     "output_type": "display_data"
    }
   ],
   "source": [
    "plt.figure(figsize=(10,4))\n",
    "plt.hist(np.abs(spy.sto_diff), bins=15, histtype='step');"
   ]
  },
  {
   "cell_type": "code",
   "execution_count": 66,
   "metadata": {},
   "outputs": [
    {
     "data": {
      "text/plain": [
       "0.6176800000000015"
      ]
     },
     "execution_count": 66,
     "metadata": {},
     "output_type": "execute_result"
    }
   ],
   "source": [
    "get_percentile(np.abs(spy.sto_diff.dropna()),t='val',val=10)"
   ]
  },
  {
   "cell_type": "code",
   "execution_count": 67,
   "metadata": {},
   "outputs": [
    {
     "data": {
      "text/plain": [
       "-7.451359999999999"
      ]
     },
     "execution_count": 67,
     "metadata": {},
     "output_type": "execute_result"
    }
   ],
   "source": [
    "get_percentile(spy.sto_diff.dropna(),t='val',val=12)"
   ]
  },
  {
   "cell_type": "code",
   "execution_count": 68,
   "metadata": {},
   "outputs": [
    {
     "data": {
      "text/plain": [
       "20.195798000000025"
      ]
     },
     "execution_count": 68,
     "metadata": {},
     "output_type": "execute_result"
    }
   ],
   "source": [
    "get_percentile(spy.sto_diff[spy.sto_diff>=0].dropna(),t='val',val=99)"
   ]
  },
  {
   "cell_type": "code",
   "execution_count": 69,
   "metadata": {},
   "outputs": [
    {
     "data": {
      "text/plain": [
       "(24.55, -4.060500000000005)"
      ]
     },
     "execution_count": 69,
     "metadata": {},
     "output_type": "execute_result"
    }
   ],
   "source": [
    "get_percentile(spy.sto_diff)"
   ]
  },
  {
   "cell_type": "code",
   "execution_count": 70,
   "metadata": {},
   "outputs": [
    {
     "data": {
      "text/html": [
       "<div>\n",
       "<style scoped>\n",
       "    .dataframe tbody tr th:only-of-type {\n",
       "        vertical-align: middle;\n",
       "    }\n",
       "\n",
       "    .dataframe tbody tr th {\n",
       "        vertical-align: top;\n",
       "    }\n",
       "\n",
       "    .dataframe thead th {\n",
       "        text-align: right;\n",
       "    }\n",
       "</style>\n",
       "<table border=\"1\" class=\"dataframe\">\n",
       "  <thead>\n",
       "    <tr style=\"text-align: right;\">\n",
       "      <th></th>\n",
       "      <th>Date</th>\n",
       "      <th>open</th>\n",
       "      <th>high</th>\n",
       "      <th>low</th>\n",
       "      <th>close</th>\n",
       "      <th>adj_close</th>\n",
       "      <th>volume</th>\n",
       "      <th>dividend</th>\n",
       "      <th>macd</th>\n",
       "      <th>macd_hist</th>\n",
       "      <th>k</th>\n",
       "      <th>d</th>\n",
       "      <th>sto_diff</th>\n",
       "    </tr>\n",
       "  </thead>\n",
       "  <tbody>\n",
       "    <tr>\n",
       "      <th>25</th>\n",
       "      <td>2000-06-08</td>\n",
       "      <td>37.81</td>\n",
       "      <td>38.88</td>\n",
       "      <td>36.94</td>\n",
       "      <td>38.44</td>\n",
       "      <td>15.1545</td>\n",
       "      <td>205900.0</td>\n",
       "      <td>0.0</td>\n",
       "      <td>-0.126374</td>\n",
       "      <td>-0.021672</td>\n",
       "      <td>26.0798</td>\n",
       "      <td>27.6538</td>\n",
       "      <td>-1.5740</td>\n",
       "    </tr>\n",
       "    <tr>\n",
       "      <th>26</th>\n",
       "      <td>2000-06-09</td>\n",
       "      <td>38.56</td>\n",
       "      <td>38.94</td>\n",
       "      <td>38.19</td>\n",
       "      <td>38.38</td>\n",
       "      <td>15.1308</td>\n",
       "      <td>183700.0</td>\n",
       "      <td>0.0</td>\n",
       "      <td>-0.119642</td>\n",
       "      <td>-0.012615</td>\n",
       "      <td>30.6933</td>\n",
       "      <td>26.9063</td>\n",
       "      <td>3.7870</td>\n",
       "    </tr>\n",
       "    <tr>\n",
       "      <th>27</th>\n",
       "      <td>2000-06-12</td>\n",
       "      <td>38.13</td>\n",
       "      <td>38.75</td>\n",
       "      <td>36.88</td>\n",
       "      <td>37.13</td>\n",
       "      <td>14.6380</td>\n",
       "      <td>354600.0</td>\n",
       "      <td>0.0</td>\n",
       "      <td>-0.148235</td>\n",
       "      <td>-0.034809</td>\n",
       "      <td>24.6448</td>\n",
       "      <td>27.1393</td>\n",
       "      <td>-2.4945</td>\n",
       "    </tr>\n",
       "    <tr>\n",
       "      <th>28</th>\n",
       "      <td>2000-06-13</td>\n",
       "      <td>37.38</td>\n",
       "      <td>37.63</td>\n",
       "      <td>37.19</td>\n",
       "      <td>37.31</td>\n",
       "      <td>14.7090</td>\n",
       "      <td>317000.0</td>\n",
       "      <td>0.0</td>\n",
       "      <td>-0.163702</td>\n",
       "      <td>-0.042480</td>\n",
       "      <td>16.5228</td>\n",
       "      <td>23.9536</td>\n",
       "      <td>-7.4308</td>\n",
       "    </tr>\n",
       "    <tr>\n",
       "      <th>29</th>\n",
       "      <td>2000-06-14</td>\n",
       "      <td>37.38</td>\n",
       "      <td>38.06</td>\n",
       "      <td>37.25</td>\n",
       "      <td>37.69</td>\n",
       "      <td>14.8588</td>\n",
       "      <td>220900.0</td>\n",
       "      <td>0.0</td>\n",
       "      <td>-0.162997</td>\n",
       "      <td>-0.035305</td>\n",
       "      <td>11.9393</td>\n",
       "      <td>17.7023</td>\n",
       "      <td>-5.7630</td>\n",
       "    </tr>\n",
       "  </tbody>\n",
       "</table>\n",
       "</div>"
      ],
      "text/plain": [
       "         Date   open   high    low  close  adj_close    volume  dividend  \\\n",
       "25 2000-06-08  37.81  38.88  36.94  38.44    15.1545  205900.0       0.0   \n",
       "26 2000-06-09  38.56  38.94  38.19  38.38    15.1308  183700.0       0.0   \n",
       "27 2000-06-12  38.13  38.75  36.88  37.13    14.6380  354600.0       0.0   \n",
       "28 2000-06-13  37.38  37.63  37.19  37.31    14.7090  317000.0       0.0   \n",
       "29 2000-06-14  37.38  38.06  37.25  37.69    14.8588  220900.0       0.0   \n",
       "\n",
       "        macd  macd_hist        k        d  sto_diff  \n",
       "25 -0.126374  -0.021672  26.0798  27.6538   -1.5740  \n",
       "26 -0.119642  -0.012615  30.6933  26.9063    3.7870  \n",
       "27 -0.148235  -0.034809  24.6448  27.1393   -2.4945  \n",
       "28 -0.163702  -0.042480  16.5228  23.9536   -7.4308  \n",
       "29 -0.162997  -0.035305  11.9393  17.7023   -5.7630  "
      ]
     },
     "execution_count": 70,
     "metadata": {},
     "output_type": "execute_result"
    }
   ],
   "source": [
    "spy.dropna().head(5)"
   ]
  },
  {
   "cell_type": "code",
   "execution_count": 71,
   "metadata": {},
   "outputs": [],
   "source": [
    "results=pd.DataFrame(columns=['start_date','end_date','entry_price','exit_price','is_long'])"
   ]
  },
  {
   "cell_type": "code",
   "execution_count": 72,
   "metadata": {},
   "outputs": [],
   "source": [
    "#On sign change.\n",
    "has_position=False\n",
    "position_start_index=-1\n",
    "position_end_index=-1\n",
    "last=0\n",
    "is_long=False\n",
    "for index, row in spy.dropna().iterrows():\n",
    "    if  index == 1847:\n",
    "        last=row.sto_diff\n",
    "        continue\n",
    "    if sign_change([last,row.sto_diff]):\n",
    "        #print(index)\n",
    "        if has_position:\n",
    "            #has_position=False \n",
    "            #print(last, row.macd, index)\n",
    "            results=results.append({'start_date':spy.loc[position_start_index,'Date'],'end_date':spy.loc[index,'Date'],'entry_price':spy.loc[position_start_index,'adj_close'],'exit_price':spy.loc[index,'adj_close'],'is_long':is_long}, ignore_index=True)\n",
    "            if has_position:\n",
    "                position_start_index=index\n",
    "                if row.sto_diff>0:\n",
    "                    is_long=True\n",
    "                else:\n",
    "                    is_long=False\n",
    "        \n",
    "        else:\n",
    "            has_position=True\n",
    "            position_start_index=index\n",
    "            if row.sto_diff>0:\n",
    "                is_long=True\n",
    "            else:\n",
    "                is_long=False\n",
    "            \n",
    "                           \n",
    "    last=row.sto_diff"
   ]
  },
  {
   "cell_type": "code",
   "execution_count": 73,
   "metadata": {},
   "outputs": [],
   "source": [
    "def close_position(x,is_long):\n",
    "    if is_long and x> -6.80:\n",
    "        return False\n",
    "    elif ~is_long and x<0:\n",
    "        return True\n",
    "    return True"
   ]
  },
  {
   "cell_type": "code",
   "execution_count": 74,
   "metadata": {},
   "outputs": [],
   "source": [
    "#On sign change buy and below -x sell:\n",
    "\n",
    "has_position=False\n",
    "position_start_index=-1\n",
    "position_end_index=-1\n",
    "last=0\n",
    "is_long=False\n",
    "for index, row in spy.dropna().iterrows():\n",
    "    if  index == 1847:\n",
    "        last=row.sto_diff\n",
    "        continue\n",
    "    if has_position and row.sto_diff<-6.8:#close_position(row.sto_diff,is_long):\n",
    "        #print(index)\n",
    "        #if has_position:\n",
    "            has_position=False #Uncommented for long only\n",
    "            #print(last, row.macd, index)\n",
    "            results=results.append({'start_date':spy.loc[position_start_index,'Date'],'end_date':spy.loc[index,'Date'],'entry_price':spy.loc[position_start_index,'adj_close'],'exit_price':spy.loc[index,'adj_close'],'is_long':is_long}, ignore_index=True)\n",
    "            if has_position:\n",
    "                position_start_index=index\n",
    "                if row.sto_diff>0:\n",
    "                    is_long=True\n",
    "                else:\n",
    "                    is_long=False\n",
    "            \n",
    "    elif ~has_position and last<0 and row.sto_diff>=0:# and index<=1852:\n",
    "\n",
    "            has_position=True\n",
    "            position_start_index=index\n",
    "            if row.sto_diff>0:\n",
    "                is_long=True\n",
    "            else:\n",
    "                is_long=False\n",
    "                         \n",
    "    last=row.sto_diff\n",
    "                               "
   ]
  },
  {
   "cell_type": "code",
   "execution_count": 75,
   "metadata": {},
   "outputs": [],
   "source": [
    "results['returns']=results.apply(calc_returns, axis=1)"
   ]
  },
  {
   "cell_type": "code",
   "execution_count": 76,
   "metadata": {},
   "outputs": [
    {
     "data": {
      "text/html": [
       "<div>\n",
       "<style scoped>\n",
       "    .dataframe tbody tr th:only-of-type {\n",
       "        vertical-align: middle;\n",
       "    }\n",
       "\n",
       "    .dataframe tbody tr th {\n",
       "        vertical-align: top;\n",
       "    }\n",
       "\n",
       "    .dataframe thead th {\n",
       "        text-align: right;\n",
       "    }\n",
       "</style>\n",
       "<table border=\"1\" class=\"dataframe\">\n",
       "  <thead>\n",
       "    <tr style=\"text-align: right;\">\n",
       "      <th></th>\n",
       "      <th>start_date</th>\n",
       "      <th>end_date</th>\n",
       "      <th>entry_price</th>\n",
       "      <th>exit_price</th>\n",
       "      <th>is_long</th>\n",
       "      <th>returns</th>\n",
       "    </tr>\n",
       "  </thead>\n",
       "  <tbody>\n",
       "    <tr>\n",
       "      <th>0</th>\n",
       "      <td>2000-06-08</td>\n",
       "      <td>2000-06-09</td>\n",
       "      <td>15.1545</td>\n",
       "      <td>15.1308</td>\n",
       "      <td>False</td>\n",
       "      <td>0.16</td>\n",
       "    </tr>\n",
       "    <tr>\n",
       "      <th>1</th>\n",
       "      <td>2000-06-09</td>\n",
       "      <td>2000-06-12</td>\n",
       "      <td>15.1308</td>\n",
       "      <td>14.6380</td>\n",
       "      <td>True</td>\n",
       "      <td>-3.26</td>\n",
       "    </tr>\n",
       "    <tr>\n",
       "      <th>2</th>\n",
       "      <td>2000-06-12</td>\n",
       "      <td>2000-06-16</td>\n",
       "      <td>14.6380</td>\n",
       "      <td>14.6459</td>\n",
       "      <td>False</td>\n",
       "      <td>-0.05</td>\n",
       "    </tr>\n",
       "    <tr>\n",
       "      <th>3</th>\n",
       "      <td>2000-06-16</td>\n",
       "      <td>2000-06-19</td>\n",
       "      <td>14.6459</td>\n",
       "      <td>14.6103</td>\n",
       "      <td>True</td>\n",
       "      <td>-0.24</td>\n",
       "    </tr>\n",
       "    <tr>\n",
       "      <th>4</th>\n",
       "      <td>2000-06-19</td>\n",
       "      <td>2000-06-22</td>\n",
       "      <td>14.6103</td>\n",
       "      <td>14.1396</td>\n",
       "      <td>False</td>\n",
       "      <td>3.22</td>\n",
       "    </tr>\n",
       "    <tr>\n",
       "      <th>...</th>\n",
       "      <td>...</td>\n",
       "      <td>...</td>\n",
       "      <td>...</td>\n",
       "      <td>...</td>\n",
       "      <td>...</td>\n",
       "      <td>...</td>\n",
       "    </tr>\n",
       "    <tr>\n",
       "      <th>1512</th>\n",
       "      <td>2019-11-06</td>\n",
       "      <td>2019-11-11</td>\n",
       "      <td>191.9306</td>\n",
       "      <td>187.8325</td>\n",
       "      <td>True</td>\n",
       "      <td>-2.14</td>\n",
       "    </tr>\n",
       "    <tr>\n",
       "      <th>1513</th>\n",
       "      <td>2019-11-14</td>\n",
       "      <td>2019-11-20</td>\n",
       "      <td>190.7370</td>\n",
       "      <td>185.2265</td>\n",
       "      <td>True</td>\n",
       "      <td>-2.89</td>\n",
       "    </tr>\n",
       "    <tr>\n",
       "      <th>1514</th>\n",
       "      <td>2019-12-31</td>\n",
       "      <td>2020-01-03</td>\n",
       "      <td>192.4455</td>\n",
       "      <td>188.7859</td>\n",
       "      <td>True</td>\n",
       "      <td>-1.90</td>\n",
       "    </tr>\n",
       "    <tr>\n",
       "      <th>1515</th>\n",
       "      <td>2020-02-19</td>\n",
       "      <td>2020-02-24</td>\n",
       "      <td>209.7167</td>\n",
       "      <td>201.9486</td>\n",
       "      <td>True</td>\n",
       "      <td>-3.70</td>\n",
       "    </tr>\n",
       "    <tr>\n",
       "      <th>1516</th>\n",
       "      <td>2020-03-02</td>\n",
       "      <td>2020-03-09</td>\n",
       "      <td>190.6805</td>\n",
       "      <td>183.3213</td>\n",
       "      <td>True</td>\n",
       "      <td>-3.86</td>\n",
       "    </tr>\n",
       "  </tbody>\n",
       "</table>\n",
       "<p>1517 rows × 6 columns</p>\n",
       "</div>"
      ],
      "text/plain": [
       "     start_date   end_date  entry_price  exit_price is_long  returns\n",
       "0    2000-06-08 2000-06-09      15.1545     15.1308   False     0.16\n",
       "1    2000-06-09 2000-06-12      15.1308     14.6380    True    -3.26\n",
       "2    2000-06-12 2000-06-16      14.6380     14.6459   False    -0.05\n",
       "3    2000-06-16 2000-06-19      14.6459     14.6103    True    -0.24\n",
       "4    2000-06-19 2000-06-22      14.6103     14.1396   False     3.22\n",
       "...         ...        ...          ...         ...     ...      ...\n",
       "1512 2019-11-06 2019-11-11     191.9306    187.8325    True    -2.14\n",
       "1513 2019-11-14 2019-11-20     190.7370    185.2265    True    -2.89\n",
       "1514 2019-12-31 2020-01-03     192.4455    188.7859    True    -1.90\n",
       "1515 2020-02-19 2020-02-24     209.7167    201.9486    True    -3.70\n",
       "1516 2020-03-02 2020-03-09     190.6805    183.3213    True    -3.86\n",
       "\n",
       "[1517 rows x 6 columns]"
      ]
     },
     "execution_count": 76,
     "metadata": {},
     "output_type": "execute_result"
    }
   ],
   "source": [
    "results#.tail(20)"
   ]
  },
  {
   "cell_type": "code",
   "execution_count": 77,
   "metadata": {},
   "outputs": [
    {
     "data": {
      "text/plain": [
       "count    1517.000000\n",
       "mean       -0.455405\n",
       "std         2.612483\n",
       "min       -11.730000\n",
       "25%        -1.760000\n",
       "50%        -0.750000\n",
       "75%         0.390000\n",
       "max        24.950000\n",
       "Name: returns, dtype: float64"
      ]
     },
     "execution_count": 77,
     "metadata": {},
     "output_type": "execute_result"
    }
   ],
   "source": [
    "results.returns.describe()"
   ]
  },
  {
   "cell_type": "code",
   "execution_count": 78,
   "metadata": {},
   "outputs": [
    {
     "ename": "NameError",
     "evalue": "name 'res' is not defined",
     "output_type": "error",
     "traceback": [
      "\u001b[0;31m---------------------------------------------------------------------------\u001b[0m",
      "\u001b[0;31mNameError\u001b[0m                                 Traceback (most recent call last)",
      "\u001b[0;32m<ipython-input-78-5359c7b9c3d3>\u001b[0m in \u001b[0;36m<module>\u001b[0;34m\u001b[0m\n\u001b[1;32m      1\u001b[0m \u001b[0mv\u001b[0m\u001b[0;34m=\u001b[0m\u001b[0;36m1000\u001b[0m\u001b[0;34m\u001b[0m\u001b[0;34m\u001b[0m\u001b[0m\n\u001b[1;32m      2\u001b[0m \u001b[0mvalue_trend\u001b[0m\u001b[0;34m=\u001b[0m\u001b[0;34m[\u001b[0m\u001b[0;34m]\u001b[0m\u001b[0;34m\u001b[0m\u001b[0;34m\u001b[0m\u001b[0m\n\u001b[0;32m----> 3\u001b[0;31m \u001b[0;32mfor\u001b[0m \u001b[0mr\u001b[0m \u001b[0;32min\u001b[0m \u001b[0mres\u001b[0m\u001b[0;34m:\u001b[0m\u001b[0;34m\u001b[0m\u001b[0;34m\u001b[0m\u001b[0m\n\u001b[0m\u001b[1;32m      4\u001b[0m     \u001b[0mvalue_trend\u001b[0m\u001b[0;34m.\u001b[0m\u001b[0mappend\u001b[0m\u001b[0;34m(\u001b[0m\u001b[0mv\u001b[0m\u001b[0;34m*\u001b[0m\u001b[0;34m(\u001b[0m\u001b[0;36m1\u001b[0m\u001b[0;34m+\u001b[0m\u001b[0mr\u001b[0m\u001b[0;34m/\u001b[0m\u001b[0;36m100\u001b[0m\u001b[0;34m)\u001b[0m\u001b[0;34m)\u001b[0m\u001b[0;34m\u001b[0m\u001b[0;34m\u001b[0m\u001b[0m\n\u001b[1;32m      5\u001b[0m     \u001b[0mv\u001b[0m\u001b[0;34m=\u001b[0m\u001b[0mvalue_trend\u001b[0m\u001b[0;34m[\u001b[0m\u001b[0;34m-\u001b[0m\u001b[0;36m1\u001b[0m\u001b[0;34m]\u001b[0m\u001b[0;34m\u001b[0m\u001b[0;34m\u001b[0m\u001b[0m\n",
      "\u001b[0;31mNameError\u001b[0m: name 'res' is not defined"
     ]
    }
   ],
   "source": [
    "v=1000\n",
    "value_trend=[]\n",
    "for r in res:\n",
    "    value_trend.append(v*(1+r/100))\n",
    "    v=value_trend[-1]"
   ]
  },
  {
   "cell_type": "code",
   "execution_count": null,
   "metadata": {},
   "outputs": [],
   "source": [
    "v"
   ]
  },
  {
   "cell_type": "code",
   "execution_count": null,
   "metadata": {},
   "outputs": [],
   "source": [
    "plt.plot(value_trend)"
   ]
  },
  {
   "cell_type": "code",
   "execution_count": null,
   "metadata": {},
   "outputs": [],
   "source": [
    "spy['k_change'] = spy.k/spy.k.shift(3)-1"
   ]
  },
  {
   "cell_type": "code",
   "execution_count": null,
   "metadata": {},
   "outputs": [],
   "source": [
    "get_percentile(spy.k_change.dropna(),'val',10)"
   ]
  },
  {
   "cell_type": "code",
   "execution_count": 79,
   "metadata": {},
   "outputs": [
    {
     "data": {
      "text/html": [
       "<div>\n",
       "<style scoped>\n",
       "    .dataframe tbody tr th:only-of-type {\n",
       "        vertical-align: middle;\n",
       "    }\n",
       "\n",
       "    .dataframe tbody tr th {\n",
       "        vertical-align: top;\n",
       "    }\n",
       "\n",
       "    .dataframe thead th {\n",
       "        text-align: right;\n",
       "    }\n",
       "</style>\n",
       "<table border=\"1\" class=\"dataframe\">\n",
       "  <thead>\n",
       "    <tr style=\"text-align: right;\">\n",
       "      <th></th>\n",
       "      <th>open</th>\n",
       "      <th>high</th>\n",
       "      <th>low</th>\n",
       "      <th>close</th>\n",
       "      <th>adj_close</th>\n",
       "      <th>volume</th>\n",
       "      <th>dividend</th>\n",
       "      <th>macd</th>\n",
       "      <th>macd_hist</th>\n",
       "      <th>k</th>\n",
       "      <th>d</th>\n",
       "      <th>sto_diff</th>\n",
       "    </tr>\n",
       "    <tr>\n",
       "      <th>Date</th>\n",
       "      <th></th>\n",
       "      <th></th>\n",
       "      <th></th>\n",
       "      <th></th>\n",
       "      <th></th>\n",
       "      <th></th>\n",
       "      <th></th>\n",
       "      <th></th>\n",
       "      <th></th>\n",
       "      <th></th>\n",
       "      <th></th>\n",
       "      <th></th>\n",
       "    </tr>\n",
       "  </thead>\n",
       "  <tbody>\n",
       "    <tr>\n",
       "      <th>2018-07-12</th>\n",
       "      <td>142.67</td>\n",
       "      <td>142.8700</td>\n",
       "      <td>142.13</td>\n",
       "      <td>142.66</td>\n",
       "      <td>140.0498</td>\n",
       "      <td>543369.0</td>\n",
       "      <td>0.0</td>\n",
       "      <td>-0.467972</td>\n",
       "      <td>0.353842</td>\n",
       "      <td>54.2249</td>\n",
       "      <td>51.8343</td>\n",
       "      <td>2.3906</td>\n",
       "    </tr>\n",
       "    <tr>\n",
       "      <th>2018-07-13</th>\n",
       "      <td>142.85</td>\n",
       "      <td>143.4000</td>\n",
       "      <td>142.61</td>\n",
       "      <td>143.16</td>\n",
       "      <td>140.5406</td>\n",
       "      <td>670932.0</td>\n",
       "      <td>0.0</td>\n",
       "      <td>-0.315546</td>\n",
       "      <td>0.428380</td>\n",
       "      <td>55.4630</td>\n",
       "      <td>53.6589</td>\n",
       "      <td>1.8041</td>\n",
       "    </tr>\n",
       "    <tr>\n",
       "      <th>2018-07-16</th>\n",
       "      <td>143.26</td>\n",
       "      <td>143.4100</td>\n",
       "      <td>142.31</td>\n",
       "      <td>142.62</td>\n",
       "      <td>140.0105</td>\n",
       "      <td>689991.0</td>\n",
       "      <td>0.0</td>\n",
       "      <td>-0.234815</td>\n",
       "      <td>0.430786</td>\n",
       "      <td>57.9815</td>\n",
       "      <td>55.8898</td>\n",
       "      <td>2.0917</td>\n",
       "    </tr>\n",
       "    <tr>\n",
       "      <th>2018-07-17</th>\n",
       "      <td>142.41</td>\n",
       "      <td>144.0800</td>\n",
       "      <td>142.21</td>\n",
       "      <td>143.72</td>\n",
       "      <td>141.0904</td>\n",
       "      <td>664010.0</td>\n",
       "      <td>0.0</td>\n",
       "      <td>-0.082743</td>\n",
       "      <td>0.493188</td>\n",
       "      <td>61.9074</td>\n",
       "      <td>58.4506</td>\n",
       "      <td>3.4568</td>\n",
       "    </tr>\n",
       "    <tr>\n",
       "      <th>2018-07-18</th>\n",
       "      <td>144.00</td>\n",
       "      <td>144.5604</td>\n",
       "      <td>143.52</td>\n",
       "      <td>144.00</td>\n",
       "      <td>141.3652</td>\n",
       "      <td>770199.0</td>\n",
       "      <td>0.0</td>\n",
       "      <td>0.059267</td>\n",
       "      <td>0.537475</td>\n",
       "      <td>67.2537</td>\n",
       "      <td>62.3809</td>\n",
       "      <td>4.8728</td>\n",
       "    </tr>\n",
       "    <tr>\n",
       "      <th>2018-07-19</th>\n",
       "      <td>143.15</td>\n",
       "      <td>143.6100</td>\n",
       "      <td>141.83</td>\n",
       "      <td>141.90</td>\n",
       "      <td>139.3037</td>\n",
       "      <td>1148959.0</td>\n",
       "      <td>0.0</td>\n",
       "      <td>0.005402</td>\n",
       "      <td>0.409209</td>\n",
       "      <td>67.5865</td>\n",
       "      <td>65.5826</td>\n",
       "      <td>2.0039</td>\n",
       "    </tr>\n",
       "    <tr>\n",
       "      <th>2018-07-20</th>\n",
       "      <td>141.29</td>\n",
       "      <td>141.6200</td>\n",
       "      <td>140.58</td>\n",
       "      <td>140.91</td>\n",
       "      <td>138.3318</td>\n",
       "      <td>1028050.0</td>\n",
       "      <td>0.0</td>\n",
       "      <td>-0.114392</td>\n",
       "      <td>0.244890</td>\n",
       "      <td>59.5274</td>\n",
       "      <td>64.7892</td>\n",
       "      <td>-5.2618</td>\n",
       "    </tr>\n",
       "    <tr>\n",
       "      <th>2018-07-23</th>\n",
       "      <td>140.94</td>\n",
       "      <td>141.0800</td>\n",
       "      <td>139.70</td>\n",
       "      <td>140.34</td>\n",
       "      <td>137.7722</td>\n",
       "      <td>877772.0</td>\n",
       "      <td>0.0</td>\n",
       "      <td>-0.251584</td>\n",
       "      <td>0.091129</td>\n",
       "      <td>46.7063</td>\n",
       "      <td>57.9401</td>\n",
       "      <td>-11.2338</td>\n",
       "    </tr>\n",
       "    <tr>\n",
       "      <th>2018-07-24</th>\n",
       "      <td>141.12</td>\n",
       "      <td>141.6100</td>\n",
       "      <td>140.24</td>\n",
       "      <td>140.61</td>\n",
       "      <td>138.0373</td>\n",
       "      <td>899929.0</td>\n",
       "      <td>0.0</td>\n",
       "      <td>-0.335056</td>\n",
       "      <td>0.006479</td>\n",
       "      <td>42.1909</td>\n",
       "      <td>49.4749</td>\n",
       "      <td>-7.2840</td>\n",
       "    </tr>\n",
       "    <tr>\n",
       "      <th>2018-07-25</th>\n",
       "      <td>140.66</td>\n",
       "      <td>141.7000</td>\n",
       "      <td>139.80</td>\n",
       "      <td>141.60</td>\n",
       "      <td>139.0092</td>\n",
       "      <td>1238480.0</td>\n",
       "      <td>0.0</td>\n",
       "      <td>-0.319106</td>\n",
       "      <td>0.018978</td>\n",
       "      <td>46.6800</td>\n",
       "      <td>45.1924</td>\n",
       "      <td>1.4876</td>\n",
       "    </tr>\n",
       "    <tr>\n",
       "      <th>2018-07-26</th>\n",
       "      <td>142.13</td>\n",
       "      <td>143.1200</td>\n",
       "      <td>141.99</td>\n",
       "      <td>142.70</td>\n",
       "      <td>140.0890</td>\n",
       "      <td>919096.0</td>\n",
       "      <td>0.0</td>\n",
       "      <td>-0.216835</td>\n",
       "      <td>0.102596</td>\n",
       "      <td>56.9395</td>\n",
       "      <td>48.6035</td>\n",
       "      <td>8.3360</td>\n",
       "    </tr>\n",
       "  </tbody>\n",
       "</table>\n",
       "</div>"
      ],
      "text/plain": [
       "              open      high     low   close  adj_close     volume  dividend  \\\n",
       "Date                                                                           \n",
       "2018-07-12  142.67  142.8700  142.13  142.66   140.0498   543369.0       0.0   \n",
       "2018-07-13  142.85  143.4000  142.61  143.16   140.5406   670932.0       0.0   \n",
       "2018-07-16  143.26  143.4100  142.31  142.62   140.0105   689991.0       0.0   \n",
       "2018-07-17  142.41  144.0800  142.21  143.72   141.0904   664010.0       0.0   \n",
       "2018-07-18  144.00  144.5604  143.52  144.00   141.3652   770199.0       0.0   \n",
       "2018-07-19  143.15  143.6100  141.83  141.90   139.3037  1148959.0       0.0   \n",
       "2018-07-20  141.29  141.6200  140.58  140.91   138.3318  1028050.0       0.0   \n",
       "2018-07-23  140.94  141.0800  139.70  140.34   137.7722   877772.0       0.0   \n",
       "2018-07-24  141.12  141.6100  140.24  140.61   138.0373   899929.0       0.0   \n",
       "2018-07-25  140.66  141.7000  139.80  141.60   139.0092  1238480.0       0.0   \n",
       "2018-07-26  142.13  143.1200  141.99  142.70   140.0890   919096.0       0.0   \n",
       "\n",
       "                macd  macd_hist        k        d  sto_diff  \n",
       "Date                                                         \n",
       "2018-07-12 -0.467972   0.353842  54.2249  51.8343    2.3906  \n",
       "2018-07-13 -0.315546   0.428380  55.4630  53.6589    1.8041  \n",
       "2018-07-16 -0.234815   0.430786  57.9815  55.8898    2.0917  \n",
       "2018-07-17 -0.082743   0.493188  61.9074  58.4506    3.4568  \n",
       "2018-07-18  0.059267   0.537475  67.2537  62.3809    4.8728  \n",
       "2018-07-19  0.005402   0.409209  67.5865  65.5826    2.0039  \n",
       "2018-07-20 -0.114392   0.244890  59.5274  64.7892   -5.2618  \n",
       "2018-07-23 -0.251584   0.091129  46.7063  57.9401  -11.2338  \n",
       "2018-07-24 -0.335056   0.006479  42.1909  49.4749   -7.2840  \n",
       "2018-07-25 -0.319106   0.018978  46.6800  45.1924    1.4876  \n",
       "2018-07-26 -0.216835   0.102596  56.9395  48.6035    8.3360  "
      ]
     },
     "execution_count": 79,
     "metadata": {},
     "output_type": "execute_result"
    }
   ],
   "source": [
    "spy.set_index('Date')['2018-7-12':'2018-7-26']"
   ]
  },
  {
   "cell_type": "code",
   "execution_count": 80,
   "metadata": {},
   "outputs": [],
   "source": [
    "spy['ret']=100*(spy.adj_close.shift(-4)/spy.adj_close-1)"
   ]
  },
  {
   "cell_type": "code",
   "execution_count": null,
   "metadata": {},
   "outputs": [],
   "source": [
    "res=[]\n",
    "last=0\n",
    "for index, row in spy.dropna().iterrows():\n",
    "    if row.k>40 and spy.loc[last,'k']<40:\n",
    "        res.append(row.ret)\n",
    "        #print(row.Date, row.ret)\n",
    "    last=index            \n",
    "        "
   ]
  },
  {
   "cell_type": "code",
   "execution_count": null,
   "metadata": {},
   "outputs": [],
   "source": [
    "plt.hist(res);"
   ]
  },
  {
   "cell_type": "code",
   "execution_count": null,
   "metadata": {},
   "outputs": [],
   "source": [
    "pd.DataFrame(res).describe()"
   ]
  },
  {
   "cell_type": "markdown",
   "metadata": {},
   "source": [
    "### Slope"
   ]
  },
  {
   "cell_type": "code",
   "execution_count": null,
   "metadata": {},
   "outputs": [],
   "source": [
    "np.polyfit(x=[1,2,3,4],y=spy.adj_close.values[-4:],deg=1,full=False)"
   ]
  },
  {
   "cell_type": "code",
   "execution_count": null,
   "metadata": {},
   "outputs": [],
   "source": [
    "plt.plot([1,2,3,4],spy.adj_close.values[-4:])"
   ]
  },
  {
   "cell_type": "code",
   "execution_count": null,
   "metadata": {},
   "outputs": [],
   "source": []
  },
  {
   "cell_type": "code",
   "execution_count": null,
   "metadata": {},
   "outputs": [],
   "source": []
  },
  {
   "cell_type": "code",
   "execution_count": null,
   "metadata": {},
   "outputs": [],
   "source": []
  },
  {
   "cell_type": "code",
   "execution_count": null,
   "metadata": {},
   "outputs": [],
   "source": []
  },
  {
   "cell_type": "code",
   "execution_count": null,
   "metadata": {},
   "outputs": [],
   "source": []
  },
  {
   "cell_type": "code",
   "execution_count": null,
   "metadata": {},
   "outputs": [],
   "source": [
    "spy['std']=spy.Close.rolling(22).apply(np.std, raw=False)"
   ]
  },
  {
   "cell_type": "code",
   "execution_count": null,
   "metadata": {},
   "outputs": [],
   "source": [
    "spy=spy.set_index('Date')"
   ]
  },
  {
   "cell_type": "code",
   "execution_count": null,
   "metadata": {},
   "outputs": [],
   "source": [
    "spy.reset_index(inplace=True)"
   ]
  },
  {
   "cell_type": "markdown",
   "metadata": {},
   "source": [
    "#price drop, macd hist trough, macd level itself, vol, instead of AMCS signal cycle maybe holding cycle with <-0.3\n",
    "There will be bad signals, have to make yourown determination\n",
    "is down x% is what percentile of all x days, maybe VaR*\n",
    "Not trade high vol situations\n",
    "does it always cycle down\n",
    "can repeat with weekly & sto but maybe have to rely on *\n",
    "pressure release, mean reversion need of the process\n",
    "\n",
    "so looks like forget predictor, there is not even a good descriptor for quick changes. \n",
    "Maybe use vol to describe market, explore shorter MAs for high vol. \n",
    "A lot if your skill and estimation.\n",
    "sentiment maybe something from an unbiased or differentiated source \n",
    "stay long buy protection\n"
   ]
  }
 ],
 "metadata": {
  "kernelspec": {
   "display_name": "Python 3",
   "language": "python",
   "name": "python3"
  },
  "language_info": {
   "codemirror_mode": {
    "name": "ipython",
    "version": 3
   },
   "file_extension": ".py",
   "mimetype": "text/x-python",
   "name": "python",
   "nbconvert_exporter": "python",
   "pygments_lexer": "ipython3",
   "version": "3.6.9"
  }
 },
 "nbformat": 4,
 "nbformat_minor": 2
}

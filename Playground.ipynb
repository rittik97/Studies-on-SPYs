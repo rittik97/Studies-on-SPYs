{
 "cells": [
  {
   "cell_type": "code",
   "execution_count": 1,
   "metadata": {},
   "outputs": [],
   "source": [
    "import pandas as pd\n",
    "import numpy as np \n",
    "import matplotlib.pyplot as plt"
   ]
  },
  {
   "cell_type": "code",
   "execution_count": 2,
   "metadata": {},
   "outputs": [],
   "source": [
    "import requests"
   ]
  },
  {
   "cell_type": "code",
   "execution_count": 229,
   "metadata": {},
   "outputs": [],
   "source": [
    "spy=pd.read_csv(\"data/SPY_daily.csv\")"
   ]
  },
  {
   "cell_type": "code",
   "execution_count": 230,
   "metadata": {},
   "outputs": [],
   "source": [
    "spy.rename(columns={'Adj Close':\"adj_close\"}, inplace=True)"
   ]
  },
  {
   "cell_type": "code",
   "execution_count": 231,
   "metadata": {},
   "outputs": [
    {
     "data": {
      "text/html": [
       "<div>\n",
       "<style scoped>\n",
       "    .dataframe tbody tr th:only-of-type {\n",
       "        vertical-align: middle;\n",
       "    }\n",
       "\n",
       "    .dataframe tbody tr th {\n",
       "        vertical-align: top;\n",
       "    }\n",
       "\n",
       "    .dataframe thead th {\n",
       "        text-align: right;\n",
       "    }\n",
       "</style>\n",
       "<table border=\"1\" class=\"dataframe\">\n",
       "  <thead>\n",
       "    <tr style=\"text-align: right;\">\n",
       "      <th></th>\n",
       "      <th>Date</th>\n",
       "      <th>Open</th>\n",
       "      <th>High</th>\n",
       "      <th>Low</th>\n",
       "      <th>Close</th>\n",
       "      <th>adj_close</th>\n",
       "      <th>Volume</th>\n",
       "    </tr>\n",
       "  </thead>\n",
       "  <tbody>\n",
       "    <tr>\n",
       "      <th>6844</th>\n",
       "      <td>2020-04-03</td>\n",
       "      <td>250.759995</td>\n",
       "      <td>253.320007</td>\n",
       "      <td>245.220001</td>\n",
       "      <td>248.190002</td>\n",
       "      <td>248.190002</td>\n",
       "      <td>135561200</td>\n",
       "    </tr>\n",
       "    <tr>\n",
       "      <th>6845</th>\n",
       "      <td>2020-04-06</td>\n",
       "      <td>257.839996</td>\n",
       "      <td>267.000000</td>\n",
       "      <td>248.169998</td>\n",
       "      <td>264.859985</td>\n",
       "      <td>264.859985</td>\n",
       "      <td>188061200</td>\n",
       "    </tr>\n",
       "    <tr>\n",
       "      <th>6846</th>\n",
       "      <td>2020-04-07</td>\n",
       "      <td>274.209991</td>\n",
       "      <td>275.029999</td>\n",
       "      <td>264.890015</td>\n",
       "      <td>265.130005</td>\n",
       "      <td>265.130005</td>\n",
       "      <td>201427200</td>\n",
       "    </tr>\n",
       "    <tr>\n",
       "      <th>6847</th>\n",
       "      <td>2020-04-08</td>\n",
       "      <td>267.959991</td>\n",
       "      <td>276.000000</td>\n",
       "      <td>265.250000</td>\n",
       "      <td>274.029999</td>\n",
       "      <td>274.029999</td>\n",
       "      <td>153774500</td>\n",
       "    </tr>\n",
       "    <tr>\n",
       "      <th>6848</th>\n",
       "      <td>2020-04-09</td>\n",
       "      <td>277.579987</td>\n",
       "      <td>281.200012</td>\n",
       "      <td>275.470001</td>\n",
       "      <td>278.200012</td>\n",
       "      <td>278.200012</td>\n",
       "      <td>190282700</td>\n",
       "    </tr>\n",
       "  </tbody>\n",
       "</table>\n",
       "</div>"
      ],
      "text/plain": [
       "            Date        Open        High         Low       Close   adj_close  \\\n",
       "6844  2020-04-03  250.759995  253.320007  245.220001  248.190002  248.190002   \n",
       "6845  2020-04-06  257.839996  267.000000  248.169998  264.859985  264.859985   \n",
       "6846  2020-04-07  274.209991  275.029999  264.890015  265.130005  265.130005   \n",
       "6847  2020-04-08  267.959991  276.000000  265.250000  274.029999  274.029999   \n",
       "6848  2020-04-09  277.579987  281.200012  275.470001  278.200012  278.200012   \n",
       "\n",
       "         Volume  \n",
       "6844  135561200  \n",
       "6845  188061200  \n",
       "6846  201427200  \n",
       "6847  153774500  \n",
       "6848  190282700  "
      ]
     },
     "execution_count": 231,
     "metadata": {},
     "output_type": "execute_result"
    }
   ],
   "source": [
    "spy.tail()"
   ]
  },
  {
   "cell_type": "code",
   "execution_count": 232,
   "metadata": {},
   "outputs": [
    {
     "name": "stdout",
     "output_type": "stream",
     "text": [
      "<class 'pandas.core.frame.DataFrame'>\n",
      "RangeIndex: 6849 entries, 0 to 6848\n",
      "Data columns (total 7 columns):\n",
      "Date         6849 non-null object\n",
      "Open         6849 non-null float64\n",
      "High         6849 non-null float64\n",
      "Low          6849 non-null float64\n",
      "Close        6849 non-null float64\n",
      "adj_close    6849 non-null float64\n",
      "Volume       6849 non-null int64\n",
      "dtypes: float64(5), int64(1), object(1)\n",
      "memory usage: 374.7+ KB\n"
     ]
    }
   ],
   "source": [
    "spy.info()"
   ]
  },
  {
   "cell_type": "code",
   "execution_count": 233,
   "metadata": {},
   "outputs": [],
   "source": [
    "spy=spy.astype({'Date': 'datetime64'})"
   ]
  },
  {
   "cell_type": "code",
   "execution_count": 8,
   "metadata": {},
   "outputs": [],
   "source": [
    "dspy=spy.copy(deep=True)\n",
    "dspy.set_index('Date', inplace=True)"
   ]
  },
  {
   "cell_type": "code",
   "execution_count": 9,
   "metadata": {},
   "outputs": [
    {
     "data": {
      "text/html": [
       "<div>\n",
       "<style scoped>\n",
       "    .dataframe tbody tr th:only-of-type {\n",
       "        vertical-align: middle;\n",
       "    }\n",
       "\n",
       "    .dataframe tbody tr th {\n",
       "        vertical-align: top;\n",
       "    }\n",
       "\n",
       "    .dataframe thead th {\n",
       "        text-align: right;\n",
       "    }\n",
       "</style>\n",
       "<table border=\"1\" class=\"dataframe\">\n",
       "  <thead>\n",
       "    <tr style=\"text-align: right;\">\n",
       "      <th></th>\n",
       "      <th>count</th>\n",
       "      <th>mean</th>\n",
       "      <th>std</th>\n",
       "      <th>min</th>\n",
       "      <th>25%</th>\n",
       "      <th>50%</th>\n",
       "      <th>75%</th>\n",
       "      <th>max</th>\n",
       "    </tr>\n",
       "  </thead>\n",
       "  <tbody>\n",
       "    <tr>\n",
       "      <th>Open</th>\n",
       "      <td>6849.0</td>\n",
       "      <td>1.386711e+02</td>\n",
       "      <td>6.516536e+01</td>\n",
       "      <td>43.343750</td>\n",
       "      <td>9.846000e+01</td>\n",
       "      <td>1.261700e+02</td>\n",
       "      <td>1.644400e+02</td>\n",
       "      <td>3.377900e+02</td>\n",
       "    </tr>\n",
       "    <tr>\n",
       "      <th>High</th>\n",
       "      <td>6849.0</td>\n",
       "      <td>1.394889e+02</td>\n",
       "      <td>6.541166e+01</td>\n",
       "      <td>43.531250</td>\n",
       "      <td>9.941000e+01</td>\n",
       "      <td>1.268900e+02</td>\n",
       "      <td>1.653800e+02</td>\n",
       "      <td>3.390800e+02</td>\n",
       "    </tr>\n",
       "    <tr>\n",
       "      <th>Low</th>\n",
       "      <td>6849.0</td>\n",
       "      <td>1.377651e+02</td>\n",
       "      <td>6.490159e+01</td>\n",
       "      <td>42.812500</td>\n",
       "      <td>9.721875e+01</td>\n",
       "      <td>1.251700e+02</td>\n",
       "      <td>1.634000e+02</td>\n",
       "      <td>3.374800e+02</td>\n",
       "    </tr>\n",
       "    <tr>\n",
       "      <th>Close</th>\n",
       "      <td>6849.0</td>\n",
       "      <td>1.386712e+02</td>\n",
       "      <td>6.517560e+01</td>\n",
       "      <td>43.406250</td>\n",
       "      <td>9.849000e+01</td>\n",
       "      <td>1.260800e+02</td>\n",
       "      <td>1.644400e+02</td>\n",
       "      <td>3.383400e+02</td>\n",
       "    </tr>\n",
       "    <tr>\n",
       "      <th>adj_close</th>\n",
       "      <td>6849.0</td>\n",
       "      <td>1.142743e+02</td>\n",
       "      <td>7.004059e+01</td>\n",
       "      <td>25.981276</td>\n",
       "      <td>7.108934e+01</td>\n",
       "      <td>9.366021e+01</td>\n",
       "      <td>1.433899e+02</td>\n",
       "      <td>3.363621e+02</td>\n",
       "    </tr>\n",
       "    <tr>\n",
       "      <th>Volume</th>\n",
       "      <td>6849.0</td>\n",
       "      <td>8.470616e+07</td>\n",
       "      <td>9.784746e+07</td>\n",
       "      <td>5200.000000</td>\n",
       "      <td>7.420200e+06</td>\n",
       "      <td>5.739170e+07</td>\n",
       "      <td>1.224169e+08</td>\n",
       "      <td>8.710263e+08</td>\n",
       "    </tr>\n",
       "  </tbody>\n",
       "</table>\n",
       "</div>"
      ],
      "text/plain": [
       "            count          mean           std          min           25%  \\\n",
       "Open       6849.0  1.386711e+02  6.516536e+01    43.343750  9.846000e+01   \n",
       "High       6849.0  1.394889e+02  6.541166e+01    43.531250  9.941000e+01   \n",
       "Low        6849.0  1.377651e+02  6.490159e+01    42.812500  9.721875e+01   \n",
       "Close      6849.0  1.386712e+02  6.517560e+01    43.406250  9.849000e+01   \n",
       "adj_close  6849.0  1.142743e+02  7.004059e+01    25.981276  7.108934e+01   \n",
       "Volume     6849.0  8.470616e+07  9.784746e+07  5200.000000  7.420200e+06   \n",
       "\n",
       "                    50%           75%           max  \n",
       "Open       1.261700e+02  1.644400e+02  3.377900e+02  \n",
       "High       1.268900e+02  1.653800e+02  3.390800e+02  \n",
       "Low        1.251700e+02  1.634000e+02  3.374800e+02  \n",
       "Close      1.260800e+02  1.644400e+02  3.383400e+02  \n",
       "adj_close  9.366021e+01  1.433899e+02  3.363621e+02  \n",
       "Volume     5.739170e+07  1.224169e+08  8.710263e+08  "
      ]
     },
     "execution_count": 9,
     "metadata": {},
     "output_type": "execute_result"
    }
   ],
   "source": [
    "spy.describe().T"
   ]
  },
  {
   "cell_type": "code",
   "execution_count": 10,
   "metadata": {},
   "outputs": [
    {
     "data": {
      "image/png": "[encoded data removed]",
      "text/plain": [
       "<Figure size 720x504 with 4 Axes>"
      ]
     },
     "metadata": {
      "needs_background": "light"
     },
     "output_type": "display_data"
    }
   ],
   "source": [
    "fig, ax = plt.subplots(2,2, figsize=(10,7))\n",
    "fig.tight_layout()\n",
    "ax[0][1].plot(spy.Volume, color='c')\n",
    "ax[0][1].set_title(\"Volume\");\n",
    "\n",
    "ax[0][0].plot(spy.adj_close/spy.adj_close[0]/100);\n",
    "ax[0][0].set_title(\"Returns\");\n",
    "\n",
    "ax[1][1].plot(spy.Low, color='r')\n",
    "ax[1][1].set_title(\"Low\");\n",
    "\n",
    "ax[1][0].plot(spy.High, color='g')\n",
    "ax[1][0].set_title(\"High\");"
   ]
  },
  {
   "cell_type": "code",
   "execution_count": 11,
   "metadata": {},
   "outputs": [
    {
     "data": {
      "text/plain": [
       "<matplotlib.collections.LineCollection at 0x1220b04e0>"
      ]
     },
     "execution_count": 11,
     "metadata": {},
     "output_type": "execute_result"
    },
    {
     "data": {
      "image/png": "[encoded data removed]",
      "text/plain": [
       "<Figure size 432x288 with 1 Axes>"
      ]
     },
     "metadata": {
      "needs_background": "light"
     },
     "output_type": "display_data"
    }
   ],
   "source": [
    "plt.plot(spy.Close.rolling(14).std())\n",
    "np.mean(spy.Close.rolling(14).std())\n",
    "plt.hlines(np.mean(spy.Close.rolling(14).std()),0,len(spy))"
   ]
  },
  {
   "cell_type": "code",
   "execution_count": 12,
   "metadata": {},
   "outputs": [],
   "source": [
    "def std_dev_percentile(x,window):\n",
    "    x=x.rolling(window).std().dropna().values\n",
    "    #print(x)\n",
    "    val=x[-1:]\n",
    "    return np.round(100*(np.where(np.sort(x)==val)[0][0]/len(x)),2),val\n"
   ]
  },
  {
   "cell_type": "code",
   "execution_count": 13,
   "metadata": {},
   "outputs": [
    {
     "data": {
      "text/plain": [
       "(94.5, array([10.6822818]))"
      ]
     },
     "execution_count": 13,
     "metadata": {},
     "output_type": "execute_result"
    }
   ],
   "source": [
    "std_dev_percentile(spy.adj_close[-500:],10)"
   ]
  },
  {
   "cell_type": "code",
   "execution_count": 14,
   "metadata": {},
   "outputs": [],
   "source": [
    "def return_percentile_latest(x,window):\n",
    "    x=x/x.shift(window)-1\n",
    "    x=x.dropna().values\n",
    "    val=x[-1]\n",
    "    return np.round(100*(np.where(np.sort(x)==val)[0][0]/len(x)),2),val\n",
    "\n",
    "def return_percentile(x,window,val):\n",
    "    x=x/x.shift(window)-1\n",
    "    x=x.dropna()\n",
    "    return np.percentile(x,val)\n",
    "\n",
    "def get_percentile(x, t='latest',val=0):\n",
    "    if t=='latest':\n",
    "        x=x.dropna().values\n",
    "        val=x[-1]\n",
    "        return np.round(100*(np.where(np.sort(x)==val)[0][0]/len(x)),2),val\n",
    "    else:\n",
    "        return  np.percentile(np.sort(x),val)\n",
    "        "
   ]
  },
  {
   "cell_type": "code",
   "execution_count": 15,
   "metadata": {},
   "outputs": [
    {
     "data": {
      "text/plain": [
       "(99.12, 0.05036633600957141)"
      ]
     },
     "execution_count": 15,
     "metadata": {},
     "output_type": "execute_result"
    }
   ],
   "source": [
    "return_percentile_latest(spy.adj_close,3)#returns percentile and latest value, shift doesn't include current pos\n",
    "#return_percentile(spy.adj_close,3,1.6)"
   ]
  },
  {
   "cell_type": "markdown",
   "metadata": {},
   "source": [
    "### RSI"
   ]
  },
  {
   "cell_type": "code",
   "execution_count": 16,
   "metadata": {},
   "outputs": [],
   "source": [
    "def RSI(series, period=14):\n",
    " print(len(series))\n",
    " delta = series.diff().dropna()\n",
    " u = delta * 0\n",
    " d = u.copy()\n",
    " u[delta > 0] = delta[delta > 0]\n",
    " d[delta < 0] = -delta[delta < 0]\n",
    " u[u.index[period-1]] = np.mean( u[:period] ) #first value is sum of avg gains\n",
    " u = u.drop(u.index[:(period-1)])\n",
    " d[d.index[period-1]] = np.mean( d[:period] ) #first value is sum of avg losses\n",
    " d = d.drop(d.index[:(period-1)])\n",
    " #rs = pd.stats.moments.ewma(u, com=period-1, adjust=False) / pd.stats.moments.ewma(d, com=period-1, adjust=False)\n",
    " rs = pd.Series.ewm(u, com=period-1).mean()/pd.Series.ewm(d, com=period-1).mean()\n",
    " return 100 - 100 / (1 + rs)"
   ]
  },
  {
   "cell_type": "code",
   "execution_count": 17,
   "metadata": {},
   "outputs": [],
   "source": [
    "#spy.Close.rolling(14).apply(RSI, raw=False)\n",
    "#Graph\n",
    "#min max, %s \n",
    "#fit 14 vs 10\n",
    "#backtested profitability\n"
   ]
  },
  {
   "cell_type": "code",
   "execution_count": 18,
   "metadata": {},
   "outputs": [
    {
     "name": "stdout",
     "output_type": "stream",
     "text": [
      "6849\n"
     ]
    }
   ],
   "source": [
    "rsi=RSI(spy.adj_close).dropna();"
   ]
  },
  {
   "cell_type": "code",
   "execution_count": 19,
   "metadata": {},
   "outputs": [
    {
     "data": {
      "image/png": "[encoded data removed]",
      "text/plain": [
       "<Figure size 1080x504 with 2 Axes>"
      ]
     },
     "metadata": {
      "needs_background": "light"
     },
     "output_type": "display_data"
    }
   ],
   "source": [
    "fig, ax= plt.subplots(2,1, figsize=(15,7))\n",
    "ax[0].plot(rsi)\n",
    "ax[0].hlines(70,0,len(spy), color='red')\n",
    "ax[0].hlines(30,0,len(spy), color='red')\n",
    "ax[1].plot(spy.adj_close);"
   ]
  },
  {
   "cell_type": "code",
   "execution_count": 20,
   "metadata": {},
   "outputs": [
    {
     "name": "stdout",
     "output_type": "stream",
     "text": [
      "Min RSI 16.80273123264722\n",
      "Max RSI 87.83215691745701\n",
      "Median RSI 55.61850769371372\n",
      "Std dev. RSI 11.386467911661477\n",
      "% of time below 20 0.13\n",
      "% of time below 30 1.48\n",
      "% of time above 70 8.51\n",
      "% of time above 80 0.57\n"
     ]
    }
   ],
   "source": [
    "print(\"Min RSI\", np.min(rsi))\n",
    "print(\"Max RSI\", np.max(rsi))\n",
    "print(\"Median RSI\", np.median(rsi))\n",
    "print(\"Std dev. RSI\", np.std(rsi))\n",
    "print(\"% of time below 20\", np.round(100*np.sum(np.where(rsi<20,1,0))/len(rsi),2))\n",
    "print(\"% of time below 30\", np.round(100*np.sum(np.where(rsi<30,1,0))/len(rsi),2))\n",
    "print(\"% of time above 70\", np.round(100*np.sum(np.where(rsi>70,1,0))/len(rsi),2))\n",
    "print(\"% of time above 80\", np.round(100*np.sum(np.where(rsi>80,1,0))/len(rsi),2))"
   ]
  },
  {
   "cell_type": "code",
   "execution_count": 21,
   "metadata": {},
   "outputs": [
    {
     "data": {
      "text/plain": [
       "count    6835.000000\n",
       "mean       54.898375\n",
       "std        11.387301\n",
       "min        16.802731\n",
       "25%        46.799056\n",
       "50%        55.618508\n",
       "75%        63.304414\n",
       "max        87.832157\n",
       "Name: adj_close, dtype: float64"
      ]
     },
     "execution_count": 21,
     "metadata": {},
     "output_type": "execute_result"
    }
   ],
   "source": [
    "rsi.describe()"
   ]
  },
  {
   "cell_type": "markdown",
   "metadata": {},
   "source": [
    "### MACD"
   ]
  },
  {
   "cell_type": "code",
   "execution_count": 22,
   "metadata": {},
   "outputs": [],
   "source": [
    "macd=spy.adj_close.ewm(span=12,min_periods=0,adjust=True,ignore_na=True).mean()-spy.adj_close.ewm(span=26,min_periods=0,adjust=True,ignore_na=True).mean()"
   ]
  },
  {
   "cell_type": "code",
   "execution_count": 23,
   "metadata": {},
   "outputs": [],
   "source": [
    "signal=macd.ewm(span=12,min_periods=0,adjust=True,ignore_na=True).mean()\n",
    "macd_hist=macd-signal"
   ]
  },
  {
   "cell_type": "code",
   "execution_count": 24,
   "metadata": {},
   "outputs": [
    {
     "data": {
      "text/plain": [
       "count    6849.000000\n",
       "mean       -0.009076\n",
       "std         0.574585\n",
       "min        -7.631611\n",
       "25%        -0.209799\n",
       "50%         0.002403\n",
       "75%         0.212706\n",
       "max         6.835720\n",
       "Name: adj_close, dtype: float64"
      ]
     },
     "execution_count": 24,
     "metadata": {},
     "output_type": "execute_result"
    }
   ],
   "source": [
    "macd_hist.describe()"
   ]
  },
  {
   "cell_type": "code",
   "execution_count": 25,
   "metadata": {},
   "outputs": [
    {
     "data": {
      "image/png": "[encoded data removed]",
      "text/plain": [
       "<Figure size 1080x504 with 2 Axes>"
      ]
     },
     "metadata": {
      "needs_background": "light"
     },
     "output_type": "display_data"
    }
   ],
   "source": [
    "fig, ax= plt.subplots(2,1, figsize=(15,7))\n",
    "ax[0].plot(macd_hist)\n",
    "ax[0].hlines(np.percentile(macd_hist,75),0,len(spy), color='red')\n",
    "ax[0].hlines(np.percentile(macd_hist,25),0,len(spy), color='red')\n",
    "ax[1].plot(spy.adj_close);"
   ]
  },
  {
   "cell_type": "code",
   "execution_count": 26,
   "metadata": {},
   "outputs": [],
   "source": [
    "spy['macd']=macd\n",
    "spy['macd_hist']=macd_hist"
   ]
  },
  {
   "cell_type": "code",
   "execution_count": 27,
   "metadata": {},
   "outputs": [],
   "source": [
    "dspy['macd']=macd\n",
    "dspy['macd_hist']=macd_hist"
   ]
  },
  {
   "cell_type": "code",
   "execution_count": 28,
   "metadata": {},
   "outputs": [],
   "source": [
    "def calcs(x):\n",
    "    print(x)\n",
    "    return 0"
   ]
  },
  {
   "cell_type": "code",
   "execution_count": 29,
   "metadata": {},
   "outputs": [
    {
     "name": "stderr",
     "output_type": "stream",
     "text": [
      "/anaconda3/lib/python3.6/site-packages/ipykernel_launcher.py:1: SettingWithCopyWarning: \n",
      "A value is trying to be set on a copy of a slice from a DataFrame\n",
      "\n",
      "See the caveats in the documentation: http://pandas.pydata.org/pandas-docs/stable/user_guide/indexing.html#returning-a-view-versus-a-copy\n",
      "  \"\"\"Entry point for launching an IPython kernel.\n"
     ]
    }
   ],
   "source": [
    "spy.macd[0]=-1"
   ]
  },
  {
   "cell_type": "code",
   "execution_count": 30,
   "metadata": {},
   "outputs": [],
   "source": [
    "results=pd.DataFrame(columns=['start_date','end_date','entry_price','exit_price','is_long'])"
   ]
  },
  {
   "cell_type": "code",
   "execution_count": 31,
   "metadata": {},
   "outputs": [],
   "source": [
    "def sign_change(x):\n",
    "    if np.sign(x[0]) == np.sign(x[1]):\n",
    "        return False\n",
    "    return True"
   ]
  },
  {
   "cell_type": "code",
   "execution_count": 32,
   "metadata": {},
   "outputs": [],
   "source": [
    "#On sign change.\n",
    "has_position=False\n",
    "position_start_index=-1\n",
    "position_end_index=-1\n",
    "last=0\n",
    "is_long=False\n",
    "for index, row in spy.iterrows():\n",
    "    if  index == 0:\n",
    "        last=row.macd\n",
    "        continue\n",
    "    if sign_change([last,row.macd]):\n",
    "        #print(index)\n",
    "        if has_position:\n",
    "            #has_position=False #Uncommented for long only\n",
    "            #print(last, row.macd, index)\n",
    "            results=results.append({'start_date':spy.loc[position_start_index,'Date'],'end_date':spy.loc[index,'Date'],'entry_price':spy.loc[position_start_index,'adj_close'],'exit_price':spy.loc[index,'adj_close'],'is_long':is_long}, ignore_index=True)\n",
    "            if has_position:\n",
    "                position_start_index=index\n",
    "                if row.macd>0:\n",
    "                    is_long=True\n",
    "                else:\n",
    "                    is_long=False\n",
    "        \n",
    "        else:\n",
    "            has_position=True\n",
    "            position_start_index=index\n",
    "            if row.macd>0:\n",
    "                is_long=True\n",
    "            else:\n",
    "                is_long=False\n",
    "            \n",
    "                           \n",
    "    last=row.macd                 "
   ]
  },
  {
   "cell_type": "code",
   "execution_count": 33,
   "metadata": {},
   "outputs": [],
   "source": [
    "#On sign change buy and below -x sell:\n",
    "has_position=False\n",
    "position_start_index=-1\n",
    "position_end_index=-1\n",
    "last=0\n",
    "is_long=False\n",
    "for index, row in spy.iterrows():\n",
    "    if  index == 0:\n",
    "        last=row.macd\n",
    "        continue\n",
    "    if has_position and row.macd<=-0.2:\n",
    "        #print(index)\n",
    "        #if has_position:\n",
    "            has_position=False #Uncommented for long only\n",
    "            #print(last, row.macd, index)\n",
    "            results=results.append({'start_date':spy.loc[position_start_index,'Date'],'end_date':spy.loc[index,'Date'],'entry_price':spy.loc[position_start_index,'adj_close'],'exit_price':spy.loc[index,'adj_close'],'is_long':is_long}, ignore_index=True)\n",
    "            \n",
    "    elif last<0 and row.macd>=0:\n",
    "            has_position=True\n",
    "            position_start_index=index\n",
    "            if row.macd>0:\n",
    "                is_long=True\n",
    "            else:\n",
    "                is_long=False\n",
    "            \n",
    "                           \n",
    "    last=row.macd                 "
   ]
  },
  {
   "cell_type": "code",
   "execution_count": 34,
   "metadata": {},
   "outputs": [],
   "source": [
    "def calc_returns(x):\n",
    "    if x.is_long==True:\n",
    "        return np.round(100*(x.exit_price/x.entry_price-1),2)\n",
    "    return -1*np.round(100*(x.exit_price/x.entry_price-1),2)"
   ]
  },
  {
   "cell_type": "code",
   "execution_count": 35,
   "metadata": {},
   "outputs": [],
   "source": [
    "#results['returns']=np.round(100*(results.exit_price/results.entry_price-1),2)\n",
    "results['returns']=results.apply(calc_returns, axis=1)"
   ]
  },
  {
   "cell_type": "code",
   "execution_count": 36,
   "metadata": {},
   "outputs": [
    {
     "data": {
      "text/html": [
       "<div>\n",
       "<style scoped>\n",
       "    .dataframe tbody tr th:only-of-type {\n",
       "        vertical-align: middle;\n",
       "    }\n",
       "\n",
       "    .dataframe tbody tr th {\n",
       "        vertical-align: top;\n",
       "    }\n",
       "\n",
       "    .dataframe thead th {\n",
       "        text-align: right;\n",
       "    }\n",
       "</style>\n",
       "<table border=\"1\" class=\"dataframe\">\n",
       "  <thead>\n",
       "    <tr style=\"text-align: right;\">\n",
       "      <th></th>\n",
       "      <th>start_date</th>\n",
       "      <th>end_date</th>\n",
       "      <th>entry_price</th>\n",
       "      <th>exit_price</th>\n",
       "      <th>is_long</th>\n",
       "      <th>returns</th>\n",
       "    </tr>\n",
       "  </thead>\n",
       "  <tbody>\n",
       "    <tr>\n",
       "      <th>0</th>\n",
       "      <td>1993-02-01</td>\n",
       "      <td>1993-02-16</td>\n",
       "      <td>26.486324</td>\n",
       "      <td>26.018700</td>\n",
       "      <td>True</td>\n",
       "      <td>-1.77</td>\n",
       "    </tr>\n",
       "    <tr>\n",
       "      <th>1</th>\n",
       "      <td>1993-02-16</td>\n",
       "      <td>1993-03-02</td>\n",
       "      <td>26.018700</td>\n",
       "      <td>26.897835</td>\n",
       "      <td>False</td>\n",
       "      <td>-3.38</td>\n",
       "    </tr>\n",
       "    <tr>\n",
       "      <th>2</th>\n",
       "      <td>1993-03-02</td>\n",
       "      <td>1993-04-06</td>\n",
       "      <td>26.897835</td>\n",
       "      <td>26.573824</td>\n",
       "      <td>True</td>\n",
       "      <td>-1.20</td>\n",
       "    </tr>\n",
       "    <tr>\n",
       "      <th>3</th>\n",
       "      <td>1993-04-06</td>\n",
       "      <td>1993-04-15</td>\n",
       "      <td>26.573824</td>\n",
       "      <td>27.024878</td>\n",
       "      <td>False</td>\n",
       "      <td>-1.70</td>\n",
       "    </tr>\n",
       "    <tr>\n",
       "      <th>4</th>\n",
       "      <td>1993-04-15</td>\n",
       "      <td>1993-04-20</td>\n",
       "      <td>27.024878</td>\n",
       "      <td>26.780556</td>\n",
       "      <td>True</td>\n",
       "      <td>-0.90</td>\n",
       "    </tr>\n",
       "    <tr>\n",
       "      <th>...</th>\n",
       "      <td>...</td>\n",
       "      <td>...</td>\n",
       "      <td>...</td>\n",
       "      <td>...</td>\n",
       "      <td>...</td>\n",
       "      <td>...</td>\n",
       "    </tr>\n",
       "    <tr>\n",
       "      <th>309</th>\n",
       "      <td>2018-07-06</td>\n",
       "      <td>2018-10-10</td>\n",
       "      <td>265.957367</td>\n",
       "      <td>269.954987</td>\n",
       "      <td>True</td>\n",
       "      <td>1.50</td>\n",
       "    </tr>\n",
       "    <tr>\n",
       "      <th>310</th>\n",
       "      <td>2019-01-17</td>\n",
       "      <td>2019-05-14</td>\n",
       "      <td>256.564514</td>\n",
       "      <td>277.725281</td>\n",
       "      <td>True</td>\n",
       "      <td>8.25</td>\n",
       "    </tr>\n",
       "    <tr>\n",
       "      <th>311</th>\n",
       "      <td>2019-06-12</td>\n",
       "      <td>2019-08-05</td>\n",
       "      <td>282.615387</td>\n",
       "      <td>279.489685</td>\n",
       "      <td>True</td>\n",
       "      <td>-1.11</td>\n",
       "    </tr>\n",
       "    <tr>\n",
       "      <th>312</th>\n",
       "      <td>2019-09-05</td>\n",
       "      <td>2019-10-03</td>\n",
       "      <td>293.276093</td>\n",
       "      <td>287.309692</td>\n",
       "      <td>True</td>\n",
       "      <td>-2.03</td>\n",
       "    </tr>\n",
       "    <tr>\n",
       "      <th>313</th>\n",
       "      <td>2019-10-15</td>\n",
       "      <td>2020-02-26</td>\n",
       "      <td>295.679077</td>\n",
       "      <td>309.678986</td>\n",
       "      <td>True</td>\n",
       "      <td>4.73</td>\n",
       "    </tr>\n",
       "  </tbody>\n",
       "</table>\n",
       "<p>314 rows × 6 columns</p>\n",
       "</div>"
      ],
      "text/plain": [
       "    start_date   end_date  entry_price  exit_price is_long  returns\n",
       "0   1993-02-01 1993-02-16    26.486324   26.018700    True    -1.77\n",
       "1   1993-02-16 1993-03-02    26.018700   26.897835   False    -3.38\n",
       "2   1993-03-02 1993-04-06    26.897835   26.573824    True    -1.20\n",
       "3   1993-04-06 1993-04-15    26.573824   27.024878   False    -1.70\n",
       "4   1993-04-15 1993-04-20    27.024878   26.780556    True    -0.90\n",
       "..         ...        ...          ...         ...     ...      ...\n",
       "309 2018-07-06 2018-10-10   265.957367  269.954987    True     1.50\n",
       "310 2019-01-17 2019-05-14   256.564514  277.725281    True     8.25\n",
       "311 2019-06-12 2019-08-05   282.615387  279.489685    True    -1.11\n",
       "312 2019-09-05 2019-10-03   293.276093  287.309692    True    -2.03\n",
       "313 2019-10-15 2020-02-26   295.679077  309.678986    True     4.73\n",
       "\n",
       "[314 rows x 6 columns]"
      ]
     },
     "execution_count": 36,
     "metadata": {},
     "output_type": "execute_result"
    }
   ],
   "source": [
    "#results.sort_values(by='returns', ascending=False)\n",
    "results"
   ]
  },
  {
   "cell_type": "code",
   "execution_count": 37,
   "metadata": {},
   "outputs": [
    {
     "data": {
      "text/plain": [
       "count    314.000000\n",
       "mean       0.070191\n",
       "std        5.318815\n",
       "min      -10.220000\n",
       "25%       -2.747500\n",
       "50%       -1.295000\n",
       "75%        0.967500\n",
       "max       33.500000\n",
       "Name: returns, dtype: float64"
      ]
     },
     "execution_count": 37,
     "metadata": {},
     "output_type": "execute_result"
    }
   ],
   "source": [
    "results.returns.describe()"
   ]
  },
  {
   "cell_type": "code",
   "execution_count": 38,
   "metadata": {},
   "outputs": [],
   "source": [
    "value_trend=[1000]\n",
    "for r in results.returns:\n",
    "    value_trend.append(value_trend[-1]*(1+r/100))"
   ]
  },
  {
   "cell_type": "code",
   "execution_count": 39,
   "metadata": {},
   "outputs": [
    {
     "data": {
      "text/plain": [
       "[<matplotlib.lines.Line2D at 0x1224047b8>]"
      ]
     },
     "execution_count": 39,
     "metadata": {},
     "output_type": "execute_result"
    },
    {
     "data": {
      "image/png": "[encoded data removed]",
      "text/plain": [
       "<Figure size 432x288 with 1 Axes>"
      ]
     },
     "metadata": {
      "needs_background": "light"
     },
     "output_type": "display_data"
    }
   ],
   "source": [
    "plt.plot(value_trend)"
   ]
  },
  {
   "cell_type": "code",
   "execution_count": 40,
   "metadata": {},
   "outputs": [
    {
     "name": "stdout",
     "output_type": "stream",
     "text": [
      "Returns (%) : -18.0\n",
      "SPY returns (%) : 6848    958.0\n",
      "Name: adj_close, dtype: float64\n"
     ]
    }
   ],
   "source": [
    "print(f'Returns (%) :', np.round(100*(value_trend[-1]/value_trend[0]-1)))\n",
    "print(f'SPY returns (%) :', np.round(100*(spy.adj_close[-1:]/spy.adj_close[0]-1)))"
   ]
  },
  {
   "cell_type": "code",
   "execution_count": 41,
   "metadata": {},
   "outputs": [
    {
     "data": {
      "text/plain": [
       "count    4656.000000\n",
       "mean        0.885092\n",
       "std         0.753805\n",
       "min         0.000121\n",
       "25%         0.310830\n",
       "50%         0.707401\n",
       "75%         1.262029\n",
       "max         4.651392\n",
       "Name: macd, dtype: float64"
      ]
     },
     "execution_count": 41,
     "metadata": {},
     "output_type": "execute_result"
    }
   ],
   "source": [
    "macd_pos=spy.macd[spy.macd>=0]\n",
    "macd_pos.describe()"
   ]
  },
  {
   "cell_type": "code",
   "execution_count": 42,
   "metadata": {},
   "outputs": [
    {
     "data": {
      "text/plain": [
       "count    2193.000000\n",
       "mean       -1.103891\n",
       "std         1.891795\n",
       "min       -23.449347\n",
       "25%        -1.277810\n",
       "50%        -0.631479\n",
       "75%        -0.239072\n",
       "max        -0.000462\n",
       "Name: macd, dtype: float64"
      ]
     },
     "execution_count": 42,
     "metadata": {},
     "output_type": "execute_result"
    }
   ],
   "source": [
    "macd_neg=spy.macd[spy.macd<=0]\n",
    "macd_neg.describe()"
   ]
  },
  {
   "cell_type": "code",
   "execution_count": 43,
   "metadata": {},
   "outputs": [
    {
     "data": {
      "image/png": "[encoded data removed]",
      "text/plain": [
       "<Figure size 432x288 with 1 Axes>"
      ]
     },
     "metadata": {
      "needs_background": "light"
     },
     "output_type": "display_data"
    }
   ],
   "source": [
    "plt.hist(macd_pos, bins=10, alpha=0.6, color='g' ,label='Positives')\n",
    "plt.hist(macd_neg, bins=10, alpha=0.6, color='r' ,label='Negatives')\n",
    "plt.legend(loc='upper left');"
   ]
  },
  {
   "cell_type": "code",
   "execution_count": 44,
   "metadata": {},
   "outputs": [
    {
     "data": {
      "text/plain": [
       "-2.365465799849053"
      ]
     },
     "execution_count": 44,
     "metadata": {},
     "output_type": "execute_result"
    }
   ],
   "source": [
    "get_percentile(macd_neg,t='val',val=10)"
   ]
  },
  {
   "cell_type": "code",
   "execution_count": 45,
   "metadata": {},
   "outputs": [
    {
     "data": {
      "text/plain": [
       "(2.74, -4.460047394359265)"
      ]
     },
     "execution_count": 45,
     "metadata": {},
     "output_type": "execute_result"
    }
   ],
   "source": [
    "get_percentile(macd_neg)"
   ]
  },
  {
   "cell_type": "code",
   "execution_count": 46,
   "metadata": {},
   "outputs": [],
   "source": [
    "# macd turning point\n",
    "#slopes\n",
    "#value at stage of cycle\n",
    "# cycle leegth vs depth "
   ]
  },
  {
   "cell_type": "code",
   "execution_count": 47,
   "metadata": {},
   "outputs": [],
   "source": [
    "macd_results=pd.DataFrame(columns=['start_date','end_date','is_long','hist','length'])"
   ]
  },
  {
   "cell_type": "code",
   "execution_count": 48,
   "metadata": {},
   "outputs": [],
   "source": [
    "#### MACD values per cycle\n",
    "w_macd=[]\n",
    "cycle_macd_hist=[]\n",
    "counter=1\n",
    "has_position=False\n",
    "position_start_index=-1\n",
    "position_end_index=-1\n",
    "last=0\n",
    "is_long=False\n",
    "for index, row in spy.iterrows():\n",
    "    if  index == 0:\n",
    "        last=-1#row[index+1].macd_hist\n",
    "        continue\n",
    "    if sign_change([last,row.macd_hist]):\n",
    "        #print(index)\n",
    "        if has_position:\n",
    "            #has_position=False #Uncommented for long only\n",
    "            #print(last, row.macd, index)\n",
    "            macd_results=macd_results.append({'start_date':spy.loc[position_start_index,'Date'],'end_date':spy.loc[index,'Date'],'is_long':is_long,'hist':cycle_macd_hist,'length':counter-1}, ignore_index=True)\n",
    "            counter=1\n",
    "            if has_position:\n",
    "                position_start_index=index\n",
    "                cycle_macd_hist=[]\n",
    "                cycle_macd_hist.append(row.macd_hist)\n",
    "                w_macd.append(counter*row.macd_hist)\n",
    "                counter+=1\n",
    "                if row.macd_hist>0:\n",
    "                    is_long=True\n",
    "                else:\n",
    "                    is_long=False\n",
    "                    \n",
    "        \n",
    "        else:\n",
    "            has_position=True\n",
    "            position_start_index=index\n",
    "            w_macd.append(counter*row.macd_hist)\n",
    "            counter+=1\n",
    "            cycle_macd_hist.append(row.macd_hist)\n",
    "            if row.macd_hist>0:\n",
    "                is_long=True\n",
    "            else:\n",
    "                is_long=False\n",
    "            \n",
    "    elif has_position:\n",
    "        cycle_macd_hist.append(row.macd_hist)\n",
    "        w_macd.append(counter*row.macd_hist)\n",
    "        counter+=1\n",
    "    last=row.macd_hist                 "
   ]
  },
  {
   "cell_type": "code",
   "execution_count": 49,
   "metadata": {},
   "outputs": [
    {
     "data": {
      "text/html": [
       "<div>\n",
       "<style scoped>\n",
       "    .dataframe tbody tr th:only-of-type {\n",
       "        vertical-align: middle;\n",
       "    }\n",
       "\n",
       "    .dataframe tbody tr th {\n",
       "        vertical-align: top;\n",
       "    }\n",
       "\n",
       "    .dataframe thead th {\n",
       "        text-align: right;\n",
       "    }\n",
       "</style>\n",
       "<table border=\"1\" class=\"dataframe\">\n",
       "  <thead>\n",
       "    <tr style=\"text-align: right;\">\n",
       "      <th></th>\n",
       "      <th>start_date</th>\n",
       "      <th>end_date</th>\n",
       "      <th>is_long</th>\n",
       "      <th>hist</th>\n",
       "      <th>length</th>\n",
       "    </tr>\n",
       "  </thead>\n",
       "  <tbody>\n",
       "    <tr>\n",
       "      <th>0</th>\n",
       "      <td>1993-02-01</td>\n",
       "      <td>1993-02-12</td>\n",
       "      <td>True</td>\n",
       "      <td>[0.0019233135683750886, 0.0029353020989389793,...</td>\n",
       "      <td>9</td>\n",
       "    </tr>\n",
       "    <tr>\n",
       "      <th>1</th>\n",
       "      <td>1993-02-12</td>\n",
       "      <td>1993-02-26</td>\n",
       "      <td>False</td>\n",
       "      <td>[-0.0045860291755022466, -0.0396778294975153, ...</td>\n",
       "      <td>9</td>\n",
       "    </tr>\n",
       "    <tr>\n",
       "      <th>2</th>\n",
       "      <td>1993-02-26</td>\n",
       "      <td>1993-03-22</td>\n",
       "      <td>True</td>\n",
       "      <td>[0.012624890656333147, 0.019272711462453948, 0...</td>\n",
       "      <td>16</td>\n",
       "    </tr>\n",
       "    <tr>\n",
       "      <th>3</th>\n",
       "      <td>1993-03-22</td>\n",
       "      <td>1993-04-16</td>\n",
       "      <td>False</td>\n",
       "      <td>[-0.005791281859065564, -0.014243113186095335,...</td>\n",
       "      <td>18</td>\n",
       "    </tr>\n",
       "    <tr>\n",
       "      <th>4</th>\n",
       "      <td>1993-04-16</td>\n",
       "      <td>1993-04-20</td>\n",
       "      <td>True</td>\n",
       "      <td>[0.0036131835023729825, 0.00047856660874114054]</td>\n",
       "      <td>2</td>\n",
       "    </tr>\n",
       "    <tr>\n",
       "      <th>...</th>\n",
       "      <td>...</td>\n",
       "      <td>...</td>\n",
       "      <td>...</td>\n",
       "      <td>...</td>\n",
       "      <td>...</td>\n",
       "    </tr>\n",
       "    <tr>\n",
       "      <th>515</th>\n",
       "      <td>2020-01-07</td>\n",
       "      <td>2020-01-09</td>\n",
       "      <td>False</td>\n",
       "      <td>[-0.05148256050640221, -0.05992622412837578]</td>\n",
       "      <td>2</td>\n",
       "    </tr>\n",
       "    <tr>\n",
       "      <th>516</th>\n",
       "      <td>2020-01-09</td>\n",
       "      <td>2020-01-24</td>\n",
       "      <td>True</td>\n",
       "      <td>[0.051480903590881866, 0.02675927907370479, 0....</td>\n",
       "      <td>10</td>\n",
       "    </tr>\n",
       "    <tr>\n",
       "      <th>517</th>\n",
       "      <td>2020-01-24</td>\n",
       "      <td>2020-02-10</td>\n",
       "      <td>False</td>\n",
       "      <td>[-0.032798894459397765, -0.6129618253449123, -...</td>\n",
       "      <td>11</td>\n",
       "    </tr>\n",
       "    <tr>\n",
       "      <th>518</th>\n",
       "      <td>2020-02-10</td>\n",
       "      <td>2020-02-24</td>\n",
       "      <td>True</td>\n",
       "      <td>[0.17271535359909995, 0.3346935061122953, 0.54...</td>\n",
       "      <td>9</td>\n",
       "    </tr>\n",
       "    <tr>\n",
       "      <th>519</th>\n",
       "      <td>2020-02-24</td>\n",
       "      <td>2020-03-27</td>\n",
       "      <td>False</td>\n",
       "      <td>[-1.0049033880281675, -2.324256541618805, -3.2...</td>\n",
       "      <td>24</td>\n",
       "    </tr>\n",
       "  </tbody>\n",
       "</table>\n",
       "<p>520 rows × 5 columns</p>\n",
       "</div>"
      ],
      "text/plain": [
       "    start_date   end_date is_long  \\\n",
       "0   1993-02-01 1993-02-12    True   \n",
       "1   1993-02-12 1993-02-26   False   \n",
       "2   1993-02-26 1993-03-22    True   \n",
       "3   1993-03-22 1993-04-16   False   \n",
       "4   1993-04-16 1993-04-20    True   \n",
       "..         ...        ...     ...   \n",
       "515 2020-01-07 2020-01-09   False   \n",
       "516 2020-01-09 2020-01-24    True   \n",
       "517 2020-01-24 2020-02-10   False   \n",
       "518 2020-02-10 2020-02-24    True   \n",
       "519 2020-02-24 2020-03-27   False   \n",
       "\n",
       "                                                  hist length  \n",
       "0    [0.0019233135683750886, 0.0029353020989389793,...      9  \n",
       "1    [-0.0045860291755022466, -0.0396778294975153, ...      9  \n",
       "2    [0.012624890656333147, 0.019272711462453948, 0...     16  \n",
       "3    [-0.005791281859065564, -0.014243113186095335,...     18  \n",
       "4      [0.0036131835023729825, 0.00047856660874114054]      2  \n",
       "..                                                 ...    ...  \n",
       "515       [-0.05148256050640221, -0.05992622412837578]      2  \n",
       "516  [0.051480903590881866, 0.02675927907370479, 0....     10  \n",
       "517  [-0.032798894459397765, -0.6129618253449123, -...     11  \n",
       "518  [0.17271535359909995, 0.3346935061122953, 0.54...      9  \n",
       "519  [-1.0049033880281675, -2.324256541618805, -3.2...     24  \n",
       "\n",
       "[520 rows x 5 columns]"
      ]
     },
     "execution_count": 49,
     "metadata": {},
     "output_type": "execute_result"
    }
   ],
   "source": [
    "macd_results"
   ]
  },
  {
   "cell_type": "code",
   "execution_count": 50,
   "metadata": {},
   "outputs": [
    {
     "data": {
      "text/plain": [
       "array([68.35719697])"
      ]
     },
     "execution_count": 50,
     "metadata": {},
     "output_type": "execute_result"
    }
   ],
   "source": [
    "w_macd=np.asarray(w_macd)\n",
    "w_macd[-1:]"
   ]
  },
  {
   "cell_type": "code",
   "execution_count": 51,
   "metadata": {},
   "outputs": [
    {
     "data": {
      "text/plain": [
       "-46.925074918127315"
      ]
     },
     "execution_count": 51,
     "metadata": {},
     "output_type": "execute_result"
    }
   ],
   "source": [
    "np.percentile(w_macd[w_macd<=0],0.5)"
   ]
  },
  {
   "cell_type": "markdown",
   "metadata": {},
   "source": [
    "### STO"
   ]
  },
  {
   "cell_type": "code",
   "execution_count": 234,
   "metadata": {},
   "outputs": [],
   "source": [
    "d={'function': 'STOCH','apikey':\"YEUC2DL0F7KC43PB\",'symbol':'SPY','interval':'daily','fastkperiod':10 }\n",
    "response = requests.get(\n",
    "        'https://www.alphavantage.co/query',\n",
    "        params=d,\n",
    "        )\n",
    "\n",
    "#https://www.alphavantage.co/query?function=STOCH&symbol=SPY&interval=weekly&apikey=YEUC2DL0F7KC43PB&fastkperiod=16"
   ]
  },
  {
   "cell_type": "code",
   "execution_count": 235,
   "metadata": {},
   "outputs": [],
   "source": [
    "slowk=[]\n",
    "slowd=[]\n",
    "for key, val in response.json()['Technical Analysis: STOCH'].items():\n",
    "    slowk.append(float(val['SlowK']))\n",
    "    slowd.append(float(val['SlowD']))"
   ]
  },
  {
   "cell_type": "code",
   "execution_count": 236,
   "metadata": {},
   "outputs": [],
   "source": [
    "sto=pd.DataFrame({'Date':list(response.json()['Technical Analysis: STOCH'].keys()),\n",
    "                 'k':slowk,\n",
    "                  'd':slowd\n",
    "                 })"
   ]
  },
  {
   "cell_type": "code",
   "execution_count": 237,
   "metadata": {},
   "outputs": [],
   "source": [
    "sto=sto.astype({'Date': 'datetime64'})"
   ]
  },
  {
   "cell_type": "code",
   "execution_count": 238,
   "metadata": {},
   "outputs": [],
   "source": [
    "spy=spy.merge(sto,left_on='Date',right_on='Date',how='left')"
   ]
  },
  {
   "cell_type": "code",
   "execution_count": 239,
   "metadata": {},
   "outputs": [],
   "source": [
    "spy['sto_diff']=spy['k']-spy['d']"
   ]
  },
  {
   "cell_type": "code",
   "execution_count": 240,
   "metadata": {},
   "outputs": [
    {
     "data": {
      "image/png": "[encoded data removed]",
      "text/plain": [
       "<Figure size 432x288 with 1 Axes>"
      ]
     },
     "metadata": {
      "needs_background": "light"
     },
     "output_type": "display_data"
    }
   ],
   "source": [
    "plt.hist(spy.sto_diff[spy.sto_diff>=0], bins=10, alpha=0.6, color='g' ,label='Positives')\n",
    "plt.hist(spy.sto_diff[spy.sto_diff<=0], bins=10, alpha=0.6, color='r' ,label='Negatives')\n",
    "plt.legend(loc='upper left');"
   ]
  },
  {
   "cell_type": "code",
   "execution_count": 241,
   "metadata": {},
   "outputs": [
    {
     "data": {
      "image/png": "[encoded data removed]",
      "text/plain": [
       "<Figure size 720x288 with 1 Axes>"
      ]
     },
     "metadata": {
      "needs_background": "light"
     },
     "output_type": "display_data"
    }
   ],
   "source": [
    "plt.figure(figsize=(10,4))\n",
    "plt.hist(np.abs(spy.sto_diff), bins=15, histtype='step');"
   ]
  },
  {
   "cell_type": "code",
   "execution_count": 168,
   "metadata": {},
   "outputs": [
    {
     "data": {
      "text/plain": [
       "0.6069999999999993"
      ]
     },
     "execution_count": 168,
     "metadata": {},
     "output_type": "execute_result"
    }
   ],
   "source": [
    "get_percentile(np.abs(spy.sto_diff.dropna()),t='val',val=10)"
   ]
  },
  {
   "cell_type": "code",
   "execution_count": 171,
   "metadata": {},
   "outputs": [
    {
     "data": {
      "text/plain": [
       "-18.755091000000004"
      ]
     },
     "execution_count": 171,
     "metadata": {},
     "output_type": "execute_result"
    }
   ],
   "source": [
    "get_percentile(spy.sto_diff.dropna(),t='val',val=1)"
   ]
  },
  {
   "cell_type": "code",
   "execution_count": 196,
   "metadata": {},
   "outputs": [
    {
     "data": {
      "text/plain": [
       "19.69468099999996"
      ]
     },
     "execution_count": 196,
     "metadata": {},
     "output_type": "execute_result"
    }
   ],
   "source": [
    "get_percentile(spy.sto_diff[spy.sto_diff>=0].dropna(),t='val',val=99)"
   ]
  },
  {
   "cell_type": "code",
   "execution_count": 242,
   "metadata": {},
   "outputs": [
    {
     "data": {
      "text/plain": [
       "(63.94, 2.695700000000002)"
      ]
     },
     "execution_count": 242,
     "metadata": {},
     "output_type": "execute_result"
    }
   ],
   "source": [
    "get_percentile(spy.sto_diff)"
   ]
  },
  {
   "cell_type": "code",
   "execution_count": 228,
   "metadata": {},
   "outputs": [
    {
     "data": {
      "text/html": [
       "<div>\n",
       "<style scoped>\n",
       "    .dataframe tbody tr th:only-of-type {\n",
       "        vertical-align: middle;\n",
       "    }\n",
       "\n",
       "    .dataframe tbody tr th {\n",
       "        vertical-align: top;\n",
       "    }\n",
       "\n",
       "    .dataframe thead th {\n",
       "        text-align: right;\n",
       "    }\n",
       "</style>\n",
       "<table border=\"1\" class=\"dataframe\">\n",
       "  <thead>\n",
       "    <tr style=\"text-align: right;\">\n",
       "      <th></th>\n",
       "      <th>Date</th>\n",
       "      <th>Open</th>\n",
       "      <th>High</th>\n",
       "      <th>Low</th>\n",
       "      <th>Close</th>\n",
       "      <th>adj_close</th>\n",
       "      <th>Volume</th>\n",
       "      <th>macd</th>\n",
       "      <th>macd_hist</th>\n",
       "      <th>k_x</th>\n",
       "      <th>d_x</th>\n",
       "      <th>sto_diff</th>\n",
       "      <th>std</th>\n",
       "      <th>k_y</th>\n",
       "      <th>d_y</th>\n",
       "    </tr>\n",
       "  </thead>\n",
       "  <tbody>\n",
       "    <tr>\n",
       "      <th>1847</th>\n",
       "      <td>2000-05-23</td>\n",
       "      <td>140.4375</td>\n",
       "      <td>140.8125</td>\n",
       "      <td>137.562500</td>\n",
       "      <td>138.00000</td>\n",
       "      <td>94.551285</td>\n",
       "      <td>7979200</td>\n",
       "      <td>-0.740127</td>\n",
       "      <td>-0.261113</td>\n",
       "      <td>21.7521</td>\n",
       "      <td>36.6001</td>\n",
       "      <td>-14.8480</td>\n",
       "      <td>2.752918</td>\n",
       "      <td>23.9190</td>\n",
       "      <td>39.4654</td>\n",
       "    </tr>\n",
       "    <tr>\n",
       "      <th>1848</th>\n",
       "      <td>2000-05-24</td>\n",
       "      <td>138.0000</td>\n",
       "      <td>140.6875</td>\n",
       "      <td>136.500000</td>\n",
       "      <td>140.25000</td>\n",
       "      <td>96.092865</td>\n",
       "      <td>11081500</td>\n",
       "      <td>-0.784629</td>\n",
       "      <td>-0.258597</td>\n",
       "      <td>21.7289</td>\n",
       "      <td>26.4806</td>\n",
       "      <td>-4.7517</td>\n",
       "      <td>2.815898</td>\n",
       "      <td>23.7758</td>\n",
       "      <td>29.1043</td>\n",
       "    </tr>\n",
       "    <tr>\n",
       "      <th>1849</th>\n",
       "      <td>2000-05-25</td>\n",
       "      <td>140.6875</td>\n",
       "      <td>141.8125</td>\n",
       "      <td>137.718750</td>\n",
       "      <td>137.84375</td>\n",
       "      <td>94.444168</td>\n",
       "      <td>8278900</td>\n",
       "      <td>-0.942074</td>\n",
       "      <td>-0.352036</td>\n",
       "      <td>16.6973</td>\n",
       "      <td>20.0594</td>\n",
       "      <td>-3.3621</td>\n",
       "      <td>2.799059</td>\n",
       "      <td>18.2444</td>\n",
       "      <td>21.9797</td>\n",
       "    </tr>\n",
       "    <tr>\n",
       "      <th>1850</th>\n",
       "      <td>2000-05-26</td>\n",
       "      <td>138.8125</td>\n",
       "      <td>139.6875</td>\n",
       "      <td>137.328125</td>\n",
       "      <td>138.00000</td>\n",
       "      <td>94.551285</td>\n",
       "      <td>4814000</td>\n",
       "      <td>-1.046147</td>\n",
       "      <td>-0.385938</td>\n",
       "      <td>18.0325</td>\n",
       "      <td>18.8196</td>\n",
       "      <td>-0.7871</td>\n",
       "      <td>2.830538</td>\n",
       "      <td>19.5914</td>\n",
       "      <td>20.5372</td>\n",
       "    </tr>\n",
       "    <tr>\n",
       "      <th>1851</th>\n",
       "      <td>2000-05-30</td>\n",
       "      <td>140.0000</td>\n",
       "      <td>142.9375</td>\n",
       "      <td>139.468750</td>\n",
       "      <td>142.50000</td>\n",
       "      <td>97.634476</td>\n",
       "      <td>5362700</td>\n",
       "      <td>-0.869812</td>\n",
       "      <td>-0.177356</td>\n",
       "      <td>24.5170</td>\n",
       "      <td>19.7489</td>\n",
       "      <td>4.7681</td>\n",
       "      <td>2.712847</td>\n",
       "      <td>26.2767</td>\n",
       "      <td>21.3708</td>\n",
       "    </tr>\n",
       "  </tbody>\n",
       "</table>\n",
       "</div>"
      ],
      "text/plain": [
       "           Date      Open      High         Low      Close  adj_close  \\\n",
       "1847 2000-05-23  140.4375  140.8125  137.562500  138.00000  94.551285   \n",
       "1848 2000-05-24  138.0000  140.6875  136.500000  140.25000  96.092865   \n",
       "1849 2000-05-25  140.6875  141.8125  137.718750  137.84375  94.444168   \n",
       "1850 2000-05-26  138.8125  139.6875  137.328125  138.00000  94.551285   \n",
       "1851 2000-05-30  140.0000  142.9375  139.468750  142.50000  97.634476   \n",
       "\n",
       "        Volume      macd  macd_hist      k_x      d_x  sto_diff       std  \\\n",
       "1847   7979200 -0.740127  -0.261113  21.7521  36.6001  -14.8480  2.752918   \n",
       "1848  11081500 -0.784629  -0.258597  21.7289  26.4806   -4.7517  2.815898   \n",
       "1849   8278900 -0.942074  -0.352036  16.6973  20.0594   -3.3621  2.799059   \n",
       "1850   4814000 -1.046147  -0.385938  18.0325  18.8196   -0.7871  2.830538   \n",
       "1851   5362700 -0.869812  -0.177356  24.5170  19.7489    4.7681  2.712847   \n",
       "\n",
       "          k_y      d_y  \n",
       "1847  23.9190  39.4654  \n",
       "1848  23.7758  29.1043  \n",
       "1849  18.2444  21.9797  \n",
       "1850  19.5914  20.5372  \n",
       "1851  26.2767  21.3708  "
      ]
     },
     "execution_count": 228,
     "metadata": {},
     "output_type": "execute_result"
    }
   ],
   "source": [
    "spy.dropna().head(5)"
   ]
  },
  {
   "cell_type": "code",
   "execution_count": 243,
   "metadata": {},
   "outputs": [],
   "source": [
    "results=pd.DataFrame(columns=['start_date','end_date','entry_price','exit_price','is_long'])"
   ]
  },
  {
   "cell_type": "code",
   "execution_count": 244,
   "metadata": {},
   "outputs": [],
   "source": [
    "#On sign change.\n",
    "has_position=False\n",
    "position_start_index=-1\n",
    "position_end_index=-1\n",
    "last=0\n",
    "is_long=False\n",
    "for index, row in spy.dropna().iterrows():\n",
    "    if  index == 1847:\n",
    "        last=row.sto_diff\n",
    "        continue\n",
    "    if sign_change([last,row.sto_diff]):\n",
    "        #print(index)\n",
    "        if has_position:\n",
    "            #has_position=False \n",
    "            #print(last, row.macd, index)\n",
    "            results=results.append({'start_date':spy.loc[position_start_index,'Date'],'end_date':spy.loc[index,'Date'],'entry_price':spy.loc[position_start_index,'adj_close'],'exit_price':spy.loc[index,'adj_close'],'is_long':is_long}, ignore_index=True)\n",
    "            if has_position:\n",
    "                position_start_index=index\n",
    "                if row.sto_diff>0:\n",
    "                    is_long=True\n",
    "                else:\n",
    "                    is_long=False\n",
    "        \n",
    "        else:\n",
    "            has_position=True\n",
    "            position_start_index=index\n",
    "            if row.sto_diff>0:\n",
    "                is_long=True\n",
    "            else:\n",
    "                is_long=False\n",
    "            \n",
    "                           \n",
    "    last=row.sto_diff"
   ]
  },
  {
   "cell_type": "code",
   "execution_count": 205,
   "metadata": {},
   "outputs": [],
   "source": [
    "def close_position(x,is_long):\n",
    "    if is_long and x> -6.80:\n",
    "        return False\n",
    "    elif ~is_long and x<0:\n",
    "        return True\n",
    "    return True"
   ]
  },
  {
   "cell_type": "code",
   "execution_count": 220,
   "metadata": {},
   "outputs": [],
   "source": [
    "#On sign change buy and below -x sell:\n",
    "\n",
    "has_position=False\n",
    "position_start_index=-1\n",
    "position_end_index=-1\n",
    "last=0\n",
    "is_long=False\n",
    "for index, row in spy.dropna().iterrows():\n",
    "    if  index == 1847:\n",
    "        last=row.sto_diff\n",
    "        continue\n",
    "    if has_position and row.sto_diff<-6.8:#close_position(row.sto_diff,is_long):\n",
    "        #print(index)\n",
    "        #if has_position:\n",
    "            has_position=False #Uncommented for long only\n",
    "            #print(last, row.macd, index)\n",
    "            results=results.append({'start_date':spy.loc[position_start_index,'Date'],'end_date':spy.loc[index,'Date'],'entry_price':spy.loc[position_start_index,'adj_close'],'exit_price':spy.loc[index,'adj_close'],'is_long':is_long}, ignore_index=True)\n",
    "            if has_position:\n",
    "                position_start_index=index\n",
    "                if row.sto_diff>0:\n",
    "                    is_long=True\n",
    "                else:\n",
    "                    is_long=False\n",
    "            \n",
    "    elif ~has_position and last<0 and row.sto_diff>=0:# and index<=1852:\n",
    "\n",
    "            has_position=True\n",
    "            position_start_index=index\n",
    "            if row.sto_diff>0:\n",
    "                is_long=True\n",
    "            else:\n",
    "                is_long=False\n",
    "                         \n",
    "    last=row.sto_diff\n",
    "                               "
   ]
  },
  {
   "cell_type": "code",
   "execution_count": 245,
   "metadata": {},
   "outputs": [],
   "source": [
    "results['returns']=results.apply(calc_returns, axis=1)"
   ]
  },
  {
   "cell_type": "code",
   "execution_count": 246,
   "metadata": {},
   "outputs": [
    {
     "data": {
      "text/html": [
       "<div>\n",
       "<style scoped>\n",
       "    .dataframe tbody tr th:only-of-type {\n",
       "        vertical-align: middle;\n",
       "    }\n",
       "\n",
       "    .dataframe tbody tr th {\n",
       "        vertical-align: top;\n",
       "    }\n",
       "\n",
       "    .dataframe thead th {\n",
       "        text-align: right;\n",
       "    }\n",
       "</style>\n",
       "<table border=\"1\" class=\"dataframe\">\n",
       "  <thead>\n",
       "    <tr style=\"text-align: right;\">\n",
       "      <th></th>\n",
       "      <th>start_date</th>\n",
       "      <th>end_date</th>\n",
       "      <th>entry_price</th>\n",
       "      <th>exit_price</th>\n",
       "      <th>is_long</th>\n",
       "      <th>returns</th>\n",
       "    </tr>\n",
       "  </thead>\n",
       "  <tbody>\n",
       "    <tr>\n",
       "      <th>0</th>\n",
       "      <td>2000-05-05</td>\n",
       "      <td>2000-05-08</td>\n",
       "      <td>98.341011</td>\n",
       "      <td>97.602333</td>\n",
       "      <td>False</td>\n",
       "      <td>0.75</td>\n",
       "    </tr>\n",
       "    <tr>\n",
       "      <th>1</th>\n",
       "      <td>2000-05-08</td>\n",
       "      <td>2000-05-10</td>\n",
       "      <td>97.602333</td>\n",
       "      <td>94.636948</td>\n",
       "      <td>True</td>\n",
       "      <td>-3.04</td>\n",
       "    </tr>\n",
       "    <tr>\n",
       "      <th>2</th>\n",
       "      <td>2000-05-10</td>\n",
       "      <td>2000-05-12</td>\n",
       "      <td>94.636948</td>\n",
       "      <td>97.848541</td>\n",
       "      <td>False</td>\n",
       "      <td>-3.39</td>\n",
       "    </tr>\n",
       "    <tr>\n",
       "      <th>3</th>\n",
       "      <td>2000-05-12</td>\n",
       "      <td>2000-05-18</td>\n",
       "      <td>97.848541</td>\n",
       "      <td>98.233986</td>\n",
       "      <td>True</td>\n",
       "      <td>0.39</td>\n",
       "    </tr>\n",
       "    <tr>\n",
       "      <th>4</th>\n",
       "      <td>2000-05-18</td>\n",
       "      <td>2000-05-30</td>\n",
       "      <td>98.233986</td>\n",
       "      <td>97.634476</td>\n",
       "      <td>False</td>\n",
       "      <td>0.61</td>\n",
       "    </tr>\n",
       "    <tr>\n",
       "      <th>...</th>\n",
       "      <td>...</td>\n",
       "      <td>...</td>\n",
       "      <td>...</td>\n",
       "      <td>...</td>\n",
       "      <td>...</td>\n",
       "      <td>...</td>\n",
       "    </tr>\n",
       "    <tr>\n",
       "      <th>1298</th>\n",
       "      <td>2020-03-18</td>\n",
       "      <td>2020-03-19</td>\n",
       "      <td>238.596985</td>\n",
       "      <td>239.103989</td>\n",
       "      <td>False</td>\n",
       "      <td>-0.21</td>\n",
       "    </tr>\n",
       "    <tr>\n",
       "      <th>1299</th>\n",
       "      <td>2020-03-19</td>\n",
       "      <td>2020-03-20</td>\n",
       "      <td>239.103989</td>\n",
       "      <td>228.800003</td>\n",
       "      <td>True</td>\n",
       "      <td>-4.31</td>\n",
       "    </tr>\n",
       "    <tr>\n",
       "      <th>1300</th>\n",
       "      <td>2020-03-20</td>\n",
       "      <td>2020-03-24</td>\n",
       "      <td>228.800003</td>\n",
       "      <td>243.149994</td>\n",
       "      <td>False</td>\n",
       "      <td>-6.27</td>\n",
       "    </tr>\n",
       "    <tr>\n",
       "      <th>1301</th>\n",
       "      <td>2020-03-24</td>\n",
       "      <td>2020-04-01</td>\n",
       "      <td>243.149994</td>\n",
       "      <td>246.149994</td>\n",
       "      <td>True</td>\n",
       "      <td>1.23</td>\n",
       "    </tr>\n",
       "    <tr>\n",
       "      <th>1302</th>\n",
       "      <td>2020-04-01</td>\n",
       "      <td>2020-04-06</td>\n",
       "      <td>246.149994</td>\n",
       "      <td>264.859985</td>\n",
       "      <td>False</td>\n",
       "      <td>-7.60</td>\n",
       "    </tr>\n",
       "  </tbody>\n",
       "</table>\n",
       "<p>1303 rows × 6 columns</p>\n",
       "</div>"
      ],
      "text/plain": [
       "     start_date   end_date  entry_price  exit_price is_long  returns\n",
       "0    2000-05-05 2000-05-08    98.341011   97.602333   False     0.75\n",
       "1    2000-05-08 2000-05-10    97.602333   94.636948    True    -3.04\n",
       "2    2000-05-10 2000-05-12    94.636948   97.848541   False    -3.39\n",
       "3    2000-05-12 2000-05-18    97.848541   98.233986    True     0.39\n",
       "4    2000-05-18 2000-05-30    98.233986   97.634476   False     0.61\n",
       "...         ...        ...          ...         ...     ...      ...\n",
       "1298 2020-03-18 2020-03-19   238.596985  239.103989   False    -0.21\n",
       "1299 2020-03-19 2020-03-20   239.103989  228.800003    True    -4.31\n",
       "1300 2020-03-20 2020-03-24   228.800003  243.149994   False    -6.27\n",
       "1301 2020-03-24 2020-04-01   243.149994  246.149994    True     1.23\n",
       "1302 2020-04-01 2020-04-06   246.149994  264.859985   False    -7.60\n",
       "\n",
       "[1303 rows x 6 columns]"
      ]
     },
     "execution_count": 246,
     "metadata": {},
     "output_type": "execute_result"
    }
   ],
   "source": [
    "results#.tail(20)"
   ]
  },
  {
   "cell_type": "code",
   "execution_count": 247,
   "metadata": {},
   "outputs": [
    {
     "data": {
      "text/plain": [
       "count    1303.000000\n",
       "mean       -0.140721\n",
       "std         2.160454\n",
       "min        -7.840000\n",
       "25%        -1.170000\n",
       "50%        -0.380000\n",
       "75%         0.535000\n",
       "max        20.540000\n",
       "Name: returns, dtype: float64"
      ]
     },
     "execution_count": 247,
     "metadata": {},
     "output_type": "execute_result"
    }
   ],
   "source": [
    "results.returns.describe()"
   ]
  },
  {
   "cell_type": "code",
   "execution_count": 248,
   "metadata": {},
   "outputs": [],
   "source": [
    "v=1000\n",
    "value_trend=[]\n",
    "for r in results.returns:\n",
    "    value_trend.append(v*(1+r/100))\n",
    "    v=value_trend[-1]"
   ]
  },
  {
   "cell_type": "code",
   "execution_count": 249,
   "metadata": {},
   "outputs": [
    {
     "data": {
      "text/plain": [
       "118.53441582523666"
      ]
     },
     "execution_count": 249,
     "metadata": {},
     "output_type": "execute_result"
    }
   ],
   "source": [
    "v"
   ]
  },
  {
   "cell_type": "code",
   "execution_count": 250,
   "metadata": {},
   "outputs": [
    {
     "data": {
      "text/plain": [
       "[<matplotlib.lines.Line2D at 0x125864160>]"
      ]
     },
     "execution_count": 250,
     "metadata": {},
     "output_type": "execute_result"
    },
    {
     "data": {
      "image/png": "[encoded data removed]",
      "text/plain": [
       "<Figure size 432x288 with 1 Axes>"
      ]
     },
     "metadata": {
      "needs_background": "light"
     },
     "output_type": "display_data"
    }
   ],
   "source": [
    "plt.plot(value_trend)"
   ]
  },
  {
   "cell_type": "markdown",
   "metadata": {},
   "source": [
    "### Slope"
   ]
  },
  {
   "cell_type": "code",
   "execution_count": 59,
   "metadata": {},
   "outputs": [
    {
     "data": {
      "text/plain": [
       "array([  4.8920075, 258.3249815])"
      ]
     },
     "execution_count": 59,
     "metadata": {},
     "output_type": "execute_result"
    }
   ],
   "source": [
    "np.polyfit(x=[1,2,3,4],y=spy.adj_close.values[-4:],deg=1,full=False)"
   ]
  },
  {
   "cell_type": "code",
   "execution_count": 60,
   "metadata": {},
   "outputs": [
    {
     "data": {
      "text/plain": [
       "[<matplotlib.lines.Line2D at 0x121d743c8>]"
      ]
     },
     "execution_count": 60,
     "metadata": {},
     "output_type": "execute_result"
    },
    {
     "data": {
      "image/png": "[encoded data removed]",
      "text/plain": [
       "<Figure size 432x288 with 1 Axes>"
      ]
     },
     "metadata": {
      "needs_background": "light"
     },
     "output_type": "display_data"
    }
   ],
   "source": [
    "plt.plot([1,2,3,4],spy.adj_close.values[-4:])"
   ]
  },
  {
   "cell_type": "code",
   "execution_count": null,
   "metadata": {},
   "outputs": [],
   "source": []
  },
  {
   "cell_type": "code",
   "execution_count": null,
   "metadata": {},
   "outputs": [],
   "source": []
  },
  {
   "cell_type": "code",
   "execution_count": null,
   "metadata": {},
   "outputs": [],
   "source": []
  },
  {
   "cell_type": "code",
   "execution_count": null,
   "metadata": {},
   "outputs": [],
   "source": []
  },
  {
   "cell_type": "code",
   "execution_count": null,
   "metadata": {},
   "outputs": [],
   "source": []
  },
  {
   "cell_type": "code",
   "execution_count": 61,
   "metadata": {},
   "outputs": [],
   "source": [
    "spy['std']=spy.Close.rolling(22).apply(np.std, raw=False)"
   ]
  },
  {
   "cell_type": "code",
   "execution_count": 62,
   "metadata": {},
   "outputs": [],
   "source": [
    "spy=spy.set_index('Date')"
   ]
  },
  {
   "cell_type": "code",
   "execution_count": 63,
   "metadata": {},
   "outputs": [],
   "source": [
    "spy.reset_index(inplace=True)"
   ]
  },
  {
   "cell_type": "markdown",
   "metadata": {},
   "source": [
    "#price drop, macd hist trough, macd level itself, vol, instead of AMCS signal cycle maybe holding cycle with <-0.3\n",
    "There will be bad signals, have to make yourown determination\n",
    "is down x% is what percentile of all x days, maybe VaR*\n",
    "Not trade high vol situations\n",
    "does it always cycle down\n",
    "can repeat with weekly & sto but maybe have to rely on *\n",
    "pressure release, mean reversion need of the process\n",
    "\n",
    "so looks like forget predictor, there is not even a good descriptor for quick changes. \n",
    "Maybe use vol to describe market, explore shorter MAs for high vol. \n",
    "A lot if your skill and estimation.\n",
    "sentiment maybe something from an unbiased or differentiated source \n",
    "stay long buy protection\n"
   ]
  }
 ],
 "metadata": {
  "kernelspec": {
   "display_name": "Python 3",
   "language": "python",
   "name": "python3"
  },
  "language_info": {
   "codemirror_mode": {
    "name": "ipython",
    "version": 3
   },
   "file_extension": ".py",
   "mimetype": "text/x-python",
   "name": "python",
   "nbconvert_exporter": "python",
   "pygments_lexer": "ipython3",
   "version": "3.6.9"
  }
 },
 "nbformat": 4,
 "nbformat_minor": 2
}

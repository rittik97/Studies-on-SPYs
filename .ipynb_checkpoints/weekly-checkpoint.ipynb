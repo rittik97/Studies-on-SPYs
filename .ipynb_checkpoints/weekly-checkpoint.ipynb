{
 "cells": [
  {
   "cell_type": "code",
   "execution_count": 1,
   "metadata": {},
   "outputs": [],
   "source": [
    "import pandas as pd\n",
    "import numpy as np \n",
    "import matplotlib.pyplot as plt\n",
    "import requests\n",
    "from collections import Counter"
   ]
  },
  {
   "cell_type": "code",
   "execution_count": 2,
   "metadata": {},
   "outputs": [],
   "source": [
    "#spy=pd.read_csv(\"data/SPY_weekly.csv\")\n",
    "#spy.rename(columns={'Adj Close':\"adj_close\"}, inplace=True)\n",
    "#spy=spy.astype({'Date': 'datetime64'})"
   ]
  },
  {
   "cell_type": "code",
   "execution_count": 3,
   "metadata": {},
   "outputs": [],
   "source": [
    "ticker='ABT'\n",
    "d={'function': 'TIME_SERIES_WEEKLY_ADJUSTED','apikey':\"YEUC2DL0F7KC43PB\",'symbol':ticker}\n",
    "response = requests.get(\n",
    "        'https://www.alphavantage.co/query',\n",
    "        params=d,\n",
    "        )"
   ]
  },
  {
   "cell_type": "code",
   "execution_count": 4,
   "metadata": {},
   "outputs": [],
   "source": [
    "#open #high #low #close #adjusted close  #volume #dividend amount\n",
    "spy=[[],[],[],[],[],[],[]]\n",
    "for key, val in response.json()['Weekly Adjusted Time Series'].items():\n",
    "    spy[0].append(float(val['1. open']))\n",
    "    spy[1].append(float(val['2. high']))\n",
    "    spy[2].append(float(val['3. low']))\n",
    "    spy[3].append(float(val['4. close']))\n",
    "    spy[4].append(float(val['5. adjusted close']))\n",
    "    spy[5].append(float(val['6. volume']))\n",
    "    spy[6].append(float(val['7. dividend amount']))"
   ]
  },
  {
   "cell_type": "code",
   "execution_count": 5,
   "metadata": {},
   "outputs": [],
   "source": [
    "spy=pd.DataFrame({'Date':list(response.json()['Weekly Adjusted Time Series'].keys()),\n",
    "                 'open':spy[0],\n",
    "                  'high':spy[1],\n",
    "                  'low':spy[2],\n",
    "                  'close':spy[3],\n",
    "                  'adj_close':spy[4],\n",
    "                  'volume':spy[5],\n",
    "                  'dividend':spy[6],\n",
    "                 })\n",
    "spy=spy.astype({'Date': 'datetime64'})\n"
   ]
  },
  {
   "cell_type": "code",
   "execution_count": 6,
   "metadata": {},
   "outputs": [],
   "source": [
    "spy=spy.sort_values(by='Date')"
   ]
  },
  {
   "cell_type": "code",
   "execution_count": 7,
   "metadata": {},
   "outputs": [
    {
     "data": {
      "text/html": [
       "<div>\n",
       "<style scoped>\n",
       "    .dataframe tbody tr th:only-of-type {\n",
       "        vertical-align: middle;\n",
       "    }\n",
       "\n",
       "    .dataframe tbody tr th {\n",
       "        vertical-align: top;\n",
       "    }\n",
       "\n",
       "    .dataframe thead th {\n",
       "        text-align: right;\n",
       "    }\n",
       "</style>\n",
       "<table border=\"1\" class=\"dataframe\">\n",
       "  <thead>\n",
       "    <tr style=\"text-align: right;\">\n",
       "      <th></th>\n",
       "      <th>Date</th>\n",
       "      <th>open</th>\n",
       "      <th>high</th>\n",
       "      <th>low</th>\n",
       "      <th>close</th>\n",
       "      <th>adj_close</th>\n",
       "      <th>volume</th>\n",
       "      <th>dividend</th>\n",
       "    </tr>\n",
       "  </thead>\n",
       "  <tbody>\n",
       "    <tr>\n",
       "      <th>4</th>\n",
       "      <td>2020-03-20</td>\n",
       "      <td>70.65</td>\n",
       "      <td>81.99</td>\n",
       "      <td>67.950</td>\n",
       "      <td>68.00</td>\n",
       "      <td>67.7265</td>\n",
       "      <td>74786869.0</td>\n",
       "      <td>0.00</td>\n",
       "    </tr>\n",
       "    <tr>\n",
       "      <th>3</th>\n",
       "      <td>2020-03-27</td>\n",
       "      <td>67.07</td>\n",
       "      <td>77.50</td>\n",
       "      <td>61.610</td>\n",
       "      <td>74.56</td>\n",
       "      <td>74.2601</td>\n",
       "      <td>52122749.0</td>\n",
       "      <td>0.00</td>\n",
       "    </tr>\n",
       "    <tr>\n",
       "      <th>2</th>\n",
       "      <td>2020-04-03</td>\n",
       "      <td>82.83</td>\n",
       "      <td>84.40</td>\n",
       "      <td>75.350</td>\n",
       "      <td>79.45</td>\n",
       "      <td>79.1304</td>\n",
       "      <td>102397670.0</td>\n",
       "      <td>0.00</td>\n",
       "    </tr>\n",
       "    <tr>\n",
       "      <th>1</th>\n",
       "      <td>2020-04-09</td>\n",
       "      <td>81.08</td>\n",
       "      <td>86.50</td>\n",
       "      <td>79.605</td>\n",
       "      <td>86.04</td>\n",
       "      <td>85.6939</td>\n",
       "      <td>42953971.0</td>\n",
       "      <td>0.00</td>\n",
       "    </tr>\n",
       "    <tr>\n",
       "      <th>0</th>\n",
       "      <td>2020-04-17</td>\n",
       "      <td>86.32</td>\n",
       "      <td>97.75</td>\n",
       "      <td>83.520</td>\n",
       "      <td>96.01</td>\n",
       "      <td>96.0100</td>\n",
       "      <td>73562025.0</td>\n",
       "      <td>0.36</td>\n",
       "    </tr>\n",
       "  </tbody>\n",
       "</table>\n",
       "</div>"
      ],
      "text/plain": [
       "        Date   open   high     low  close  adj_close       volume  dividend\n",
       "4 2020-03-20  70.65  81.99  67.950  68.00    67.7265   74786869.0      0.00\n",
       "3 2020-03-27  67.07  77.50  61.610  74.56    74.2601   52122749.0      0.00\n",
       "2 2020-04-03  82.83  84.40  75.350  79.45    79.1304  102397670.0      0.00\n",
       "1 2020-04-09  81.08  86.50  79.605  86.04    85.6939   42953971.0      0.00\n",
       "0 2020-04-17  86.32  97.75  83.520  96.01    96.0100   73562025.0      0.36"
      ]
     },
     "execution_count": 7,
     "metadata": {},
     "output_type": "execute_result"
    }
   ],
   "source": [
    "spy.tail()"
   ]
  },
  {
   "cell_type": "code",
   "execution_count": 8,
   "metadata": {},
   "outputs": [],
   "source": [
    "def return_percentile(x,window,t='latest',val=0):\n",
    "    if t=='latest':\n",
    "        x=x/x.shift(window)-1\n",
    "        x=x.dropna().values\n",
    "        val=x[-1]\n",
    "        return np.round(100*(np.where(np.sort(x)==val)[0][0]/len(x)),2),val\n",
    "    \n",
    "    x=x/x.shift(window)-1\n",
    "    x=x.dropna()\n",
    "    return np.nanpercentile(x,val)\n",
    "\n",
    "def get_percentile(x, t='latest',val=0):\n",
    "    if t=='latest':\n",
    "        x=x.dropna().values\n",
    "        val=x[-1]\n",
    "        return np.round(100*(np.where(np.sort(x)==val)[0][0]/len(x)),2),val\n",
    "    else:\n",
    "        return  np.nanpercentile(np.sort(x),val)\n",
    "        "
   ]
  },
  {
   "cell_type": "markdown",
   "metadata": {},
   "source": [
    "### Returns"
   ]
  },
  {
   "cell_type": "code",
   "execution_count": 9,
   "metadata": {},
   "outputs": [
    {
     "data": {
      "text/plain": [
       "(99.9, 0.29288810545636235)"
      ]
     },
     "execution_count": 9,
     "metadata": {},
     "output_type": "execute_result"
    }
   ],
   "source": [
    "return_percentile(spy.adj_close,window=3)# 3 weeks of trading"
   ]
  },
  {
   "cell_type": "code",
   "execution_count": 10,
   "metadata": {},
   "outputs": [
    {
     "data": {
      "text/plain": [
       "-0.04517319389559435"
      ]
     },
     "execution_count": 10,
     "metadata": {},
     "output_type": "execute_result"
    }
   ],
   "source": [
    "return_percentile(spy.adj_close,window=1,t='val',val=5)"
   ]
  },
  {
   "cell_type": "code",
   "execution_count": 11,
   "metadata": {},
   "outputs": [],
   "source": [
    "ret=(spy.adj_close/spy.adj_close.shift(1)-1).dropna()\n",
    "pos=[]\n",
    "for idx, r in enumerate(np.where(ret<-0.038,1,0)):\n",
    "    if r==1:\n",
    "        pos.append(idx)\n",
    "l=[]\n",
    "for i in range(1,len(pos)):\n",
    "    l.append(pos[i]-np.roll(np.asarray(pos),1)[i])        "
   ]
  },
  {
   "cell_type": "code",
   "execution_count": 12,
   "metadata": {},
   "outputs": [
    {
     "data": {
      "text/plain": [
       "4"
      ]
     },
     "execution_count": 12,
     "metadata": {},
     "output_type": "execute_result"
    }
   ],
   "source": [
    "len(ret)-pos[-1]-1 # subtracting to adjust for indices "
   ]
  },
  {
   "cell_type": "code",
   "execution_count": 13,
   "metadata": {},
   "outputs": [],
   "source": [
    "#Counter(l)"
   ]
  },
  {
   "cell_type": "code",
   "execution_count": 14,
   "metadata": {},
   "outputs": [
    {
     "data": {
      "image/png": "[encoded data removed]",
      "text/plain": [
       "<Figure size 432x288 with 1 Axes>"
      ]
     },
     "metadata": {
      "needs_background": "light"
     },
     "output_type": "display_data"
    }
   ],
   "source": [
    "labels, values = zip(*Counter(l).items())\n",
    "width = 5\n",
    "plt.bar(labels, values/np.sum(values), width ,linewidth=1, edgecolor='black');\n",
    "plt.title(\"#Weeks to N-percentile drop\");"
   ]
  },
  {
   "cell_type": "code",
   "execution_count": 74,
   "metadata": {},
   "outputs": [
    {
     "data": {
      "image/png": "[encoded data removed]",
      "text/plain": [
       "<Figure size 432x288 with 1 Axes>"
      ]
     },
     "metadata": {
      "needs_background": "light"
     },
     "output_type": "display_data"
    }
   ],
   "source": [
    "N=3\n",
    "ret= (spy.adj_close/spy.adj_close.shift(N)-1).dropna()\n",
    "plt.hist(ret, bins=20, histtype='step')\n",
    "plt.title('{} week returns'.format(N));"
   ]
  },
  {
   "cell_type": "code",
   "execution_count": 75,
   "metadata": {},
   "outputs": [
    {
     "data": {
      "text/plain": [
       "count    1040.000000\n",
       "mean        0.007557\n",
       "std         0.050922\n",
       "min        -0.239370\n",
       "25%        -0.020868\n",
       "50%         0.009318\n",
       "75%         0.038777\n",
       "max         0.292888\n",
       "Name: adj_close, dtype: float64"
      ]
     },
     "execution_count": 75,
     "metadata": {},
     "output_type": "execute_result"
    }
   ],
   "source": [
    "ret.describe()"
   ]
  },
  {
   "cell_type": "markdown",
   "metadata": {},
   "source": [
    "### STD"
   ]
  },
  {
   "cell_type": "code",
   "execution_count": 16,
   "metadata": {},
   "outputs": [
    {
     "data": {
      "text/plain": [
       "(99.9, 8.14682492662019)"
      ]
     },
     "execution_count": 16,
     "metadata": {},
     "output_type": "execute_result"
    }
   ],
   "source": [
    "get_percentile(spy.adj_close.rolling(4).apply(np.std, raw=False))"
   ]
  },
  {
   "cell_type": "code",
   "execution_count": 17,
   "metadata": {},
   "outputs": [
    {
     "data": {
      "text/plain": [
       "1.1717132040970306"
      ]
     },
     "execution_count": 17,
     "metadata": {},
     "output_type": "execute_result"
    }
   ],
   "source": [
    "get_percentile(spy.adj_close.rolling(4).apply(np.std, raw=False),t='val',val=90)"
   ]
  },
  {
   "cell_type": "code",
   "execution_count": 18,
   "metadata": {},
   "outputs": [
    {
     "name": "stderr",
     "output_type": "stream",
     "text": [
      "/anaconda3/lib/python3.6/site-packages/numpy/lib/histograms.py:839: RuntimeWarning: invalid value encountered in greater_equal\n",
      "  keep = (tmp_a >= first_edge)\n",
      "/anaconda3/lib/python3.6/site-packages/numpy/lib/histograms.py:840: RuntimeWarning: invalid value encountered in less_equal\n",
      "  keep &= (tmp_a <= last_edge)\n"
     ]
    },
    {
     "data": {
      "image/png": "[encoded data removed]",
      "text/plain": [
       "<Figure size 432x288 with 1 Axes>"
      ]
     },
     "metadata": {
      "needs_background": "light"
     },
     "output_type": "display_data"
    }
   ],
   "source": [
    "plt.hist(spy.adj_close.rolling(4).apply(np.std, raw=False), bins=30, histtype='step');\n",
    "plt.title(\"STD\");"
   ]
  },
  {
   "cell_type": "markdown",
   "metadata": {},
   "source": [
    "### STO"
   ]
  },
  {
   "cell_type": "code",
   "execution_count": 19,
   "metadata": {},
   "outputs": [],
   "source": [
    "d={'function': 'STOCH','apikey':\"YEUC2DL0F7KC43PB\",'symbol':ticker,'interval':'weekly','fastkperiod':16 }\n",
    "response = requests.get(\n",
    "        'https://www.alphavantage.co/query',\n",
    "        params=d,\n",
    "        )"
   ]
  },
  {
   "cell_type": "code",
   "execution_count": 20,
   "metadata": {},
   "outputs": [],
   "source": [
    "slowk=[]\n",
    "slowd=[]\n",
    "for key, val in response.json()['Technical Analysis: STOCH'].items():\n",
    "    slowk.append(float(val['SlowK']))\n",
    "    slowd.append(float(val['SlowD']))\n",
    "\n",
    "sto=pd.DataFrame({'Date':list(response.json()['Technical Analysis: STOCH'].keys()),\n",
    "                 'k':slowk,\n",
    "                  'd':slowd\n",
    "                 })\n",
    "sto=sto.astype({'Date': 'datetime64'})\n",
    "sto['sto_diff']=sto['k']-sto['d']"
   ]
  },
  {
   "cell_type": "code",
   "execution_count": 21,
   "metadata": {},
   "outputs": [
    {
     "data": {
      "image/png": "[encoded data removed]",
      "text/plain": [
       "<Figure size 1008x360 with 2 Axes>"
      ]
     },
     "metadata": {
      "needs_background": "light"
     },
     "output_type": "display_data"
    }
   ],
   "source": [
    "fig, ax = plt.subplots(1,2, figsize=(14,5))\n",
    "ax[0].hist(sto.sto_diff[sto.sto_diff>=0], bins=10, alpha=0.6, color='g' ,label='Positives')\n",
    "ax[0].hist(sto.sto_diff[sto.sto_diff<=0], bins=10, alpha=0.6, color='r' ,label='Negatives')\n",
    "ax[0].vlines(sto.sto_diff[1],0,100 ,label='Current', color='black')\n",
    "ax[0].legend(loc='upper left');\n",
    "\n",
    "ax[1].hist(np.abs(sto.sto_diff), bins=15, histtype='step', label='Absolute Values');\n",
    "ax[1].vlines(np.abs(sto.sto_diff[1]),0,100 ,label='Current')\n",
    "ax[1].legend();"
   ]
  },
  {
   "cell_type": "code",
   "execution_count": 22,
   "metadata": {},
   "outputs": [],
   "source": [
    "sto=sto.sort_values(by='Date')"
   ]
  },
  {
   "cell_type": "code",
   "execution_count": 23,
   "metadata": {},
   "outputs": [
    {
     "data": {
      "text/plain": [
       "(99.32, 20.599999999999994)"
      ]
     },
     "execution_count": 23,
     "metadata": {},
     "output_type": "execute_result"
    }
   ],
   "source": [
    "get_percentile(sto.sto_diff)"
   ]
  },
  {
   "cell_type": "code",
   "execution_count": 73,
   "metadata": {},
   "outputs": [
    {
     "data": {
      "text/plain": [
       "-9.51324"
      ]
     },
     "execution_count": 73,
     "metadata": {},
     "output_type": "execute_result"
    }
   ],
   "source": [
    "get_percentile(sto.sto_diff, t='val', val=10)"
   ]
  },
  {
   "cell_type": "code",
   "execution_count": 43,
   "metadata": {},
   "outputs": [
    {
     "data": {
      "text/plain": [
       "14.8507"
      ]
     },
     "execution_count": 43,
     "metadata": {},
     "output_type": "execute_result"
    }
   ],
   "source": [
    "# Diff probably helps more on the downside\n",
    "get_percentile(sto.sto_diff[sto.sto_diff>=0],t='val',val=95)"
   ]
  },
  {
   "cell_type": "code",
   "execution_count": 26,
   "metadata": {},
   "outputs": [
    {
     "data": {
      "image/png": "[encoded data removed]",
      "text/plain": [
       "<Figure size 1440x360 with 1 Axes>"
      ]
     },
     "metadata": {
      "needs_background": "light"
     },
     "output_type": "display_data"
    }
   ],
   "source": [
    "plt.figure(figsize=(20,5))\n",
    "plt.title(\"'K'\")\n",
    "plt.vlines(sto.k[1],0,100)\n",
    "plt.hist(sto.k, bins=50, alpha=0.6);\n"
   ]
  },
  {
   "cell_type": "code",
   "execution_count": 27,
   "metadata": {},
   "outputs": [],
   "source": [
    "N=3\n",
    "k_change=(sto.sort_values(by='Date').k/sto.sort_values(by='Date').k.shift(N)-1).dropna()"
   ]
  },
  {
   "cell_type": "code",
   "execution_count": 50,
   "metadata": {},
   "outputs": [
    {
     "data": {
      "image/png": "[encoded data removed]",
      "text/plain": [
       "<Figure size 432x288 with 1 Axes>"
      ]
     },
     "metadata": {
      "needs_background": "light"
     },
     "output_type": "display_data"
    }
   ],
   "source": [
    "plt.hist(k_change);"
   ]
  },
  {
   "cell_type": "code",
   "execution_count": 28,
   "metadata": {},
   "outputs": [
    {
     "data": {
      "text/plain": [
       "(96.47, 1.5990874846403318)"
      ]
     },
     "execution_count": 28,
     "metadata": {},
     "output_type": "execute_result"
    }
   ],
   "source": [
    "get_percentile(k_change)"
   ]
  },
  {
   "cell_type": "code",
   "execution_count": 29,
   "metadata": {},
   "outputs": [],
   "source": [
    "spy=spy.merge(sto,left_on='Date',right_on='Date',how='left')"
   ]
  },
  {
   "cell_type": "code",
   "execution_count": 54,
   "metadata": {},
   "outputs": [],
   "source": [
    "spy['future_ret']=spy.adj_close.shift(-2)/spy.adj_close-1"
   ]
  },
  {
   "cell_type": "code",
   "execution_count": 59,
   "metadata": {},
   "outputs": [],
   "source": [
    "vals=[[],[],[]]\n",
    "upper_cut=-5.4\n",
    "lower_cut=-6.2\n",
    "for index, row in spy.dropna().iterrows():\n",
    "    if row.sto_diff<=upper_cut and row.sto_diff>=lower_cut:\n",
    "        vals[0].append(row.Date)\n",
    "        vals[1].append(row.sto_diff)\n",
    "        vals[2].append(row.future_ret)"
   ]
  },
  {
   "cell_type": "code",
   "execution_count": 70,
   "metadata": {},
   "outputs": [
    {
     "data": {
      "image/png": "[encoded data removed]",
      "text/plain": [
       "<Figure size 1224x360 with 3 Axes>"
      ]
     },
     "metadata": {
      "needs_background": "light"
     },
     "output_type": "display_data"
    }
   ],
   "source": [
    "fig, ax = plt.subplots(1,3, figsize=(17,5))\n",
    "ax[0].scatter(vals[1],vals[2], alpha=0.75)\n",
    "ax[0].hlines(0,lower_cut,upper_cut);\n",
    "\n",
    "ax[1].hist(vals[2], bins=20);\n",
    "ax[2].hist(np.array(vals[2])[np.asarray(vals[2])<=0], bins=int(len(vals[2])/2));"
   ]
  },
  {
   "cell_type": "code",
   "execution_count": 71,
   "metadata": {},
   "outputs": [
    {
     "data": {
      "text/plain": [
       "(0.21212121212121213, 33)"
      ]
     },
     "execution_count": 71,
     "metadata": {},
     "output_type": "execute_result"
    }
   ],
   "source": [
    "np.sum([np.asarray(vals[2])<=-0.05])/len(vals[2]), len(vals[2])"
   ]
  },
  {
   "cell_type": "markdown",
   "metadata": {},
   "source": [
    "### MACD"
   ]
  },
  {
   "cell_type": "code",
   "execution_count": null,
   "metadata": {},
   "outputs": [],
   "source": [
    "#MACD & MACD/return diff slope"
   ]
  },
  {
   "cell_type": "code",
   "execution_count": 34,
   "metadata": {},
   "outputs": [],
   "source": [
    "macd=spy.adj_close.ewm(span=12,min_periods=0,adjust=True,ignore_na=True).mean()-spy.adj_close.ewm(span=26,min_periods=0,adjust=True,ignore_na=True).mean()\n",
    "signal=macd.ewm(span=12,min_periods=0,adjust=True,ignore_na=True).mean()\n",
    "macd_hist=macd-signal"
   ]
  },
  {
   "cell_type": "code",
   "execution_count": 35,
   "metadata": {},
   "outputs": [],
   "source": [
    "spy['macd']=macd\n",
    "spy['macd_hist']=macd_hist"
   ]
  },
  {
   "cell_type": "code",
   "execution_count": 36,
   "metadata": {},
   "outputs": [
    {
     "data": {
      "image/png": "[encoded data removed]",
      "text/plain": [
       "<Figure size 1008x360 with 2 Axes>"
      ]
     },
     "metadata": {
      "needs_background": "light"
     },
     "output_type": "display_data"
    }
   ],
   "source": [
    "fig, ax = plt.subplots(1,2, figsize=(14,5))\n",
    "ax[0].hist(macd_hist[macd_hist>=0], bins=10, alpha=0.6, color='g' ,label='Positives')\n",
    "ax[0].hist(sto.sto_diff[sto.sto_diff<=0], bins=10, alpha=0.6, color='r' ,label='Negatives')\n",
    "ax[0].vlines(sto.sto_diff[1],0,100 ,label='Current', color='black')\n",
    "ax[0].legend(loc='upper left');\n",
    "\n",
    "ax[1].hist(np.abs(sto.sto_diff), bins=15, histtype='step', label='Absolute Values');\n",
    "ax[1].vlines(np.abs(sto.sto_diff[1]),0,100 ,label='Current')\n",
    "ax[1].legend();"
   ]
  },
  {
   "cell_type": "code",
   "execution_count": 37,
   "metadata": {},
   "outputs": [
    {
     "data": {
      "text/plain": [
       "(81.69, 0.1939422106372759)"
      ]
     },
     "execution_count": 37,
     "metadata": {},
     "output_type": "execute_result"
    }
   ],
   "source": [
    "get_percentile(macd_hist)"
   ]
  },
  {
   "cell_type": "code",
   "execution_count": null,
   "metadata": {},
   "outputs": [],
   "source": []
  },
  {
   "cell_type": "markdown",
   "metadata": {},
   "source": [
    "### 20/50"
   ]
  },
  {
   "cell_type": "code",
   "execution_count": 38,
   "metadata": {},
   "outputs": [
    {
     "data": {
      "text/html": [
       "<div>\n",
       "<style scoped>\n",
       "    .dataframe tbody tr th:only-of-type {\n",
       "        vertical-align: middle;\n",
       "    }\n",
       "\n",
       "    .dataframe tbody tr th {\n",
       "        vertical-align: top;\n",
       "    }\n",
       "\n",
       "    .dataframe thead th {\n",
       "        text-align: right;\n",
       "    }\n",
       "</style>\n",
       "<table border=\"1\" class=\"dataframe\">\n",
       "  <thead>\n",
       "    <tr style=\"text-align: right;\">\n",
       "      <th></th>\n",
       "      <th>Date</th>\n",
       "      <th>open</th>\n",
       "      <th>high</th>\n",
       "      <th>low</th>\n",
       "      <th>close</th>\n",
       "      <th>adj_close</th>\n",
       "      <th>volume</th>\n",
       "      <th>dividend</th>\n",
       "      <th>k</th>\n",
       "      <th>d</th>\n",
       "      <th>sto_diff</th>\n",
       "      <th>future_ret</th>\n",
       "      <th>macd</th>\n",
       "      <th>macd_hist</th>\n",
       "    </tr>\n",
       "  </thead>\n",
       "  <tbody>\n",
       "    <tr>\n",
       "      <th>0</th>\n",
       "      <td>2000-04-28</td>\n",
       "      <td>38.75</td>\n",
       "      <td>40.25</td>\n",
       "      <td>37.690</td>\n",
       "      <td>38.44</td>\n",
       "      <td>10.1296</td>\n",
       "      <td>34455300.0</td>\n",
       "      <td>0.00</td>\n",
       "      <td>NaN</td>\n",
       "      <td>NaN</td>\n",
       "      <td>NaN</td>\n",
       "      <td>-0.037464</td>\n",
       "      <td>0.000000</td>\n",
       "      <td>0.000000</td>\n",
       "    </tr>\n",
       "    <tr>\n",
       "      <th>1</th>\n",
       "      <td>2000-05-05</td>\n",
       "      <td>38.13</td>\n",
       "      <td>38.38</td>\n",
       "      <td>36.750</td>\n",
       "      <td>37.94</td>\n",
       "      <td>9.9978</td>\n",
       "      <td>36157900.0</td>\n",
       "      <td>0.00</td>\n",
       "      <td>NaN</td>\n",
       "      <td>NaN</td>\n",
       "      <td>NaN</td>\n",
       "      <td>0.095421</td>\n",
       "      <td>-0.002957</td>\n",
       "      <td>-0.001355</td>\n",
       "    </tr>\n",
       "    <tr>\n",
       "      <th>2</th>\n",
       "      <td>2000-05-12</td>\n",
       "      <td>38.00</td>\n",
       "      <td>39.00</td>\n",
       "      <td>36.750</td>\n",
       "      <td>37.00</td>\n",
       "      <td>9.7501</td>\n",
       "      <td>27958600.0</td>\n",
       "      <td>0.00</td>\n",
       "      <td>NaN</td>\n",
       "      <td>NaN</td>\n",
       "      <td>NaN</td>\n",
       "      <td>0.126758</td>\n",
       "      <td>-0.011449</td>\n",
       "      <td>-0.006004</td>\n",
       "    </tr>\n",
       "    <tr>\n",
       "      <th>3</th>\n",
       "      <td>2000-05-19</td>\n",
       "      <td>37.44</td>\n",
       "      <td>41.88</td>\n",
       "      <td>37.380</td>\n",
       "      <td>41.56</td>\n",
       "      <td>10.9518</td>\n",
       "      <td>47431400.0</td>\n",
       "      <td>0.00</td>\n",
       "      <td>NaN</td>\n",
       "      <td>NaN</td>\n",
       "      <td>NaN</td>\n",
       "      <td>-0.058474</td>\n",
       "      <td>0.028356</td>\n",
       "      <td>0.023132</td>\n",
       "    </tr>\n",
       "    <tr>\n",
       "      <th>4</th>\n",
       "      <td>2000-05-26</td>\n",
       "      <td>41.63</td>\n",
       "      <td>44.00</td>\n",
       "      <td>41.380</td>\n",
       "      <td>41.69</td>\n",
       "      <td>10.9860</td>\n",
       "      <td>41892900.0</td>\n",
       "      <td>0.00</td>\n",
       "      <td>NaN</td>\n",
       "      <td>NaN</td>\n",
       "      <td>NaN</td>\n",
       "      <td>-0.021109</td>\n",
       "      <td>0.050750</td>\n",
       "      <td>0.033156</td>\n",
       "    </tr>\n",
       "    <tr>\n",
       "      <th>...</th>\n",
       "      <td>...</td>\n",
       "      <td>...</td>\n",
       "      <td>...</td>\n",
       "      <td>...</td>\n",
       "      <td>...</td>\n",
       "      <td>...</td>\n",
       "      <td>...</td>\n",
       "      <td>...</td>\n",
       "      <td>...</td>\n",
       "      <td>...</td>\n",
       "      <td>...</td>\n",
       "      <td>...</td>\n",
       "      <td>...</td>\n",
       "      <td>...</td>\n",
       "    </tr>\n",
       "    <tr>\n",
       "      <th>1038</th>\n",
       "      <td>2020-03-20</td>\n",
       "      <td>70.65</td>\n",
       "      <td>81.99</td>\n",
       "      <td>67.950</td>\n",
       "      <td>68.00</td>\n",
       "      <td>67.7265</td>\n",
       "      <td>74786869.0</td>\n",
       "      <td>0.00</td>\n",
       "      <td>29.7516</td>\n",
       "      <td>34.3964</td>\n",
       "      <td>-4.6448</td>\n",
       "      <td>0.168382</td>\n",
       "      <td>-1.110118</td>\n",
       "      <td>-1.991578</td>\n",
       "    </tr>\n",
       "    <tr>\n",
       "      <th>1039</th>\n",
       "      <td>2020-03-27</td>\n",
       "      <td>67.07</td>\n",
       "      <td>77.50</td>\n",
       "      <td>61.610</td>\n",
       "      <td>74.56</td>\n",
       "      <td>74.2601</td>\n",
       "      <td>52122749.0</td>\n",
       "      <td>0.00</td>\n",
       "      <td>29.7858</td>\n",
       "      <td>31.5550</td>\n",
       "      <td>-1.7692</td>\n",
       "      <td>0.153970</td>\n",
       "      <td>-1.614506</td>\n",
       "      <td>-2.111971</td>\n",
       "    </tr>\n",
       "    <tr>\n",
       "      <th>1040</th>\n",
       "      <td>2020-04-03</td>\n",
       "      <td>82.83</td>\n",
       "      <td>84.40</td>\n",
       "      <td>75.350</td>\n",
       "      <td>79.45</td>\n",
       "      <td>79.1304</td>\n",
       "      <td>102397670.0</td>\n",
       "      <td>0.00</td>\n",
       "      <td>33.3473</td>\n",
       "      <td>30.9616</td>\n",
       "      <td>2.3857</td>\n",
       "      <td>0.213314</td>\n",
       "      <td>-1.602768</td>\n",
       "      <td>-1.777121</td>\n",
       "    </tr>\n",
       "    <tr>\n",
       "      <th>1041</th>\n",
       "      <td>2020-04-09</td>\n",
       "      <td>81.08</td>\n",
       "      <td>86.50</td>\n",
       "      <td>79.605</td>\n",
       "      <td>86.04</td>\n",
       "      <td>85.6939</td>\n",
       "      <td>42953971.0</td>\n",
       "      <td>0.00</td>\n",
       "      <td>59.6844</td>\n",
       "      <td>40.9392</td>\n",
       "      <td>18.7452</td>\n",
       "      <td>NaN</td>\n",
       "      <td>-1.051723</td>\n",
       "      <td>-1.037448</td>\n",
       "    </tr>\n",
       "    <tr>\n",
       "      <th>1042</th>\n",
       "      <td>2020-04-17</td>\n",
       "      <td>86.32</td>\n",
       "      <td>97.75</td>\n",
       "      <td>83.520</td>\n",
       "      <td>96.01</td>\n",
       "      <td>96.0100</td>\n",
       "      <td>73562025.0</td>\n",
       "      <td>0.36</td>\n",
       "      <td>77.4159</td>\n",
       "      <td>56.8159</td>\n",
       "      <td>20.6000</td>\n",
       "      <td>NaN</td>\n",
       "      <td>0.214930</td>\n",
       "      <td>0.193942</td>\n",
       "    </tr>\n",
       "  </tbody>\n",
       "</table>\n",
       "<p>1043 rows × 14 columns</p>\n",
       "</div>"
      ],
      "text/plain": [
       "           Date   open   high     low  close  adj_close       volume  \\\n",
       "0    2000-04-28  38.75  40.25  37.690  38.44    10.1296   34455300.0   \n",
       "1    2000-05-05  38.13  38.38  36.750  37.94     9.9978   36157900.0   \n",
       "2    2000-05-12  38.00  39.00  36.750  37.00     9.7501   27958600.0   \n",
       "3    2000-05-19  37.44  41.88  37.380  41.56    10.9518   47431400.0   \n",
       "4    2000-05-26  41.63  44.00  41.380  41.69    10.9860   41892900.0   \n",
       "...         ...    ...    ...     ...    ...        ...          ...   \n",
       "1038 2020-03-20  70.65  81.99  67.950  68.00    67.7265   74786869.0   \n",
       "1039 2020-03-27  67.07  77.50  61.610  74.56    74.2601   52122749.0   \n",
       "1040 2020-04-03  82.83  84.40  75.350  79.45    79.1304  102397670.0   \n",
       "1041 2020-04-09  81.08  86.50  79.605  86.04    85.6939   42953971.0   \n",
       "1042 2020-04-17  86.32  97.75  83.520  96.01    96.0100   73562025.0   \n",
       "\n",
       "      dividend        k        d  sto_diff  future_ret      macd  macd_hist  \n",
       "0         0.00      NaN      NaN       NaN   -0.037464  0.000000   0.000000  \n",
       "1         0.00      NaN      NaN       NaN    0.095421 -0.002957  -0.001355  \n",
       "2         0.00      NaN      NaN       NaN    0.126758 -0.011449  -0.006004  \n",
       "3         0.00      NaN      NaN       NaN   -0.058474  0.028356   0.023132  \n",
       "4         0.00      NaN      NaN       NaN   -0.021109  0.050750   0.033156  \n",
       "...        ...      ...      ...       ...         ...       ...        ...  \n",
       "1038      0.00  29.7516  34.3964   -4.6448    0.168382 -1.110118  -1.991578  \n",
       "1039      0.00  29.7858  31.5550   -1.7692    0.153970 -1.614506  -2.111971  \n",
       "1040      0.00  33.3473  30.9616    2.3857    0.213314 -1.602768  -1.777121  \n",
       "1041      0.00  59.6844  40.9392   18.7452         NaN -1.051723  -1.037448  \n",
       "1042      0.36  77.4159  56.8159   20.6000         NaN  0.214930   0.193942  \n",
       "\n",
       "[1043 rows x 14 columns]"
      ]
     },
     "execution_count": 38,
     "metadata": {},
     "output_type": "execute_result"
    }
   ],
   "source": [
    "spy"
   ]
  },
  {
   "cell_type": "code",
   "execution_count": 39,
   "metadata": {},
   "outputs": [
    {
     "data": {
      "text/plain": [
       "0             NaN\n",
       "1             NaN\n",
       "2             NaN\n",
       "3             NaN\n",
       "4             NaN\n",
       "          ...    \n",
       "1038    84.266770\n",
       "1039    83.827055\n",
       "1040    83.533160\n",
       "1041    83.665135\n",
       "1042    84.228115\n",
       "Name: adj_close, Length: 1043, dtype: float64"
      ]
     },
     "execution_count": 39,
     "metadata": {},
     "output_type": "execute_result"
    }
   ],
   "source": [
    "spy.adj_close.rolling(20).apply(np.mean, raw=False)"
   ]
  },
  {
   "cell_type": "code",
   "execution_count": null,
   "metadata": {},
   "outputs": [],
   "source": []
  }
 ],
 "metadata": {
  "kernelspec": {
   "display_name": "Python 3",
   "language": "python",
   "name": "python3"
  },
  "language_info": {
   "codemirror_mode": {
    "name": "ipython",
    "version": 3
   },
   "file_extension": ".py",
   "mimetype": "text/x-python",
   "name": "python",
   "nbconvert_exporter": "python",
   "pygments_lexer": "ipython3",
   "version": "3.6.9"
  }
 },
 "nbformat": 4,
 "nbformat_minor": 2
}

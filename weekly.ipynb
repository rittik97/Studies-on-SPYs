{
 "cells": [
  {
   "cell_type": "code",
   "execution_count": 1,
   "metadata": {},
   "outputs": [],
   "source": [
    "import pandas as pd\n",
    "import numpy as np \n",
    "import matplotlib.pyplot as plt\n",
    "import requests\n",
    "from collections import Counter"
   ]
  },
  {
   "cell_type": "code",
   "execution_count": 2,
   "metadata": {},
   "outputs": [],
   "source": [
    "#spy=pd.read_csv(\"data/SPY_weekly.csv\")\n",
    "#spy.rename(columns={'Adj Close':\"adj_close\"}, inplace=True)\n",
    "#spy=spy.astype({'Date': 'datetime64'})"
   ]
  },
  {
   "cell_type": "code",
   "execution_count": 3,
   "metadata": {},
   "outputs": [],
   "source": [
    "ticker='EA'\n",
    "d={'function': 'TIME_SERIES_WEEKLY_ADJUSTED','apikey':\"YEUC2DL0F7KC43PB\",'symbol':ticker}\n",
    "response = requests.get(\n",
    "        'https://www.alphavantage.co/query',\n",
    "        params=d,\n",
    "        )"
   ]
  },
  {
   "cell_type": "code",
   "execution_count": 4,
   "metadata": {},
   "outputs": [],
   "source": [
    "#open #high #low #close #adjusted close  #volume #dividend amount\n",
    "spy=[[],[],[],[],[],[],[]]\n",
    "for key, val in response.json()['Weekly Adjusted Time Series'].items():\n",
    "    spy[0].append(float(val['1. open']))\n",
    "    spy[1].append(float(val['2. high']))\n",
    "    spy[2].append(float(val['3. low']))\n",
    "    spy[3].append(float(val['4. close']))\n",
    "    spy[4].append(float(val['5. adjusted close']))\n",
    "    spy[5].append(float(val['6. volume']))\n",
    "    spy[6].append(float(val['7. dividend amount']))"
   ]
  },
  {
   "cell_type": "code",
   "execution_count": 5,
   "metadata": {},
   "outputs": [],
   "source": [
    "spy=pd.DataFrame({'Date':list(response.json()['Weekly Adjusted Time Series'].keys()),\n",
    "                 'open':spy[0],\n",
    "                  'high':spy[1],\n",
    "                  'low':spy[2],\n",
    "                  'close':spy[3],\n",
    "                  'adj_close':spy[4],\n",
    "                  'volume':spy[5],\n",
    "                  'dividend':spy[6],\n",
    "                 })\n",
    "spy=spy.astype({'Date': 'datetime64'})\n"
   ]
  },
  {
   "cell_type": "code",
   "execution_count": 6,
   "metadata": {},
   "outputs": [],
   "source": [
    "spy=spy.sort_values(by='Date')"
   ]
  },
  {
   "cell_type": "code",
   "execution_count": 7,
   "metadata": {},
   "outputs": [
    {
     "data": {
      "text/html": [
       "<div>\n",
       "<style scoped>\n",
       "    .dataframe tbody tr th:only-of-type {\n",
       "        vertical-align: middle;\n",
       "    }\n",
       "\n",
       "    .dataframe tbody tr th {\n",
       "        vertical-align: top;\n",
       "    }\n",
       "\n",
       "    .dataframe thead th {\n",
       "        text-align: right;\n",
       "    }\n",
       "</style>\n",
       "<table border=\"1\" class=\"dataframe\">\n",
       "  <thead>\n",
       "    <tr style=\"text-align: right;\">\n",
       "      <th></th>\n",
       "      <th>Date</th>\n",
       "      <th>open</th>\n",
       "      <th>high</th>\n",
       "      <th>low</th>\n",
       "      <th>close</th>\n",
       "      <th>adj_close</th>\n",
       "      <th>volume</th>\n",
       "      <th>dividend</th>\n",
       "    </tr>\n",
       "  </thead>\n",
       "  <tbody>\n",
       "    <tr>\n",
       "      <th>4</th>\n",
       "      <td>2020-03-20</td>\n",
       "      <td>89.19</td>\n",
       "      <td>98.20</td>\n",
       "      <td>85.6900</td>\n",
       "      <td>86.94</td>\n",
       "      <td>86.94</td>\n",
       "      <td>32363789.0</td>\n",
       "      <td>0.0</td>\n",
       "    </tr>\n",
       "    <tr>\n",
       "      <th>3</th>\n",
       "      <td>2020-03-27</td>\n",
       "      <td>89.73</td>\n",
       "      <td>103.10</td>\n",
       "      <td>88.4272</td>\n",
       "      <td>95.37</td>\n",
       "      <td>95.37</td>\n",
       "      <td>29191179.0</td>\n",
       "      <td>0.0</td>\n",
       "    </tr>\n",
       "    <tr>\n",
       "      <th>2</th>\n",
       "      <td>2020-04-03</td>\n",
       "      <td>96.77</td>\n",
       "      <td>104.35</td>\n",
       "      <td>96.1700</td>\n",
       "      <td>102.83</td>\n",
       "      <td>102.83</td>\n",
       "      <td>19049244.0</td>\n",
       "      <td>0.0</td>\n",
       "    </tr>\n",
       "    <tr>\n",
       "      <th>1</th>\n",
       "      <td>2020-04-09</td>\n",
       "      <td>105.39</td>\n",
       "      <td>109.38</td>\n",
       "      <td>100.1100</td>\n",
       "      <td>105.80</td>\n",
       "      <td>105.80</td>\n",
       "      <td>16693575.0</td>\n",
       "      <td>0.0</td>\n",
       "    </tr>\n",
       "    <tr>\n",
       "      <th>0</th>\n",
       "      <td>2020-04-17</td>\n",
       "      <td>105.65</td>\n",
       "      <td>118.69</td>\n",
       "      <td>104.6500</td>\n",
       "      <td>115.15</td>\n",
       "      <td>115.15</td>\n",
       "      <td>17442813.0</td>\n",
       "      <td>0.0</td>\n",
       "    </tr>\n",
       "  </tbody>\n",
       "</table>\n",
       "</div>"
      ],
      "text/plain": [
       "        Date    open    high       low   close  adj_close      volume  \\\n",
       "4 2020-03-20   89.19   98.20   85.6900   86.94      86.94  32363789.0   \n",
       "3 2020-03-27   89.73  103.10   88.4272   95.37      95.37  29191179.0   \n",
       "2 2020-04-03   96.77  104.35   96.1700  102.83     102.83  19049244.0   \n",
       "1 2020-04-09  105.39  109.38  100.1100  105.80     105.80  16693575.0   \n",
       "0 2020-04-17  105.65  118.69  104.6500  115.15     115.15  17442813.0   \n",
       "\n",
       "   dividend  \n",
       "4       0.0  \n",
       "3       0.0  \n",
       "2       0.0  \n",
       "1       0.0  \n",
       "0       0.0  "
      ]
     },
     "execution_count": 7,
     "metadata": {},
     "output_type": "execute_result"
    }
   ],
   "source": [
    "spy.tail()"
   ]
  },
  {
   "cell_type": "code",
   "execution_count": 8,
   "metadata": {},
   "outputs": [],
   "source": [
    "def return_percentile(x,window,t='latest',val=0):\n",
    "    if t=='latest':\n",
    "        x=x/x.shift(window)-1\n",
    "        x=x.dropna().values\n",
    "        val=x[-1]\n",
    "        return np.round(100*(np.where(np.sort(x)==val)[0][0]/len(x)),2),val\n",
    "    \n",
    "    x=x/x.shift(window)-1\n",
    "    x=x.dropna()\n",
    "    return np.nanpercentile(x,val)\n",
    "\n",
    "def get_percentile(x, t='latest',val=0):\n",
    "    if t=='latest':\n",
    "        x=x.dropna().values\n",
    "        val=x[-1]\n",
    "        return np.round(100*(np.where(np.sort(x)==val)[0][0]/len(x)),2),val\n",
    "    else:\n",
    "        return  np.nanpercentile(np.sort(x),val)\n",
    "        "
   ]
  },
  {
   "cell_type": "markdown",
   "metadata": {},
   "source": [
    "### Returns"
   ]
  },
  {
   "cell_type": "code",
   "execution_count": 9,
   "metadata": {},
   "outputs": [
    {
     "data": {
      "text/plain": [
       "(98.46, 0.20740274719513474)"
      ]
     },
     "execution_count": 9,
     "metadata": {},
     "output_type": "execute_result"
    }
   ],
   "source": [
    "return_percentile(spy.adj_close,window=3)# 3 weeks of trading"
   ]
  },
  {
   "cell_type": "code",
   "execution_count": 10,
   "metadata": {},
   "outputs": [
    {
     "data": {
      "text/plain": [
       "-0.07669380215244846"
      ]
     },
     "execution_count": 10,
     "metadata": {},
     "output_type": "execute_result"
    }
   ],
   "source": [
    "return_percentile(spy.adj_close,window=1,t='val',val=5)"
   ]
  },
  {
   "cell_type": "code",
   "execution_count": 11,
   "metadata": {},
   "outputs": [],
   "source": [
    "ret=(spy.adj_close/spy.adj_close.shift(1)-1).dropna()\n",
    "pos=[]\n",
    "for idx, r in enumerate(np.where(ret<-0.038,1,0)):\n",
    "    if r==1:\n",
    "        pos.append(idx)\n",
    "l=[]\n",
    "for i in range(1,len(pos)):\n",
    "    l.append(pos[i]-np.roll(np.asarray(pos),1)[i])        "
   ]
  },
  {
   "cell_type": "code",
   "execution_count": 12,
   "metadata": {},
   "outputs": [
    {
     "data": {
      "text/plain": [
       "4"
      ]
     },
     "execution_count": 12,
     "metadata": {},
     "output_type": "execute_result"
    }
   ],
   "source": [
    "len(ret)-pos[-1]-1 # subtracting to adjust for indices "
   ]
  },
  {
   "cell_type": "code",
   "execution_count": 13,
   "metadata": {},
   "outputs": [],
   "source": [
    "#Counter(l)"
   ]
  },
  {
   "cell_type": "code",
   "execution_count": 14,
   "metadata": {},
   "outputs": [
    {
     "data": {
      "image/png": "[encoded data removed]",
      "text/plain": [
       "<Figure size 432x288 with 1 Axes>"
      ]
     },
     "metadata": {
      "needs_background": "light"
     },
     "output_type": "display_data"
    }
   ],
   "source": [
    "labels, values = zip(*Counter(l).items())\n",
    "width = 5\n",
    "plt.bar(labels, values/np.sum(values), width ,linewidth=1, edgecolor='black');\n",
    "plt.title(\"#Weeks to N-percentile drop\");"
   ]
  },
  {
   "cell_type": "code",
   "execution_count": 15,
   "metadata": {},
   "outputs": [
    {
     "data": {
      "image/png": "[encoded data removed]",
      "text/plain": [
       "<Figure size 432x288 with 1 Axes>"
      ]
     },
     "metadata": {
      "needs_background": "light"
     },
     "output_type": "display_data"
    }
   ],
   "source": [
    "N=3\n",
    "plt.hist((spy.adj_close/spy.adj_close.shift(N)-1).dropna(), bins=20, histtype='step')\n",
    "plt.title('{} week returns'.format(N));"
   ]
  },
  {
   "cell_type": "markdown",
   "metadata": {},
   "source": [
    "### STD"
   ]
  },
  {
   "cell_type": "code",
   "execution_count": 16,
   "metadata": {},
   "outputs": [
    {
     "data": {
      "text/plain": [
       "(99.42, 7.087447971590339)"
      ]
     },
     "execution_count": 16,
     "metadata": {},
     "output_type": "execute_result"
    }
   ],
   "source": [
    "get_percentile(spy.adj_close.rolling(4).apply(np.std, raw=False))"
   ]
  },
  {
   "cell_type": "code",
   "execution_count": 17,
   "metadata": {},
   "outputs": [
    {
     "data": {
      "text/plain": [
       "2.704706002597016"
      ]
     },
     "execution_count": 17,
     "metadata": {},
     "output_type": "execute_result"
    }
   ],
   "source": [
    "get_percentile(spy.adj_close.rolling(4).apply(np.std, raw=False),t='val',val=90)"
   ]
  },
  {
   "cell_type": "code",
   "execution_count": 18,
   "metadata": {},
   "outputs": [
    {
     "name": "stderr",
     "output_type": "stream",
     "text": [
      "/anaconda3/lib/python3.6/site-packages/numpy/lib/histograms.py:839: RuntimeWarning: invalid value encountered in greater_equal\n",
      "  keep = (tmp_a >= first_edge)\n",
      "/anaconda3/lib/python3.6/site-packages/numpy/lib/histograms.py:840: RuntimeWarning: invalid value encountered in less_equal\n",
      "  keep &= (tmp_a <= last_edge)\n"
     ]
    },
    {
     "data": {
      "image/png": "[encoded data removed]",
      "text/plain": [
       "<Figure size 432x288 with 1 Axes>"
      ]
     },
     "metadata": {
      "needs_background": "light"
     },
     "output_type": "display_data"
    }
   ],
   "source": [
    "plt.hist(spy.adj_close.rolling(4).apply(np.std, raw=False), bins=30, histtype='step');\n",
    "plt.title(\"STD\");"
   ]
  },
  {
   "cell_type": "markdown",
   "metadata": {},
   "source": [
    "### STO"
   ]
  },
  {
   "cell_type": "code",
   "execution_count": 19,
   "metadata": {},
   "outputs": [],
   "source": [
    "d={'function': 'STOCH','apikey':\"YEUC2DL0F7KC43PB\",'symbol':ticker,'interval':'weekly','fastkperiod':16 }\n",
    "response = requests.get(\n",
    "        'https://www.alphavantage.co/query',\n",
    "        params=d,\n",
    "        )"
   ]
  },
  {
   "cell_type": "code",
   "execution_count": 20,
   "metadata": {},
   "outputs": [],
   "source": [
    "slowk=[]\n",
    "slowd=[]\n",
    "for key, val in response.json()['Technical Analysis: STOCH'].items():\n",
    "    slowk.append(float(val['SlowK']))\n",
    "    slowd.append(float(val['SlowD']))\n",
    "\n",
    "sto=pd.DataFrame({'Date':list(response.json()['Technical Analysis: STOCH'].keys()),\n",
    "                 'k':slowk,\n",
    "                  'd':slowd\n",
    "                 })\n",
    "sto=sto.astype({'Date': 'datetime64'})\n",
    "sto['sto_diff']=sto['k']-sto['d']"
   ]
  },
  {
   "cell_type": "code",
   "execution_count": 21,
   "metadata": {},
   "outputs": [
    {
     "data": {
      "image/png": "[encoded data removed]",
      "text/plain": [
       "<Figure size 1008x360 with 2 Axes>"
      ]
     },
     "metadata": {
      "needs_background": "light"
     },
     "output_type": "display_data"
    }
   ],
   "source": [
    "fig, ax = plt.subplots(1,2, figsize=(14,5))\n",
    "ax[0].hist(sto.sto_diff[sto.sto_diff>=0], bins=10, alpha=0.6, color='g' ,label='Positives')\n",
    "ax[0].hist(sto.sto_diff[sto.sto_diff<=0], bins=10, alpha=0.6, color='r' ,label='Negatives')\n",
    "ax[0].vlines(sto.sto_diff[1],0,100 ,label='Current', color='black')\n",
    "ax[0].legend(loc='upper left');\n",
    "\n",
    "ax[1].hist(np.abs(sto.sto_diff), bins=15, histtype='step', label='Absolute Values');\n",
    "ax[1].vlines(np.abs(sto.sto_diff[1]),0,100 ,label='Current')\n",
    "ax[1].legend();"
   ]
  },
  {
   "cell_type": "code",
   "execution_count": 22,
   "metadata": {},
   "outputs": [],
   "source": [
    "sto=sto.sort_values(by='Date')"
   ]
  },
  {
   "cell_type": "code",
   "execution_count": 23,
   "metadata": {},
   "outputs": [
    {
     "data": {
      "text/plain": [
       "(99.41, 19.643000000000008)"
      ]
     },
     "execution_count": 23,
     "metadata": {},
     "output_type": "execute_result"
    }
   ],
   "source": [
    "get_percentile(sto.sto_diff)"
   ]
  },
  {
   "cell_type": "code",
   "execution_count": 24,
   "metadata": {},
   "outputs": [
    {
     "data": {
      "text/plain": [
       "-9.101929999999996"
      ]
     },
     "execution_count": 24,
     "metadata": {},
     "output_type": "execute_result"
    }
   ],
   "source": [
    "get_percentile(sto.sto_diff, t='val', val=10)"
   ]
  },
  {
   "cell_type": "code",
   "execution_count": 25,
   "metadata": {},
   "outputs": [
    {
     "data": {
      "text/plain": [
       "-12.40616"
      ]
     },
     "execution_count": 25,
     "metadata": {},
     "output_type": "execute_result"
    }
   ],
   "source": [
    "# Diff probably helps more on the downside\n",
    "get_percentile(sto.sto_diff[sto.sto_diff<=0],t='val',val=10)"
   ]
  },
  {
   "cell_type": "code",
   "execution_count": 26,
   "metadata": {},
   "outputs": [
    {
     "data": {
      "image/png": "[encoded data removed]",
      "text/plain": [
       "<Figure size 1440x360 with 1 Axes>"
      ]
     },
     "metadata": {
      "needs_background": "light"
     },
     "output_type": "display_data"
    }
   ],
   "source": [
    "plt.figure(figsize=(20,5))\n",
    "plt.title(\"'K'\")\n",
    "plt.vlines(sto.k[1],0,100)\n",
    "plt.hist(sto.k, bins=50, alpha=0.6);\n"
   ]
  },
  {
   "cell_type": "code",
   "execution_count": 27,
   "metadata": {},
   "outputs": [],
   "source": [
    "N=3\n",
    "k_change=(sto.sort_values(by='Date').k/sto.sort_values(by='Date').k.shift(N)-1).dropna()"
   ]
  },
  {
   "cell_type": "code",
   "execution_count": 28,
   "metadata": {},
   "outputs": [
    {
     "data": {
      "text/plain": [
       "(98.33, 2.712245094023836)"
      ]
     },
     "execution_count": 28,
     "metadata": {},
     "output_type": "execute_result"
    }
   ],
   "source": [
    "get_percentile(k_change)"
   ]
  },
  {
   "cell_type": "code",
   "execution_count": 29,
   "metadata": {},
   "outputs": [],
   "source": [
    "spy=spy.merge(sto,left_on='Date',right_on='Date',how='left')"
   ]
  },
  {
   "cell_type": "code",
   "execution_count": 30,
   "metadata": {},
   "outputs": [],
   "source": [
    "spy['future_ret']=spy.adj_close.shift(-2)/spy.adj_close-1"
   ]
  },
  {
   "cell_type": "code",
   "execution_count": 40,
   "metadata": {},
   "outputs": [],
   "source": [
    "vals=[[],[],[]]\n",
    "upper_cut=20\n",
    "lower_cut=17\n",
    "for index, row in spy.dropna().iterrows():\n",
    "    if row.sto_diff<=upper_cut and row.sto_diff>=lower_cut:\n",
    "        vals[0].append(row.Date)\n",
    "        vals[1].append(row.sto_diff)\n",
    "        vals[2].append(row.future_ret)"
   ]
  },
  {
   "cell_type": "code",
   "execution_count": 41,
   "metadata": {},
   "outputs": [
    {
     "data": {
      "image/png": "[encoded data removed]",
      "text/plain": [
       "<Figure size 1008x360 with 2 Axes>"
      ]
     },
     "metadata": {
      "needs_background": "light"
     },
     "output_type": "display_data"
    }
   ],
   "source": [
    "fig, ax = plt.subplots(1,2, figsize=(14,5))\n",
    "ax[0].scatter(vals[1],vals[2], alpha=0.35)\n",
    "ax[0].hlines(0,lower_cut,upper_cut);\n",
    "\n",
    "ax[1].hist(vals[2], bins=20);"
   ]
  },
  {
   "cell_type": "code",
   "execution_count": 43,
   "metadata": {},
   "outputs": [
    {
     "data": {
      "text/plain": [
       "(1.0, 3)"
      ]
     },
     "execution_count": 43,
     "metadata": {},
     "output_type": "execute_result"
    }
   ],
   "source": [
    "np.sum([np.asarray(vals[2])>=-0.05])/len(vals[2]), len(vals[2])"
   ]
  },
  {
   "cell_type": "markdown",
   "metadata": {},
   "source": [
    "### MACD"
   ]
  },
  {
   "cell_type": "code",
   "execution_count": 34,
   "metadata": {},
   "outputs": [],
   "source": [
    "macd=spy.adj_close.ewm(span=12,min_periods=0,adjust=True,ignore_na=True).mean()-spy.adj_close.ewm(span=26,min_periods=0,adjust=True,ignore_na=True).mean()\n",
    "signal=macd.ewm(span=12,min_periods=0,adjust=True,ignore_na=True).mean()\n",
    "macd_hist=macd-signal"
   ]
  },
  {
   "cell_type": "code",
   "execution_count": 35,
   "metadata": {},
   "outputs": [],
   "source": [
    "spy['macd']=macd\n",
    "spy['macd_hist']=macd_hist"
   ]
  },
  {
   "cell_type": "code",
   "execution_count": 36,
   "metadata": {},
   "outputs": [
    {
     "data": {
      "image/png": "[encoded data removed]",
      "text/plain": [
       "<Figure size 1008x360 with 2 Axes>"
      ]
     },
     "metadata": {
      "needs_background": "light"
     },
     "output_type": "display_data"
    }
   ],
   "source": [
    "fig, ax = plt.subplots(1,2, figsize=(14,5))\n",
    "ax[0].hist(macd_hist[macd_hist>=0], bins=10, alpha=0.6, color='g' ,label='Positives')\n",
    "ax[0].hist(sto.sto_diff[sto.sto_diff<=0], bins=10, alpha=0.6, color='r' ,label='Negatives')\n",
    "ax[0].vlines(sto.sto_diff[1],0,100 ,label='Current', color='black')\n",
    "ax[0].legend(loc='upper left');\n",
    "\n",
    "ax[1].hist(np.abs(sto.sto_diff), bins=15, histtype='step', label='Absolute Values');\n",
    "ax[1].vlines(np.abs(sto.sto_diff[1]),0,100 ,label='Current')\n",
    "ax[1].legend();"
   ]
  },
  {
   "cell_type": "code",
   "execution_count": 37,
   "metadata": {},
   "outputs": [
    {
     "data": {
      "text/plain": [
       "(35.19, -0.19914916771437863)"
      ]
     },
     "execution_count": 37,
     "metadata": {},
     "output_type": "execute_result"
    }
   ],
   "source": [
    "get_percentile(macd_hist)"
   ]
  },
  {
   "cell_type": "code",
   "execution_count": null,
   "metadata": {},
   "outputs": [],
   "source": []
  },
  {
   "cell_type": "markdown",
   "metadata": {},
   "source": [
    "### 20/50"
   ]
  },
  {
   "cell_type": "code",
   "execution_count": 38,
   "metadata": {},
   "outputs": [
    {
     "data": {
      "text/html": [
       "<div>\n",
       "<style scoped>\n",
       "    .dataframe tbody tr th:only-of-type {\n",
       "        vertical-align: middle;\n",
       "    }\n",
       "\n",
       "    .dataframe tbody tr th {\n",
       "        vertical-align: top;\n",
       "    }\n",
       "\n",
       "    .dataframe thead th {\n",
       "        text-align: right;\n",
       "    }\n",
       "</style>\n",
       "<table border=\"1\" class=\"dataframe\">\n",
       "  <thead>\n",
       "    <tr style=\"text-align: right;\">\n",
       "      <th></th>\n",
       "      <th>Date</th>\n",
       "      <th>open</th>\n",
       "      <th>high</th>\n",
       "      <th>low</th>\n",
       "      <th>close</th>\n",
       "      <th>adj_close</th>\n",
       "      <th>volume</th>\n",
       "      <th>dividend</th>\n",
       "      <th>k</th>\n",
       "      <th>d</th>\n",
       "      <th>sto_diff</th>\n",
       "      <th>future_ret</th>\n",
       "      <th>macd</th>\n",
       "      <th>macd_hist</th>\n",
       "    </tr>\n",
       "  </thead>\n",
       "  <tbody>\n",
       "    <tr>\n",
       "      <th>0</th>\n",
       "      <td>2000-04-28</td>\n",
       "      <td>57.50</td>\n",
       "      <td>64.25</td>\n",
       "      <td>50.7500</td>\n",
       "      <td>60.50</td>\n",
       "      <td>15.1250</td>\n",
       "      <td>8271000.0</td>\n",
       "      <td>0.0</td>\n",
       "      <td>NaN</td>\n",
       "      <td>NaN</td>\n",
       "      <td>NaN</td>\n",
       "      <td>-0.001983</td>\n",
       "      <td>0.000000</td>\n",
       "      <td>0.000000</td>\n",
       "    </tr>\n",
       "    <tr>\n",
       "      <th>1</th>\n",
       "      <td>2000-05-05</td>\n",
       "      <td>60.00</td>\n",
       "      <td>65.63</td>\n",
       "      <td>49.0000</td>\n",
       "      <td>61.69</td>\n",
       "      <td>15.4225</td>\n",
       "      <td>13126800.0</td>\n",
       "      <td>0.0</td>\n",
       "      <td>NaN</td>\n",
       "      <td>NaN</td>\n",
       "      <td>NaN</td>\n",
       "      <td>-0.060788</td>\n",
       "      <td>0.006675</td>\n",
       "      <td>0.003059</td>\n",
       "    </tr>\n",
       "    <tr>\n",
       "      <th>2</th>\n",
       "      <td>2000-05-12</td>\n",
       "      <td>59.63</td>\n",
       "      <td>67.88</td>\n",
       "      <td>54.0000</td>\n",
       "      <td>60.38</td>\n",
       "      <td>15.0950</td>\n",
       "      <td>7444600.0</td>\n",
       "      <td>0.0</td>\n",
       "      <td>NaN</td>\n",
       "      <td>NaN</td>\n",
       "      <td>NaN</td>\n",
       "      <td>-0.039417</td>\n",
       "      <td>-0.001651</td>\n",
       "      <td>-0.003211</td>\n",
       "    </tr>\n",
       "    <tr>\n",
       "      <th>3</th>\n",
       "      <td>2000-05-19</td>\n",
       "      <td>60.56</td>\n",
       "      <td>67.00</td>\n",
       "      <td>57.9400</td>\n",
       "      <td>57.94</td>\n",
       "      <td>14.4850</td>\n",
       "      <td>4914300.0</td>\n",
       "      <td>0.0</td>\n",
       "      <td>NaN</td>\n",
       "      <td>NaN</td>\n",
       "      <td>NaN</td>\n",
       "      <td>0.237314</td>\n",
       "      <td>-0.027421</td>\n",
       "      <td>-0.019833</td>\n",
       "    </tr>\n",
       "    <tr>\n",
       "      <th>4</th>\n",
       "      <td>2000-05-26</td>\n",
       "      <td>58.25</td>\n",
       "      <td>62.88</td>\n",
       "      <td>50.1900</td>\n",
       "      <td>58.00</td>\n",
       "      <td>14.5000</td>\n",
       "      <td>5599900.0</td>\n",
       "      <td>0.0</td>\n",
       "      <td>NaN</td>\n",
       "      <td>NaN</td>\n",
       "      <td>NaN</td>\n",
       "      <td>0.153103</td>\n",
       "      <td>-0.040250</td>\n",
       "      <td>-0.023788</td>\n",
       "    </tr>\n",
       "    <tr>\n",
       "      <th>...</th>\n",
       "      <td>...</td>\n",
       "      <td>...</td>\n",
       "      <td>...</td>\n",
       "      <td>...</td>\n",
       "      <td>...</td>\n",
       "      <td>...</td>\n",
       "      <td>...</td>\n",
       "      <td>...</td>\n",
       "      <td>...</td>\n",
       "      <td>...</td>\n",
       "      <td>...</td>\n",
       "      <td>...</td>\n",
       "      <td>...</td>\n",
       "      <td>...</td>\n",
       "    </tr>\n",
       "    <tr>\n",
       "      <th>1038</th>\n",
       "      <td>2020-03-20</td>\n",
       "      <td>89.19</td>\n",
       "      <td>98.20</td>\n",
       "      <td>85.6900</td>\n",
       "      <td>86.94</td>\n",
       "      <td>86.9400</td>\n",
       "      <td>32363789.0</td>\n",
       "      <td>0.0</td>\n",
       "      <td>29.8084</td>\n",
       "      <td>41.2224</td>\n",
       "      <td>-11.4140</td>\n",
       "      <td>0.182770</td>\n",
       "      <td>0.193917</td>\n",
       "      <td>-2.191296</td>\n",
       "    </tr>\n",
       "    <tr>\n",
       "      <th>1039</th>\n",
       "      <td>2020-03-27</td>\n",
       "      <td>89.73</td>\n",
       "      <td>103.10</td>\n",
       "      <td>88.4272</td>\n",
       "      <td>95.37</td>\n",
       "      <td>95.3700</td>\n",
       "      <td>29191179.0</td>\n",
       "      <td>0.0</td>\n",
       "      <td>19.7769</td>\n",
       "      <td>29.5779</td>\n",
       "      <td>-9.8010</td>\n",
       "      <td>0.109364</td>\n",
       "      <td>-0.376830</td>\n",
       "      <td>-2.337114</td>\n",
       "    </tr>\n",
       "    <tr>\n",
       "      <th>1040</th>\n",
       "      <td>2020-04-03</td>\n",
       "      <td>96.77</td>\n",
       "      <td>104.35</td>\n",
       "      <td>96.1700</td>\n",
       "      <td>102.83</td>\n",
       "      <td>102.8300</td>\n",
       "      <td>19049244.0</td>\n",
       "      <td>0.0</td>\n",
       "      <td>32.8997</td>\n",
       "      <td>27.4950</td>\n",
       "      <td>5.4047</td>\n",
       "      <td>0.119809</td>\n",
       "      <td>-0.224602</td>\n",
       "      <td>-1.848750</td>\n",
       "    </tr>\n",
       "    <tr>\n",
       "      <th>1041</th>\n",
       "      <td>2020-04-09</td>\n",
       "      <td>105.39</td>\n",
       "      <td>109.38</td>\n",
       "      <td>100.1100</td>\n",
       "      <td>105.80</td>\n",
       "      <td>105.8000</td>\n",
       "      <td>16693575.0</td>\n",
       "      <td>0.0</td>\n",
       "      <td>55.0047</td>\n",
       "      <td>35.8938</td>\n",
       "      <td>19.1109</td>\n",
       "      <td>NaN</td>\n",
       "      <td>0.134147</td>\n",
       "      <td>-1.260770</td>\n",
       "    </tr>\n",
       "    <tr>\n",
       "      <th>1042</th>\n",
       "      <td>2020-04-17</td>\n",
       "      <td>105.65</td>\n",
       "      <td>118.69</td>\n",
       "      <td>104.6500</td>\n",
       "      <td>115.15</td>\n",
       "      <td>115.1500</td>\n",
       "      <td>17442813.0</td>\n",
       "      <td>0.0</td>\n",
       "      <td>73.4167</td>\n",
       "      <td>53.7737</td>\n",
       "      <td>19.6430</td>\n",
       "      <td>NaN</td>\n",
       "      <td>1.159558</td>\n",
       "      <td>-0.199149</td>\n",
       "    </tr>\n",
       "  </tbody>\n",
       "</table>\n",
       "<p>1043 rows × 14 columns</p>\n",
       "</div>"
      ],
      "text/plain": [
       "           Date    open    high       low   close  adj_close      volume  \\\n",
       "0    2000-04-28   57.50   64.25   50.7500   60.50    15.1250   8271000.0   \n",
       "1    2000-05-05   60.00   65.63   49.0000   61.69    15.4225  13126800.0   \n",
       "2    2000-05-12   59.63   67.88   54.0000   60.38    15.0950   7444600.0   \n",
       "3    2000-05-19   60.56   67.00   57.9400   57.94    14.4850   4914300.0   \n",
       "4    2000-05-26   58.25   62.88   50.1900   58.00    14.5000   5599900.0   \n",
       "...         ...     ...     ...       ...     ...        ...         ...   \n",
       "1038 2020-03-20   89.19   98.20   85.6900   86.94    86.9400  32363789.0   \n",
       "1039 2020-03-27   89.73  103.10   88.4272   95.37    95.3700  29191179.0   \n",
       "1040 2020-04-03   96.77  104.35   96.1700  102.83   102.8300  19049244.0   \n",
       "1041 2020-04-09  105.39  109.38  100.1100  105.80   105.8000  16693575.0   \n",
       "1042 2020-04-17  105.65  118.69  104.6500  115.15   115.1500  17442813.0   \n",
       "\n",
       "      dividend        k        d  sto_diff  future_ret      macd  macd_hist  \n",
       "0          0.0      NaN      NaN       NaN   -0.001983  0.000000   0.000000  \n",
       "1          0.0      NaN      NaN       NaN   -0.060788  0.006675   0.003059  \n",
       "2          0.0      NaN      NaN       NaN   -0.039417 -0.001651  -0.003211  \n",
       "3          0.0      NaN      NaN       NaN    0.237314 -0.027421  -0.019833  \n",
       "4          0.0      NaN      NaN       NaN    0.153103 -0.040250  -0.023788  \n",
       "...        ...      ...      ...       ...         ...       ...        ...  \n",
       "1038       0.0  29.8084  41.2224  -11.4140    0.182770  0.193917  -2.191296  \n",
       "1039       0.0  19.7769  29.5779   -9.8010    0.109364 -0.376830  -2.337114  \n",
       "1040       0.0  32.8997  27.4950    5.4047    0.119809 -0.224602  -1.848750  \n",
       "1041       0.0  55.0047  35.8938   19.1109         NaN  0.134147  -1.260770  \n",
       "1042       0.0  73.4167  53.7737   19.6430         NaN  1.159558  -0.199149  \n",
       "\n",
       "[1043 rows x 14 columns]"
      ]
     },
     "execution_count": 38,
     "metadata": {},
     "output_type": "execute_result"
    }
   ],
   "source": [
    "spy"
   ]
  },
  {
   "cell_type": "code",
   "execution_count": 39,
   "metadata": {},
   "outputs": [
    {
     "data": {
      "text/plain": [
       "0            NaN\n",
       "1            NaN\n",
       "2            NaN\n",
       "3            NaN\n",
       "4            NaN\n",
       "          ...   \n",
       "1038    104.4485\n",
       "1039    104.3035\n",
       "1040    104.5680\n",
       "1041    104.8985\n",
       "1042    105.6055\n",
       "Name: adj_close, Length: 1043, dtype: float64"
      ]
     },
     "execution_count": 39,
     "metadata": {},
     "output_type": "execute_result"
    }
   ],
   "source": [
    "spy.adj_close.rolling(20).apply(np.mean, raw=False)"
   ]
  },
  {
   "cell_type": "code",
   "execution_count": null,
   "metadata": {},
   "outputs": [],
   "source": []
  }
 ],
 "metadata": {
  "kernelspec": {
   "display_name": "Python 3",
   "language": "python",
   "name": "python3"
  },
  "language_info": {
   "codemirror_mode": {
    "name": "ipython",
    "version": 3
   },
   "file_extension": ".py",
   "mimetype": "text/x-python",
   "name": "python",
   "nbconvert_exporter": "python",
   "pygments_lexer": "ipython3",
   "version": "3.6.9"
  }
 },
 "nbformat": 4,
 "nbformat_minor": 2
}

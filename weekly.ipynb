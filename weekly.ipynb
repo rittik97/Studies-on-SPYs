{
 "cells": [
  {
   "cell_type": "code",
   "execution_count": 1,
   "metadata": {},
   "outputs": [],
   "source": [
    "import pandas as pd\n",
    "import numpy as np \n",
    "import matplotlib.pyplot as plt\n",
    "import requests"
   ]
  },
  {
   "cell_type": "code",
   "execution_count": 2,
   "metadata": {},
   "outputs": [],
   "source": [
    "#spy=pd.read_csv(\"data/SPY_weekly.csv\")\n",
    "#spy.rename(columns={'Adj Close':\"adj_close\"}, inplace=True)\n",
    "#spy=spy.astype({'Date': 'datetime64'})"
   ]
  },
  {
   "cell_type": "code",
   "execution_count": 3,
   "metadata": {},
   "outputs": [],
   "source": [
    "d={'function': 'TIME_SERIES_WEEKLY_ADJUSTED','apikey':\"YEUC2DL0F7KC43PB\",'symbol':'SPY'}\n",
    "response = requests.get(\n",
    "        'https://www.alphavantage.co/query',\n",
    "        params=d,\n",
    "        )"
   ]
  },
  {
   "cell_type": "code",
   "execution_count": 4,
   "metadata": {},
   "outputs": [],
   "source": [
    "#open #high #low #close #adjusted close  #volume #dividend amount\n",
    "spy=[[],[],[],[],[],[],[]]\n",
    "for key, val in response.json()['Weekly Adjusted Time Series'].items():\n",
    "    spy[0].append(float(val['1. open']))\n",
    "    spy[1].append(float(val['2. high']))\n",
    "    spy[2].append(float(val['3. low']))\n",
    "    spy[3].append(float(val['4. close']))\n",
    "    spy[4].append(float(val['5. adjusted close']))\n",
    "    spy[5].append(float(val['6. volume']))\n",
    "    spy[6].append(float(val['7. dividend amount']))"
   ]
  },
  {
   "cell_type": "code",
   "execution_count": 5,
   "metadata": {},
   "outputs": [],
   "source": [
    "spy=pd.DataFrame({'Date':list(response.json()['Weekly Adjusted Time Series'].keys()),\n",
    "                 'open':spy[0],\n",
    "                  'high':spy[1],\n",
    "                  'low':spy[2],\n",
    "                  'close':spy[3],\n",
    "                  'adj_close':spy[4],\n",
    "                  'volume':spy[5],\n",
    "                  'dividend':spy[6],\n",
    "                 })\n",
    "spy=spy.astype({'Date': 'datetime64'})\n"
   ]
  },
  {
   "cell_type": "code",
   "execution_count": 6,
   "metadata": {},
   "outputs": [],
   "source": [
    "spy=spy.sort_values(by='Date')"
   ]
  },
  {
   "cell_type": "code",
   "execution_count": 7,
   "metadata": {},
   "outputs": [
    {
     "data": {
      "text/html": [
       "<div>\n",
       "<style scoped>\n",
       "    .dataframe tbody tr th:only-of-type {\n",
       "        vertical-align: middle;\n",
       "    }\n",
       "\n",
       "    .dataframe tbody tr th {\n",
       "        vertical-align: top;\n",
       "    }\n",
       "\n",
       "    .dataframe thead th {\n",
       "        text-align: right;\n",
       "    }\n",
       "</style>\n",
       "<table border=\"1\" class=\"dataframe\">\n",
       "  <thead>\n",
       "    <tr style=\"text-align: right;\">\n",
       "      <th></th>\n",
       "      <th>Date</th>\n",
       "      <th>open</th>\n",
       "      <th>high</th>\n",
       "      <th>low</th>\n",
       "      <th>close</th>\n",
       "      <th>adj_close</th>\n",
       "      <th>volume</th>\n",
       "      <th>dividend</th>\n",
       "    </tr>\n",
       "  </thead>\n",
       "  <tbody>\n",
       "    <tr>\n",
       "      <th>4</th>\n",
       "      <td>2020-03-20</td>\n",
       "      <td>241.18</td>\n",
       "      <td>256.90</td>\n",
       "      <td>228.0200</td>\n",
       "      <td>228.80</td>\n",
       "      <td>228.80</td>\n",
       "      <td>1.512832e+09</td>\n",
       "      <td>1.4056</td>\n",
       "    </tr>\n",
       "    <tr>\n",
       "      <th>3</th>\n",
       "      <td>2020-03-27</td>\n",
       "      <td>228.19</td>\n",
       "      <td>262.80</td>\n",
       "      <td>218.2600</td>\n",
       "      <td>253.42</td>\n",
       "      <td>253.42</td>\n",
       "      <td>1.334107e+09</td>\n",
       "      <td>0.0000</td>\n",
       "    </tr>\n",
       "    <tr>\n",
       "      <th>2</th>\n",
       "      <td>2020-04-03</td>\n",
       "      <td>255.70</td>\n",
       "      <td>263.33</td>\n",
       "      <td>243.9000</td>\n",
       "      <td>248.19</td>\n",
       "      <td>248.19</td>\n",
       "      <td>8.641470e+08</td>\n",
       "      <td>0.0000</td>\n",
       "    </tr>\n",
       "    <tr>\n",
       "      <th>1</th>\n",
       "      <td>2020-04-09</td>\n",
       "      <td>257.84</td>\n",
       "      <td>281.20</td>\n",
       "      <td>248.1698</td>\n",
       "      <td>278.20</td>\n",
       "      <td>278.20</td>\n",
       "      <td>7.284987e+08</td>\n",
       "      <td>0.0000</td>\n",
       "    </tr>\n",
       "    <tr>\n",
       "      <th>0</th>\n",
       "      <td>2020-04-17</td>\n",
       "      <td>277.14</td>\n",
       "      <td>287.30</td>\n",
       "      <td>271.4100</td>\n",
       "      <td>286.64</td>\n",
       "      <td>286.64</td>\n",
       "      <td>6.332465e+08</td>\n",
       "      <td>0.0000</td>\n",
       "    </tr>\n",
       "  </tbody>\n",
       "</table>\n",
       "</div>"
      ],
      "text/plain": [
       "        Date    open    high       low   close  adj_close        volume  \\\n",
       "4 2020-03-20  241.18  256.90  228.0200  228.80     228.80  1.512832e+09   \n",
       "3 2020-03-27  228.19  262.80  218.2600  253.42     253.42  1.334107e+09   \n",
       "2 2020-04-03  255.70  263.33  243.9000  248.19     248.19  8.641470e+08   \n",
       "1 2020-04-09  257.84  281.20  248.1698  278.20     278.20  7.284987e+08   \n",
       "0 2020-04-17  277.14  287.30  271.4100  286.64     286.64  6.332465e+08   \n",
       "\n",
       "   dividend  \n",
       "4    1.4056  \n",
       "3    0.0000  \n",
       "2    0.0000  \n",
       "1    0.0000  \n",
       "0    0.0000  "
      ]
     },
     "execution_count": 7,
     "metadata": {},
     "output_type": "execute_result"
    }
   ],
   "source": [
    "spy.tail()"
   ]
  },
  {
   "cell_type": "code",
   "execution_count": 8,
   "metadata": {},
   "outputs": [],
   "source": [
    "def return_percentile(x,window,t='latest',val=0):\n",
    "    if t=='latest':\n",
    "        x=x/x.shift(window)-1\n",
    "        x=x.dropna().values\n",
    "        val=x[-1]\n",
    "        return np.round(100*(np.where(np.sort(x)==val)[0][0]/len(x)),2),val\n",
    "    \n",
    "    x=x/x.shift(window)-1\n",
    "    x=x.dropna()\n",
    "    return np.nanpercentile(x,val)\n",
    "\n",
    "def get_percentile(x, t='latest',val=0):\n",
    "    if t=='latest':\n",
    "        x=x.dropna().values\n",
    "        val=x[-1]\n",
    "        return np.round(100*(np.where(np.sort(x)==val)[0][0]/len(x)),2),val\n",
    "    else:\n",
    "        return  np.nanpercentile(np.sort(x),val)\n",
    "        "
   ]
  },
  {
   "cell_type": "markdown",
   "metadata": {},
   "source": [
    "### Returns"
   ]
  },
  {
   "cell_type": "code",
   "execution_count": 9,
   "metadata": {},
   "outputs": [
    {
     "data": {
      "text/plain": [
       "(99.71, 0.1310867334859127)"
      ]
     },
     "execution_count": 9,
     "metadata": {},
     "output_type": "execute_result"
    }
   ],
   "source": [
    "return_percentile(spy.adj_close,window=3)"
   ]
  },
  {
   "cell_type": "code",
   "execution_count": 10,
   "metadata": {},
   "outputs": [
    {
     "data": {
      "text/plain": [
       "-0.02170501530157738"
      ]
     },
     "execution_count": 10,
     "metadata": {},
     "output_type": "execute_result"
    }
   ],
   "source": [
    "return_percentile(spy.adj_close,window=3,t='val',val=20)"
   ]
  },
  {
   "cell_type": "code",
   "execution_count": 11,
   "metadata": {},
   "outputs": [
    {
     "data": {
      "image/png": "[encoded data removed]",
      "text/plain": [
       "<Figure size 432x288 with 1 Axes>"
      ]
     },
     "metadata": {
      "needs_background": "light"
     },
     "output_type": "display_data"
    }
   ],
   "source": [
    "N=3\n",
    "plt.hist((spy.adj_close/spy.adj_close.shift(N)-1).dropna(), bins=20, histtype='step')\n",
    "plt.title('{} week returns'.format(N));\n"
   ]
  },
  {
   "cell_type": "markdown",
   "metadata": {},
   "source": [
    "### STD"
   ]
  },
  {
   "cell_type": "code",
   "execution_count": null,
   "metadata": {},
   "outputs": [],
   "source": [
    "get_percentile(spy.adj_close.rolling(4).apply(np.std, raw=False))"
   ]
  },
  {
   "cell_type": "code",
   "execution_count": null,
   "metadata": {},
   "outputs": [],
   "source": [
    "get_percentile(spy.adj_close.rolling(4).apply(np.std, raw=False),t='val',val=90)"
   ]
  },
  {
   "cell_type": "code",
   "execution_count": null,
   "metadata": {},
   "outputs": [],
   "source": [
    "plt.hist(spy.adj_close.rolling(4).apply(np.std, raw=False), bins=30, histtype='step');\n",
    "plt.title(\"STD\");"
   ]
  },
  {
   "cell_type": "markdown",
   "metadata": {},
   "source": [
    "### STO"
   ]
  },
  {
   "cell_type": "code",
   "execution_count": null,
   "metadata": {},
   "outputs": [],
   "source": [
    "d={'function': 'STOCH','apikey':\"YEUC2DL0F7KC43PB\",'symbol':'SPY','interval':'weekly','fastkperiod':16 }\n",
    "response = requests.get(\n",
    "        'https://www.alphavantage.co/query',\n",
    "        params=d,\n",
    "        )"
   ]
  },
  {
   "cell_type": "code",
   "execution_count": null,
   "metadata": {},
   "outputs": [],
   "source": [
    "slowk=[]\n",
    "slowd=[]\n",
    "for key, val in response.json()['Technical Analysis: STOCH'].items():\n",
    "    slowk.append(float(val['SlowK']))\n",
    "    slowd.append(float(val['SlowD']))\n",
    "\n",
    "sto=pd.DataFrame({'Date':list(response.json()['Technical Analysis: STOCH'].keys()),\n",
    "                 'k':slowk,\n",
    "                  'd':slowd\n",
    "                 })\n",
    "sto=sto.astype({'Date': 'datetime64'})\n",
    "sto['sto_diff']=sto['k']-sto['d']"
   ]
  },
  {
   "cell_type": "code",
   "execution_count": null,
   "metadata": {},
   "outputs": [],
   "source": [
    "fig, ax = plt.subplots(1,2, figsize=(14,5))\n",
    "ax[0].hist(sto.sto_diff[sto.sto_diff>=0], bins=10, alpha=0.6, color='g' ,label='Positives')\n",
    "ax[0].hist(sto.sto_diff[sto.sto_diff<=0], bins=10, alpha=0.6, color='r' ,label='Negatives')\n",
    "ax[0].vlines(sto.sto_diff[1],0,100 ,label='Current', color='black')\n",
    "ax[0].legend(loc='upper left');\n",
    "\n",
    "ax[1].hist(np.abs(sto.sto_diff), bins=15, histtype='step', label='Absolute Values');\n",
    "ax[1].vlines(np.abs(sto.sto_diff[1]),0,100 ,label='Current')\n",
    "ax[1].legend();"
   ]
  },
  {
   "cell_type": "code",
   "execution_count": null,
   "metadata": {},
   "outputs": [],
   "source": [
    "sto=sto.sort_values(by='Date')"
   ]
  },
  {
   "cell_type": "code",
   "execution_count": null,
   "metadata": {},
   "outputs": [],
   "source": [
    "get_percentile(sto.sto_diff)"
   ]
  },
  {
   "cell_type": "code",
   "execution_count": null,
   "metadata": {},
   "outputs": [],
   "source": [
    "get_percentile(sto.sto_diff, t='val', val=30)"
   ]
  },
  {
   "cell_type": "code",
   "execution_count": null,
   "metadata": {},
   "outputs": [],
   "source": [
    "# Diff probably helps more on the downside\n",
    "get_percentile(sto.sto_diff[sto.sto_diff>=0],t='val',val=90)"
   ]
  },
  {
   "cell_type": "code",
   "execution_count": null,
   "metadata": {},
   "outputs": [],
   "source": [
    "plt.figure(figsize=(20,5))\n",
    "plt.title(\"'K'\")\n",
    "plt.vlines(sto.k[1],0,100)\n",
    "plt.hist(sto.k, bins=50, alpha=0.6);\n"
   ]
  },
  {
   "cell_type": "code",
   "execution_count": null,
   "metadata": {},
   "outputs": [],
   "source": [
    "N=3\n",
    "k_change=(sto.sort_values(by='Date').k/sto.sort_values(by='Date').k.shift(N)-1).dropna()"
   ]
  },
  {
   "cell_type": "code",
   "execution_count": null,
   "metadata": {},
   "outputs": [],
   "source": [
    "get_percentile(k_change)"
   ]
  },
  {
   "cell_type": "markdown",
   "metadata": {},
   "source": [
    "### MACD"
   ]
  },
  {
   "cell_type": "code",
   "execution_count": null,
   "metadata": {},
   "outputs": [],
   "source": [
    "macd=spy.adj_close.ewm(span=12,min_periods=0,adjust=True,ignore_na=True).mean()-spy.adj_close.ewm(span=26,min_periods=0,adjust=True,ignore_na=True).mean()\n",
    "signal=macd.ewm(span=12,min_periods=0,adjust=True,ignore_na=True).mean()\n",
    "macd_hist=macd-signal"
   ]
  },
  {
   "cell_type": "code",
   "execution_count": null,
   "metadata": {},
   "outputs": [],
   "source": [
    "spy['macd']=macd\n",
    "spy['macd_hist']=macd_hist"
   ]
  },
  {
   "cell_type": "code",
   "execution_count": null,
   "metadata": {},
   "outputs": [],
   "source": [
    "fig, ax = plt.subplots(1,2, figsize=(14,5))\n",
    "ax[0].hist(macd_hist[macd_hist>=0], bins=10, alpha=0.6, color='g' ,label='Positives')\n",
    "ax[0].hist(sto.sto_diff[sto.sto_diff<=0], bins=10, alpha=0.6, color='r' ,label='Negatives')\n",
    "ax[0].vlines(sto.sto_diff[1],0,100 ,label='Current', color='black')\n",
    "ax[0].legend(loc='upper left');\n",
    "\n",
    "ax[1].hist(np.abs(sto.sto_diff), bins=15, histtype='step', label='Absolute Values');\n",
    "ax[1].vlines(np.abs(sto.sto_diff[1]),0,100 ,label='Current')\n",
    "ax[1].legend();"
   ]
  },
  {
   "cell_type": "code",
   "execution_count": null,
   "metadata": {},
   "outputs": [],
   "source": [
    "get_percentile(macd_hist)"
   ]
  },
  {
   "cell_type": "code",
   "execution_count": null,
   "metadata": {},
   "outputs": [],
   "source": []
  },
  {
   "cell_type": "code",
   "execution_count": null,
   "metadata": {},
   "outputs": [],
   "source": []
  },
  {
   "cell_type": "code",
   "execution_count": null,
   "metadata": {},
   "outputs": [],
   "source": []
  },
  {
   "cell_type": "code",
   "execution_count": null,
   "metadata": {},
   "outputs": [],
   "source": []
  }
 ],
 "metadata": {
  "kernelspec": {
   "display_name": "Python 3",
   "language": "python",
   "name": "python3"
  },
  "language_info": {
   "codemirror_mode": {
    "name": "ipython",
    "version": 3
   },
   "file_extension": ".py",
   "mimetype": "text/x-python",
   "name": "python",
   "nbconvert_exporter": "python",
   "pygments_lexer": "ipython3",
   "version": "3.6.9"
  }
 },
 "nbformat": 4,
 "nbformat_minor": 2
}

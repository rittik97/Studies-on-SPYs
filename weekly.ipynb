{
 "cells": [
  {
   "cell_type": "code",
   "execution_count": 20,
   "metadata": {},
   "outputs": [],
   "source": [
    "import pandas as pd\n",
    "import numpy as np \n",
    "import matplotlib.pyplot as plt\n",
    "import requests"
   ]
  },
  {
   "cell_type": "code",
   "execution_count": 4,
   "metadata": {},
   "outputs": [],
   "source": [
    "spy=pd.read_csv(\"data/SPY_weekly.csv\")\n",
    "spy.rename(columns={'Adj Close':\"adj_close\"}, inplace=True)\n",
    "spy=spy.astype({'Date': 'datetime64'})"
   ]
  },
  {
   "cell_type": "code",
   "execution_count": 5,
   "metadata": {},
   "outputs": [
    {
     "data": {
      "text/html": [
       "<div>\n",
       "<style scoped>\n",
       "    .dataframe tbody tr th:only-of-type {\n",
       "        vertical-align: middle;\n",
       "    }\n",
       "\n",
       "    .dataframe tbody tr th {\n",
       "        vertical-align: top;\n",
       "    }\n",
       "\n",
       "    .dataframe thead th {\n",
       "        text-align: right;\n",
       "    }\n",
       "</style>\n",
       "<table border=\"1\" class=\"dataframe\">\n",
       "  <thead>\n",
       "    <tr style=\"text-align: right;\">\n",
       "      <th></th>\n",
       "      <th>Date</th>\n",
       "      <th>Open</th>\n",
       "      <th>High</th>\n",
       "      <th>Low</th>\n",
       "      <th>Close</th>\n",
       "      <th>adj_close</th>\n",
       "      <th>Volume</th>\n",
       "    </tr>\n",
       "  </thead>\n",
       "  <tbody>\n",
       "    <tr>\n",
       "      <th>1416</th>\n",
       "      <td>2020-03-16</td>\n",
       "      <td>241.179993</td>\n",
       "      <td>256.899994</td>\n",
       "      <td>228.020004</td>\n",
       "      <td>228.800003</td>\n",
       "      <td>227.462463</td>\n",
       "      <td>1523388400</td>\n",
       "    </tr>\n",
       "    <tr>\n",
       "      <th>1417</th>\n",
       "      <td>2020-03-23</td>\n",
       "      <td>228.190002</td>\n",
       "      <td>262.799988</td>\n",
       "      <td>218.259995</td>\n",
       "      <td>253.419998</td>\n",
       "      <td>253.419998</td>\n",
       "      <td>1342924000</td>\n",
       "    </tr>\n",
       "    <tr>\n",
       "      <th>1418</th>\n",
       "      <td>2020-03-30</td>\n",
       "      <td>255.699997</td>\n",
       "      <td>263.329987</td>\n",
       "      <td>243.899994</td>\n",
       "      <td>248.190002</td>\n",
       "      <td>248.190002</td>\n",
       "      <td>869026800</td>\n",
       "    </tr>\n",
       "    <tr>\n",
       "      <th>1419</th>\n",
       "      <td>2020-04-06</td>\n",
       "      <td>257.839996</td>\n",
       "      <td>281.200012</td>\n",
       "      <td>248.169998</td>\n",
       "      <td>278.200012</td>\n",
       "      <td>278.200012</td>\n",
       "      <td>733545600</td>\n",
       "    </tr>\n",
       "    <tr>\n",
       "      <th>1420</th>\n",
       "      <td>2020-04-09</td>\n",
       "      <td>277.579987</td>\n",
       "      <td>281.190002</td>\n",
       "      <td>275.470001</td>\n",
       "      <td>278.200012</td>\n",
       "      <td>278.200012</td>\n",
       "      <td>190282705</td>\n",
       "    </tr>\n",
       "  </tbody>\n",
       "</table>\n",
       "</div>"
      ],
      "text/plain": [
       "           Date        Open        High         Low       Close   adj_close  \\\n",
       "1416 2020-03-16  241.179993  256.899994  228.020004  228.800003  227.462463   \n",
       "1417 2020-03-23  228.190002  262.799988  218.259995  253.419998  253.419998   \n",
       "1418 2020-03-30  255.699997  263.329987  243.899994  248.190002  248.190002   \n",
       "1419 2020-04-06  257.839996  281.200012  248.169998  278.200012  278.200012   \n",
       "1420 2020-04-09  277.579987  281.190002  275.470001  278.200012  278.200012   \n",
       "\n",
       "          Volume  \n",
       "1416  1523388400  \n",
       "1417  1342924000  \n",
       "1418   869026800  \n",
       "1419   733545600  \n",
       "1420   190282705  "
      ]
     },
     "execution_count": 5,
     "metadata": {},
     "output_type": "execute_result"
    }
   ],
   "source": [
    "spy.tail()"
   ]
  },
  {
   "cell_type": "code",
   "execution_count": 47,
   "metadata": {},
   "outputs": [],
   "source": [
    "def return_percentile(x,window,t='latest',val=0):\n",
    "    if t=='latest':\n",
    "        x=x/x.shift(window)-1\n",
    "        x=x.dropna().values\n",
    "        val=x[-1]\n",
    "        return np.round(100*(np.where(np.sort(x)==val)[0][0]/len(x)),2),val\n",
    "    \n",
    "    x=x/x.shift(window)-1\n",
    "    x=x.dropna()\n",
    "    return np.nanpercentile(x,val)\n",
    "\n",
    "def get_percentile(x, t='latest',val=0):\n",
    "    if t=='latest':\n",
    "        x=x.dropna().values\n",
    "        val=x[-1]\n",
    "        return np.round(100*(np.where(np.sort(x)==val)[0][0]/len(x)),2),val\n",
    "    else:\n",
    "        return  np.nanpercentile(np.sort(x),val)\n",
    "        "
   ]
  },
  {
   "cell_type": "markdown",
   "metadata": {},
   "source": [
    "### Returns"
   ]
  },
  {
   "cell_type": "code",
   "execution_count": 45,
   "metadata": {},
   "outputs": [
    {
     "data": {
      "text/plain": [
       "(98.94, 0.09778239363730101)"
      ]
     },
     "execution_count": 45,
     "metadata": {},
     "output_type": "execute_result"
    }
   ],
   "source": [
    "return_percentile(spy.adj_close,window=3)"
   ]
  },
  {
   "cell_type": "code",
   "execution_count": 48,
   "metadata": {},
   "outputs": [
    {
     "data": {
      "text/plain": [
       "-0.01909294744622365"
      ]
     },
     "execution_count": 48,
     "metadata": {},
     "output_type": "execute_result"
    }
   ],
   "source": [
    "return_percentile(spy.adj_close,window=3,t='val',val=20)"
   ]
  },
  {
   "cell_type": "code",
   "execution_count": 54,
   "metadata": {},
   "outputs": [
    {
     "data": {
      "image/png": "[encoded data removed]",
      "text/plain": [
       "<Figure size 432x288 with 1 Axes>"
      ]
     },
     "metadata": {
      "needs_background": "light"
     },
     "output_type": "display_data"
    }
   ],
   "source": [
    "N=3\n",
    "plt.hist((spy.adj_close/spy.adj_close.shift(N)-1).dropna(), bins=20, histtype='step')\n",
    "plt.title('{} week returns'.format(N));\n"
   ]
  },
  {
   "cell_type": "markdown",
   "metadata": {},
   "source": [
    "### STD"
   ]
  },
  {
   "cell_type": "code",
   "execution_count": 110,
   "metadata": {},
   "outputs": [
    {
     "data": {
      "text/plain": [
       "(99.44, 13.821750174635564)"
      ]
     },
     "execution_count": 110,
     "metadata": {},
     "output_type": "execute_result"
    }
   ],
   "source": [
    "get_percentile(spy.adj_close.rolling(4).apply(np.std, raw=False))"
   ]
  },
  {
   "cell_type": "code",
   "execution_count": 111,
   "metadata": {},
   "outputs": [
    {
     "data": {
      "text/plain": [
       "3.051884488438839"
      ]
     },
     "execution_count": 111,
     "metadata": {},
     "output_type": "execute_result"
    }
   ],
   "source": [
    "get_percentile(spy.adj_close.rolling(4).apply(np.std, raw=False),t='val',val=90)"
   ]
  },
  {
   "cell_type": "code",
   "execution_count": 112,
   "metadata": {},
   "outputs": [
    {
     "data": {
      "image/png": "[encoded data removed]",
      "text/plain": [
       "<Figure size 432x288 with 1 Axes>"
      ]
     },
     "metadata": {
      "needs_background": "light"
     },
     "output_type": "display_data"
    }
   ],
   "source": [
    "plt.hist(spy.adj_close.rolling(4).apply(np.std, raw=False), bins=30, histtype='step');\n",
    "plt.title(\"STD\");"
   ]
  },
  {
   "cell_type": "markdown",
   "metadata": {},
   "source": [
    "### STO"
   ]
  },
  {
   "cell_type": "code",
   "execution_count": 102,
   "metadata": {},
   "outputs": [],
   "source": [
    "d={'function': 'STOCH','apikey':\"YEUC2DL0F7KC43PB\",'symbol':'SPY','interval':'weekly','fastkperiod':16 }\n",
    "response = requests.get(\n",
    "        'https://www.alphavantage.co/query',\n",
    "        params=d,\n",
    "        )"
   ]
  },
  {
   "cell_type": "code",
   "execution_count": 103,
   "metadata": {},
   "outputs": [],
   "source": [
    "slowk=[]\n",
    "slowd=[]\n",
    "for key, val in response.json()['Technical Analysis: STOCH'].items():\n",
    "    slowk.append(float(val['SlowK']))\n",
    "    slowd.append(float(val['SlowD']))\n",
    "\n",
    "sto=pd.DataFrame({'Date':list(response.json()['Technical Analysis: STOCH'].keys()),\n",
    "                 'k':slowk,\n",
    "                  'd':slowd\n",
    "                 })\n",
    "sto=sto.astype({'Date': 'datetime64'})\n",
    "sto['sto_diff']=sto['k']-sto['d']"
   ]
  },
  {
   "cell_type": "code",
   "execution_count": 104,
   "metadata": {},
   "outputs": [
    {
     "data": {
      "image/png": "[encoded data removed]",
      "text/plain": [
       "<Figure size 1008x360 with 2 Axes>"
      ]
     },
     "metadata": {
      "needs_background": "light"
     },
     "output_type": "display_data"
    }
   ],
   "source": [
    "fig, ax = plt.subplots(1,2, figsize=(14,5))\n",
    "ax[0].hist(sto.sto_diff[sto.sto_diff>=0], bins=10, alpha=0.6, color='g' ,label='Positives')\n",
    "ax[0].hist(sto.sto_diff[sto.sto_diff<=0], bins=10, alpha=0.6, color='r' ,label='Negatives')\n",
    "ax[0].vlines(sto.sto_diff[1],0,100 ,label='Current', color='black')\n",
    "ax[0].legend(loc='upper left');\n",
    "\n",
    "ax[1].hist(np.abs(sto.sto_diff), bins=15, histtype='step', label='Absolute Values');\n",
    "ax[1].vlines(np.abs(sto.sto_diff[1]),0,100 ,label='Current')\n",
    "ax[1].legend();"
   ]
  },
  {
   "cell_type": "code",
   "execution_count": 105,
   "metadata": {},
   "outputs": [],
   "source": [
    "sto=sto.sort_values(by='Date')"
   ]
  },
  {
   "cell_type": "code",
   "execution_count": 90,
   "metadata": {},
   "outputs": [
    {
     "data": {
      "text/plain": [
       "(93.95, 11.544399999999996)"
      ]
     },
     "execution_count": 90,
     "metadata": {},
     "output_type": "execute_result"
    }
   ],
   "source": [
    "get_percentile(sto.sto_diff)"
   ]
  },
  {
   "cell_type": "code",
   "execution_count": 33,
   "metadata": {},
   "outputs": [
    {
     "data": {
      "text/plain": [
       "-3.046240000000001"
      ]
     },
     "execution_count": 33,
     "metadata": {},
     "output_type": "execute_result"
    }
   ],
   "source": [
    "get_percentile(sto.sto_diff, t='val', val=30)"
   ]
  },
  {
   "cell_type": "code",
   "execution_count": 36,
   "metadata": {},
   "outputs": [
    {
     "data": {
      "text/plain": [
       "2.1629800000000006"
      ]
     },
     "execution_count": 36,
     "metadata": {},
     "output_type": "execute_result"
    }
   ],
   "source": [
    "# Diff probably helps more on the downside\n",
    "get_percentile(sto.sto_diff[sto.sto_diff>=0],t='val',val=30)"
   ]
  },
  {
   "cell_type": "code",
   "execution_count": 107,
   "metadata": {},
   "outputs": [
    {
     "data": {
      "image/png": "[encoded data removed]",
      "text/plain": [
       "<Figure size 1440x360 with 1 Axes>"
      ]
     },
     "metadata": {
      "needs_background": "light"
     },
     "output_type": "display_data"
    }
   ],
   "source": [
    "plt.figure(figsize=(20,5))\n",
    "plt.title(\"'K'\")\n",
    "plt.vlines(sto.k[1],0,100)\n",
    "plt.hist(sto.k, bins=50, alpha=0.6);\n"
   ]
  },
  {
   "cell_type": "code",
   "execution_count": 108,
   "metadata": {},
   "outputs": [],
   "source": [
    "N=3\n",
    "k_change=(sto.sort_values(by='Date').k/sto.sort_values(by='Date').k.shift(N)-1).dropna()"
   ]
  },
  {
   "cell_type": "code",
   "execution_count": 109,
   "metadata": {},
   "outputs": [
    {
     "data": {
      "text/plain": [
       "(96.08, 1.449162763301826)"
      ]
     },
     "execution_count": 109,
     "metadata": {},
     "output_type": "execute_result"
    }
   ],
   "source": [
    "get_percentile(k_change)"
   ]
  },
  {
   "cell_type": "markdown",
   "metadata": {},
   "source": [
    "### MACD"
   ]
  },
  {
   "cell_type": "code",
   "execution_count": 39,
   "metadata": {},
   "outputs": [],
   "source": [
    "macd=spy.adj_close.ewm(span=12,min_periods=0,adjust=True,ignore_na=True).mean()-spy.adj_close.ewm(span=26,min_periods=0,adjust=True,ignore_na=True).mean()\n",
    "signal=macd.ewm(span=12,min_periods=0,adjust=True,ignore_na=True).mean()\n",
    "macd_hist=macd-signal"
   ]
  },
  {
   "cell_type": "code",
   "execution_count": 40,
   "metadata": {},
   "outputs": [
    {
     "data": {
      "text/plain": [
       "(0.28, -7.909642966621385)"
      ]
     },
     "execution_count": 40,
     "metadata": {},
     "output_type": "execute_result"
    }
   ],
   "source": [
    "get_percentile(macd_hist)"
   ]
  },
  {
   "cell_type": "code",
   "execution_count": null,
   "metadata": {},
   "outputs": [],
   "source": []
  },
  {
   "cell_type": "code",
   "execution_count": null,
   "metadata": {},
   "outputs": [],
   "source": []
  },
  {
   "cell_type": "code",
   "execution_count": null,
   "metadata": {},
   "outputs": [],
   "source": []
  },
  {
   "cell_type": "code",
   "execution_count": null,
   "metadata": {},
   "outputs": [],
   "source": []
  }
 ],
 "metadata": {
  "kernelspec": {
   "display_name": "Python 3",
   "language": "python",
   "name": "python3"
  },
  "language_info": {
   "codemirror_mode": {
    "name": "ipython",
    "version": 3
   },
   "file_extension": ".py",
   "mimetype": "text/x-python",
   "name": "python",
   "nbconvert_exporter": "python",
   "pygments_lexer": "ipython3",
   "version": "3.6.9"
  }
 },
 "nbformat": 4,
 "nbformat_minor": 2
}

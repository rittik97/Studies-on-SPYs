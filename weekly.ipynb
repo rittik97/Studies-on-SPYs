{
 "cells": [
  {
   "cell_type": "code",
   "execution_count": 1,
   "metadata": {},
   "outputs": [],
   "source": [
    "import pandas as pd\n",
    "import numpy as np \n",
    "import matplotlib.pyplot as plt\n",
    "import requests\n",
    "from collections import Counter"
   ]
  },
  {
   "cell_type": "code",
   "execution_count": 2,
   "metadata": {},
   "outputs": [],
   "source": [
    "#spy=pd.read_csv(\"data/SPY_weekly.csv\")\n",
    "#spy.rename(columns={'Adj Close':\"adj_close\"}, inplace=True)\n",
    "#spy=spy.astype({'Date': 'datetime64'})"
   ]
  },
  {
   "cell_type": "code",
   "execution_count": 3,
   "metadata": {},
   "outputs": [],
   "source": [
    "ticker='GDX'\n",
    "d={'function': 'TIME_SERIES_WEEKLY_ADJUSTED','apikey':\"YEUC2DL0F7KC43PB\",'symbol':ticker}\n",
    "response = requests.get(\n",
    "        'https://www.alphavantage.co/query',\n",
    "        params=d,\n",
    "        )"
   ]
  },
  {
   "cell_type": "code",
   "execution_count": 4,
   "metadata": {},
   "outputs": [],
   "source": [
    "#open #high #low #close #adjusted close  #volume #dividend amount\n",
    "spy=[[],[],[],[],[],[],[]]\n",
    "for key, val in response.json()['Weekly Adjusted Time Series'].items():\n",
    "    spy[0].append(float(val['1. open']))\n",
    "    spy[1].append(float(val['2. high']))\n",
    "    spy[2].append(float(val['3. low']))\n",
    "    spy[3].append(float(val['4. close']))\n",
    "    spy[4].append(float(val['5. adjusted close']))\n",
    "    spy[5].append(float(val['6. volume']))\n",
    "    spy[6].append(float(val['7. dividend amount']))"
   ]
  },
  {
   "cell_type": "code",
   "execution_count": 5,
   "metadata": {},
   "outputs": [],
   "source": [
    "spy=pd.DataFrame({'Date':list(response.json()['Weekly Adjusted Time Series'].keys()),\n",
    "                 'open':spy[0],\n",
    "                  'high':spy[1],\n",
    "                  'low':spy[2],\n",
    "                  'close':spy[3],\n",
    "                  'adj_close':spy[4],\n",
    "                  'volume':spy[5],\n",
    "                  'dividend':spy[6],\n",
    "                 })\n",
    "spy=spy.astype({'Date': 'datetime64'})\n"
   ]
  },
  {
   "cell_type": "code",
   "execution_count": 6,
   "metadata": {},
   "outputs": [],
   "source": [
    "spy=spy.sort_values(by='Date')"
   ]
  },
  {
   "cell_type": "code",
   "execution_count": 7,
   "metadata": {},
   "outputs": [
    {
     "data": {
      "text/html": [
       "<div>\n",
       "<style scoped>\n",
       "    .dataframe tbody tr th:only-of-type {\n",
       "        vertical-align: middle;\n",
       "    }\n",
       "\n",
       "    .dataframe tbody tr th {\n",
       "        vertical-align: top;\n",
       "    }\n",
       "\n",
       "    .dataframe thead th {\n",
       "        text-align: right;\n",
       "    }\n",
       "</style>\n",
       "<table border=\"1\" class=\"dataframe\">\n",
       "  <thead>\n",
       "    <tr style=\"text-align: right;\">\n",
       "      <th></th>\n",
       "      <th>Date</th>\n",
       "      <th>open</th>\n",
       "      <th>high</th>\n",
       "      <th>low</th>\n",
       "      <th>close</th>\n",
       "      <th>adj_close</th>\n",
       "      <th>volume</th>\n",
       "      <th>dividend</th>\n",
       "    </tr>\n",
       "  </thead>\n",
       "  <tbody>\n",
       "    <tr>\n",
       "      <th>4</th>\n",
       "      <td>2020-03-27</td>\n",
       "      <td>21.63</td>\n",
       "      <td>27.2100</td>\n",
       "      <td>21.12</td>\n",
       "      <td>24.370</td>\n",
       "      <td>24.370</td>\n",
       "      <td>465945489.0</td>\n",
       "      <td>0.0</td>\n",
       "    </tr>\n",
       "    <tr>\n",
       "      <th>3</th>\n",
       "      <td>2020-04-03</td>\n",
       "      <td>24.39</td>\n",
       "      <td>25.8755</td>\n",
       "      <td>23.00</td>\n",
       "      <td>24.950</td>\n",
       "      <td>24.950</td>\n",
       "      <td>215608758.0</td>\n",
       "      <td>0.0</td>\n",
       "    </tr>\n",
       "    <tr>\n",
       "      <th>2</th>\n",
       "      <td>2020-04-09</td>\n",
       "      <td>26.01</td>\n",
       "      <td>28.9700</td>\n",
       "      <td>25.54</td>\n",
       "      <td>28.950</td>\n",
       "      <td>28.950</td>\n",
       "      <td>179418388.0</td>\n",
       "      <td>0.0</td>\n",
       "    </tr>\n",
       "    <tr>\n",
       "      <th>1</th>\n",
       "      <td>2020-04-17</td>\n",
       "      <td>28.65</td>\n",
       "      <td>32.2700</td>\n",
       "      <td>27.91</td>\n",
       "      <td>29.940</td>\n",
       "      <td>29.940</td>\n",
       "      <td>218237784.0</td>\n",
       "      <td>0.0</td>\n",
       "    </tr>\n",
       "    <tr>\n",
       "      <th>0</th>\n",
       "      <td>2020-04-22</td>\n",
       "      <td>29.98</td>\n",
       "      <td>32.4500</td>\n",
       "      <td>29.55</td>\n",
       "      <td>32.355</td>\n",
       "      <td>32.355</td>\n",
       "      <td>68943579.0</td>\n",
       "      <td>0.0</td>\n",
       "    </tr>\n",
       "  </tbody>\n",
       "</table>\n",
       "</div>"
      ],
      "text/plain": [
       "        Date   open     high    low   close  adj_close       volume  dividend\n",
       "4 2020-03-27  21.63  27.2100  21.12  24.370     24.370  465945489.0       0.0\n",
       "3 2020-04-03  24.39  25.8755  23.00  24.950     24.950  215608758.0       0.0\n",
       "2 2020-04-09  26.01  28.9700  25.54  28.950     28.950  179418388.0       0.0\n",
       "1 2020-04-17  28.65  32.2700  27.91  29.940     29.940  218237784.0       0.0\n",
       "0 2020-04-22  29.98  32.4500  29.55  32.355     32.355   68943579.0       0.0"
      ]
     },
     "execution_count": 7,
     "metadata": {},
     "output_type": "execute_result"
    }
   ],
   "source": [
    "spy.tail()"
   ]
  },
  {
   "cell_type": "code",
   "execution_count": 8,
   "metadata": {},
   "outputs": [],
   "source": [
    "def return_percentile(x,window,t='latest',val=0):\n",
    "    if t=='latest':\n",
    "        x=x/x.shift(window)-1\n",
    "        x=x.dropna().values\n",
    "        val=x[-1]\n",
    "        return np.round(100*(np.where(np.sort(x)==val)[0][0]/len(x)),2),val\n",
    "    \n",
    "    x=x/x.shift(window)-1\n",
    "    x=x.dropna()\n",
    "    return np.nanpercentile(x,val)\n",
    "\n",
    "def get_percentile(x, t='latest',val=0):\n",
    "    if t=='latest':\n",
    "        x=x.dropna().values\n",
    "        val=x[-1]\n",
    "        return np.round(100*(np.where(np.sort(x)==val)[0][0]/len(x)),2),val\n",
    "    else:\n",
    "        return  np.nanpercentile(np.sort(x),val)\n",
    "        "
   ]
  },
  {
   "cell_type": "markdown",
   "metadata": {},
   "source": [
    "### Returns"
   ]
  },
  {
   "cell_type": "code",
   "execution_count": 44,
   "metadata": {},
   "outputs": [
    {
     "data": {
      "text/plain": [
       "(93.37, 0.11761658031088085)"
      ]
     },
     "execution_count": 44,
     "metadata": {},
     "output_type": "execute_result"
    }
   ],
   "source": [
    "return_percentile(spy.adj_close,window=2)# 3 weeks of trading"
   ]
  },
  {
   "cell_type": "code",
   "execution_count": 10,
   "metadata": {},
   "outputs": [
    {
     "data": {
      "text/plain": [
       "-0.08398270224949328"
      ]
     },
     "execution_count": 10,
     "metadata": {},
     "output_type": "execute_result"
    }
   ],
   "source": [
    "return_percentile(spy.adj_close,window=1,t='val',val=5)"
   ]
  },
  {
   "cell_type": "code",
   "execution_count": 11,
   "metadata": {},
   "outputs": [],
   "source": [
    "ret=(spy.adj_close/spy.adj_close.shift(1)-1).dropna()\n",
    "pos=[]\n",
    "for idx, r in enumerate(np.where(ret<-0.038,1,0)):\n",
    "    if r==1:\n",
    "        pos.append(idx)\n",
    "l=[]\n",
    "for i in range(1,len(pos)):\n",
    "    l.append(pos[i]-np.roll(np.asarray(pos),1)[i])        "
   ]
  },
  {
   "cell_type": "code",
   "execution_count": 12,
   "metadata": {},
   "outputs": [
    {
     "data": {
      "text/plain": [
       "6"
      ]
     },
     "execution_count": 12,
     "metadata": {},
     "output_type": "execute_result"
    }
   ],
   "source": [
    "len(ret)-pos[-1]-1 # subtracting to adjust for indices "
   ]
  },
  {
   "cell_type": "code",
   "execution_count": 13,
   "metadata": {},
   "outputs": [],
   "source": [
    "#Counter(l)"
   ]
  },
  {
   "cell_type": "code",
   "execution_count": 14,
   "metadata": {},
   "outputs": [
    {
     "data": {
      "image/png": "[encoded data removed]",
      "text/plain": [
       "<Figure size 432x288 with 1 Axes>"
      ]
     },
     "metadata": {
      "needs_background": "light"
     },
     "output_type": "display_data"
    }
   ],
   "source": [
    "labels, values = zip(*Counter(l).items())\n",
    "width = 5\n",
    "plt.bar(labels, values/np.sum(values), width ,linewidth=1, edgecolor='black');\n",
    "plt.title(\"#Weeks to N-percentile drop\");"
   ]
  },
  {
   "cell_type": "code",
   "execution_count": 15,
   "metadata": {},
   "outputs": [
    {
     "data": {
      "image/png": "[encoded data removed]",
      "text/plain": [
       "<Figure size 432x288 with 1 Axes>"
      ]
     },
     "metadata": {
      "needs_background": "light"
     },
     "output_type": "display_data"
    }
   ],
   "source": [
    "N=3\n",
    "ret= (spy.adj_close/spy.adj_close.shift(N)-1).dropna()\n",
    "plt.hist(ret, bins=20, histtype='step')\n",
    "plt.title('{} week returns'.format(N));"
   ]
  },
  {
   "cell_type": "code",
   "execution_count": 16,
   "metadata": {},
   "outputs": [
    {
     "data": {
      "text/plain": [
       "count    723.000000\n",
       "mean       0.003993\n",
       "std        0.091977\n",
       "min       -0.398264\n",
       "25%       -0.053013\n",
       "50%        0.004007\n",
       "75%        0.057161\n",
       "max        0.445901\n",
       "Name: adj_close, dtype: float64"
      ]
     },
     "execution_count": 16,
     "metadata": {},
     "output_type": "execute_result"
    }
   ],
   "source": [
    "ret.describe()"
   ]
  },
  {
   "cell_type": "markdown",
   "metadata": {},
   "source": [
    "### STD"
   ]
  },
  {
   "cell_type": "code",
   "execution_count": 61,
   "metadata": {},
   "outputs": [
    {
     "data": {
      "text/plain": [
       "(79.28, 1.43008740991591)"
      ]
     },
     "execution_count": 61,
     "metadata": {},
     "output_type": "execute_result"
    }
   ],
   "source": [
    "get_percentile(spy.adj_close.rolling(3).apply(np.std, raw=False))"
   ]
  },
  {
   "cell_type": "code",
   "execution_count": 18,
   "metadata": {},
   "outputs": [
    {
     "data": {
      "text/plain": [
       "2.0829868768000352"
      ]
     },
     "execution_count": 18,
     "metadata": {},
     "output_type": "execute_result"
    }
   ],
   "source": [
    "get_percentile(spy.adj_close.rolling(4).apply(np.std, raw=False),t='val',val=90)"
   ]
  },
  {
   "cell_type": "code",
   "execution_count": 62,
   "metadata": {},
   "outputs": [
    {
     "data": {
      "image/png": "[encoded data removed]",
      "text/plain": [
       "<Figure size 432x288 with 1 Axes>"
      ]
     },
     "metadata": {
      "needs_background": "light"
     },
     "output_type": "display_data"
    }
   ],
   "source": [
    "plt.hist(spy.adj_close.rolling(3\n",
    "                              ).apply(np.std, raw=False), bins=30, histtype='step');\n",
    "plt.title(\"STD\");"
   ]
  },
  {
   "cell_type": "markdown",
   "metadata": {},
   "source": [
    "### Sharpe Ratio"
   ]
  },
  {
   "cell_type": "code",
   "execution_count": 63,
   "metadata": {},
   "outputs": [
    {
     "data": {
      "text/plain": [
       "0           NaN\n",
       "1           NaN\n",
       "2           NaN\n",
       "3     -0.115006\n",
       "4      0.067413\n",
       "         ...   \n",
       "721   -0.075940\n",
       "722    0.160438\n",
       "723    0.200752\n",
       "724    0.105954\n",
       "725    0.207535\n",
       "Name: adj_close, Length: 726, dtype: float64"
      ]
     },
     "execution_count": 63,
     "metadata": {},
     "output_type": "execute_result"
    }
   ],
   "source": [
    "N=3\n",
    "ret= (spy.adj_close/spy.adj_close.shift(N)-1).dropna()\n",
    "std=spy.adj_close.rolling(N).apply(np.std, raw=False)\n",
    "ret/std"
   ]
  },
  {
   "cell_type": "markdown",
   "metadata": {},
   "source": [
    "### STO"
   ]
  },
  {
   "cell_type": "code",
   "execution_count": 21,
   "metadata": {},
   "outputs": [],
   "source": [
    "d={'function': 'STOCH','apikey':\"YEUC2DL0F7KC43PB\",'symbol':ticker,'interval':'weekly','fastkperiod':16 }\n",
    "response = requests.get(\n",
    "        'https://www.alphavantage.co/query',\n",
    "        params=d,\n",
    "        )"
   ]
  },
  {
   "cell_type": "code",
   "execution_count": 22,
   "metadata": {},
   "outputs": [],
   "source": [
    "slowk=[]\n",
    "slowd=[]\n",
    "for key, val in response.json()['Technical Analysis: STOCH'].items():\n",
    "    slowk.append(float(val['SlowK']))\n",
    "    slowd.append(float(val['SlowD']))\n",
    "\n",
    "sto=pd.DataFrame({'Date':list(response.json()['Technical Analysis: STOCH'].keys()),\n",
    "                 'k':slowk,\n",
    "                  'd':slowd\n",
    "                 })\n",
    "sto=sto.astype({'Date': 'datetime64'})\n",
    "sto['sto_diff']=sto['k']-sto['d']"
   ]
  },
  {
   "cell_type": "code",
   "execution_count": 23,
   "metadata": {},
   "outputs": [
    {
     "data": {
      "image/png": "[encoded data removed]",
      "text/plain": [
       "<Figure size 1008x360 with 2 Axes>"
      ]
     },
     "metadata": {
      "needs_background": "light"
     },
     "output_type": "display_data"
    }
   ],
   "source": [
    "fig, ax = plt.subplots(1,2, figsize=(14,5))\n",
    "ax[0].hist(sto.sto_diff[sto.sto_diff>=0], bins=10, alpha=0.6, color='g' ,label='Positives')\n",
    "ax[0].hist(sto.sto_diff[sto.sto_diff<=0], bins=10, alpha=0.6, color='r' ,label='Negatives')\n",
    "ax[0].vlines(sto.sto_diff[1],0,100 ,label='Current', color='black')\n",
    "ax[0].legend(loc='upper left');\n",
    "\n",
    "ax[1].hist(np.abs(sto.sto_diff), bins=15, histtype='step', label='Absolute Values');\n",
    "ax[1].vlines(np.abs(sto.sto_diff[1]),0,100 ,label='Current')\n",
    "ax[1].legend();"
   ]
  },
  {
   "cell_type": "code",
   "execution_count": 24,
   "metadata": {},
   "outputs": [],
   "source": [
    "sto=sto.sort_values(by='Date')"
   ]
  },
  {
   "cell_type": "code",
   "execution_count": 25,
   "metadata": {},
   "outputs": [
    {
     "data": {
      "text/plain": [
       "(94.77, 13.3386)"
      ]
     },
     "execution_count": 25,
     "metadata": {},
     "output_type": "execute_result"
    }
   ],
   "source": [
    "get_percentile(sto.sto_diff)"
   ]
  },
  {
   "cell_type": "code",
   "execution_count": 64,
   "metadata": {},
   "outputs": [
    {
     "data": {
      "text/plain": [
       "-8.110869999999998"
      ]
     },
     "execution_count": 64,
     "metadata": {},
     "output_type": "execute_result"
    }
   ],
   "source": [
    "get_percentile(sto.sto_diff, t='val', val=15)"
   ]
  },
  {
   "cell_type": "code",
   "execution_count": 60,
   "metadata": {},
   "outputs": [
    {
     "data": {
      "text/plain": [
       "13.340039999999998"
      ]
     },
     "execution_count": 60,
     "metadata": {},
     "output_type": "execute_result"
    }
   ],
   "source": [
    "# Diff probably helps more on the downside\n",
    "get_percentile(sto.sto_diff[sto.sto_diff>=0],t='val',val=90)"
   ]
  },
  {
   "cell_type": "code",
   "execution_count": 28,
   "metadata": {},
   "outputs": [
    {
     "data": {
      "image/png": "[encoded data removed]",
      "text/plain": [
       "<Figure size 1440x360 with 1 Axes>"
      ]
     },
     "metadata": {
      "needs_background": "light"
     },
     "output_type": "display_data"
    }
   ],
   "source": [
    "plt.figure(figsize=(20,5))\n",
    "plt.title(\"'K'\")\n",
    "plt.vlines(sto.k[1],0,100)\n",
    "plt.hist(sto.k, bins=50, alpha=0.6);\n"
   ]
  },
  {
   "cell_type": "code",
   "execution_count": 29,
   "metadata": {},
   "outputs": [],
   "source": [
    "N=3\n",
    "k_change=(sto.sort_values(by='Date').k/sto.sort_values(by='Date').k.shift(N)-1).dropna()"
   ]
  },
  {
   "cell_type": "code",
   "execution_count": 30,
   "metadata": {},
   "outputs": [
    {
     "data": {
      "image/png": "[encoded data removed]",
      "text/plain": [
       "<Figure size 432x288 with 1 Axes>"
      ]
     },
     "metadata": {
      "needs_background": "light"
     },
     "output_type": "display_data"
    }
   ],
   "source": [
    "plt.hist(k_change);"
   ]
  },
  {
   "cell_type": "code",
   "execution_count": 31,
   "metadata": {},
   "outputs": [
    {
     "data": {
      "text/plain": [
       "(87.07, 0.9564383302167514)"
      ]
     },
     "execution_count": 31,
     "metadata": {},
     "output_type": "execute_result"
    }
   ],
   "source": [
    "get_percentile(k_change)"
   ]
  },
  {
   "cell_type": "code",
   "execution_count": 32,
   "metadata": {},
   "outputs": [],
   "source": [
    "spy=spy.merge(sto,left_on='Date',right_on='Date',how='left')"
   ]
  },
  {
   "cell_type": "code",
   "execution_count": 56,
   "metadata": {},
   "outputs": [],
   "source": [
    "spy['future_ret']=spy.adj_close.shift(-2)/spy.adj_close-1"
   ]
  },
  {
   "cell_type": "code",
   "execution_count": 65,
   "metadata": {},
   "outputs": [],
   "source": [
    "vals=[[],[],[]]\n",
    "upper_cut==5\n",
    "lower_cut=-11\n",
    "for index, row in spy.dropna().iterrows():\n",
    "    if row.sto_diff<=upper_cut and row.sto_diff>=lower_cut:\n",
    "        vals[0].append(row.Date)\n",
    "        vals[1].append(row.sto_diff)\n",
    "        vals[2].append(row.future_ret)"
   ]
  },
  {
   "cell_type": "code",
   "execution_count": 66,
   "metadata": {},
   "outputs": [
    {
     "data": {
      "image/png": "[encoded data removed]",
      "text/plain": [
       "<Figure size 1224x360 with 3 Axes>"
      ]
     },
     "metadata": {
      "needs_background": "light"
     },
     "output_type": "display_data"
    }
   ],
   "source": [
    "fig, ax = plt.subplots(1,3, figsize=(17,5))\n",
    "ax[0].scatter(vals[1],vals[2], alpha=0.75)\n",
    "ax[0].hlines(0,lower_cut,upper_cut);\n",
    "\n",
    "ax[1].hist(vals[2], bins=20);\n",
    "ax[2].hist(np.array(vals[2])[np.asarray(vals[2])>=0], bins=int(len(vals[2])/2));"
   ]
  },
  {
   "cell_type": "code",
   "execution_count": 67,
   "metadata": {},
   "outputs": [
    {
     "data": {
      "text/plain": [
       "(0.784, 625)"
      ]
     },
     "execution_count": 67,
     "metadata": {},
     "output_type": "execute_result"
    }
   ],
   "source": [
    "np.sum([np.asarray(vals[2])>=-0.05])/len(vals[2]), len(vals[2])"
   ]
  },
  {
   "cell_type": "markdown",
   "metadata": {},
   "source": [
    "### MACD"
   ]
  },
  {
   "cell_type": "code",
   "execution_count": 37,
   "metadata": {},
   "outputs": [],
   "source": [
    "#MACD & MACD/return diff slope"
   ]
  },
  {
   "cell_type": "code",
   "execution_count": 38,
   "metadata": {},
   "outputs": [],
   "source": [
    "macd=spy.adj_close.ewm(span=12,min_periods=0,adjust=True,ignore_na=True).mean()-spy.adj_close.ewm(span=26,min_periods=0,adjust=True,ignore_na=True).mean()\n",
    "signal=macd.ewm(span=12,min_periods=0,adjust=True,ignore_na=True).mean()\n",
    "macd_hist=macd-signal"
   ]
  },
  {
   "cell_type": "code",
   "execution_count": 39,
   "metadata": {},
   "outputs": [],
   "source": [
    "spy['macd']=macd\n",
    "spy['macd_hist']=macd_hist"
   ]
  },
  {
   "cell_type": "code",
   "execution_count": 40,
   "metadata": {},
   "outputs": [
    {
     "data": {
      "image/png": "[encoded data removed]",
      "text/plain": [
       "<Figure size 1008x360 with 2 Axes>"
      ]
     },
     "metadata": {
      "needs_background": "light"
     },
     "output_type": "display_data"
    }
   ],
   "source": [
    "fig, ax = plt.subplots(1,2, figsize=(14,5))\n",
    "ax[0].hist(macd_hist[macd_hist>=0], bins=10, alpha=0.6, color='g' ,label='Positives')\n",
    "ax[0].hist(sto.sto_diff[sto.sto_diff<=0], bins=10, alpha=0.6, color='r' ,label='Negatives')\n",
    "ax[0].vlines(sto.sto_diff[1],0,100 ,label='Current', color='black')\n",
    "ax[0].legend(loc='upper left');\n",
    "\n",
    "ax[1].hist(np.abs(sto.sto_diff), bins=15, histtype='step', label='Absolute Values');\n",
    "ax[1].vlines(np.abs(sto.sto_diff[1]),0,100 ,label='Current')\n",
    "ax[1].legend();"
   ]
  },
  {
   "cell_type": "code",
   "execution_count": 41,
   "metadata": {},
   "outputs": [
    {
     "data": {
      "text/plain": [
       "(73.28, 0.31907172485040297)"
      ]
     },
     "execution_count": 41,
     "metadata": {},
     "output_type": "execute_result"
    }
   ],
   "source": [
    "get_percentile(macd_hist)"
   ]
  },
  {
   "cell_type": "code",
   "execution_count": null,
   "metadata": {},
   "outputs": [],
   "source": []
  },
  {
   "cell_type": "markdown",
   "metadata": {},
   "source": [
    "### 20/50"
   ]
  },
  {
   "cell_type": "code",
   "execution_count": 42,
   "metadata": {},
   "outputs": [
    {
     "data": {
      "text/html": [
       "<div>\n",
       "<style scoped>\n",
       "    .dataframe tbody tr th:only-of-type {\n",
       "        vertical-align: middle;\n",
       "    }\n",
       "\n",
       "    .dataframe tbody tr th {\n",
       "        vertical-align: top;\n",
       "    }\n",
       "\n",
       "    .dataframe thead th {\n",
       "        text-align: right;\n",
       "    }\n",
       "</style>\n",
       "<table border=\"1\" class=\"dataframe\">\n",
       "  <thead>\n",
       "    <tr style=\"text-align: right;\">\n",
       "      <th></th>\n",
       "      <th>Date</th>\n",
       "      <th>open</th>\n",
       "      <th>high</th>\n",
       "      <th>low</th>\n",
       "      <th>close</th>\n",
       "      <th>adj_close</th>\n",
       "      <th>volume</th>\n",
       "      <th>dividend</th>\n",
       "      <th>k</th>\n",
       "      <th>d</th>\n",
       "      <th>sto_diff</th>\n",
       "      <th>future_ret</th>\n",
       "      <th>macd</th>\n",
       "      <th>macd_hist</th>\n",
       "    </tr>\n",
       "  </thead>\n",
       "  <tbody>\n",
       "    <tr>\n",
       "      <th>0</th>\n",
       "      <td>2006-06-02</td>\n",
       "      <td>39.50</td>\n",
       "      <td>39.7200</td>\n",
       "      <td>37.17</td>\n",
       "      <td>39.130</td>\n",
       "      <td>34.8133</td>\n",
       "      <td>1828400.0</td>\n",
       "      <td>0.0</td>\n",
       "      <td>NaN</td>\n",
       "      <td>NaN</td>\n",
       "      <td>NaN</td>\n",
       "      <td>-0.116536</td>\n",
       "      <td>0.000000</td>\n",
       "      <td>0.000000</td>\n",
       "    </tr>\n",
       "    <tr>\n",
       "      <th>1</th>\n",
       "      <td>2006-06-09</td>\n",
       "      <td>39.36</td>\n",
       "      <td>40.2700</td>\n",
       "      <td>33.62</td>\n",
       "      <td>35.130</td>\n",
       "      <td>31.2546</td>\n",
       "      <td>2858800.0</td>\n",
       "      <td>0.0</td>\n",
       "      <td>NaN</td>\n",
       "      <td>NaN</td>\n",
       "      <td>NaN</td>\n",
       "      <td>0.032734</td>\n",
       "      <td>-0.079843</td>\n",
       "      <td>-0.036595</td>\n",
       "    </tr>\n",
       "    <tr>\n",
       "      <th>2</th>\n",
       "      <td>2006-06-16</td>\n",
       "      <td>35.00</td>\n",
       "      <td>35.6300</td>\n",
       "      <td>31.82</td>\n",
       "      <td>34.570</td>\n",
       "      <td>30.7563</td>\n",
       "      <td>4296900.0</td>\n",
       "      <td>0.0</td>\n",
       "      <td>NaN</td>\n",
       "      <td>NaN</td>\n",
       "      <td>NaN</td>\n",
       "      <td>0.119468</td>\n",
       "      <td>-0.117188</td>\n",
       "      <td>-0.045081</td>\n",
       "    </tr>\n",
       "    <tr>\n",
       "      <th>3</th>\n",
       "      <td>2006-06-23</td>\n",
       "      <td>34.27</td>\n",
       "      <td>36.5000</td>\n",
       "      <td>33.57</td>\n",
       "      <td>36.280</td>\n",
       "      <td>32.2777</td>\n",
       "      <td>2363400.0</td>\n",
       "      <td>0.0</td>\n",
       "      <td>NaN</td>\n",
       "      <td>NaN</td>\n",
       "      <td>NaN</td>\n",
       "      <td>0.075798</td>\n",
       "      <td>-0.076371</td>\n",
       "      <td>-0.002918</td>\n",
       "    </tr>\n",
       "    <tr>\n",
       "      <th>4</th>\n",
       "      <td>2006-06-30</td>\n",
       "      <td>36.75</td>\n",
       "      <td>39.0600</td>\n",
       "      <td>35.00</td>\n",
       "      <td>38.700</td>\n",
       "      <td>34.4307</td>\n",
       "      <td>2844800.0</td>\n",
       "      <td>0.0</td>\n",
       "      <td>NaN</td>\n",
       "      <td>NaN</td>\n",
       "      <td>NaN</td>\n",
       "      <td>0.006976</td>\n",
       "      <td>0.033088</td>\n",
       "      <td>0.077594</td>\n",
       "    </tr>\n",
       "    <tr>\n",
       "      <th>...</th>\n",
       "      <td>...</td>\n",
       "      <td>...</td>\n",
       "      <td>...</td>\n",
       "      <td>...</td>\n",
       "      <td>...</td>\n",
       "      <td>...</td>\n",
       "      <td>...</td>\n",
       "      <td>...</td>\n",
       "      <td>...</td>\n",
       "      <td>...</td>\n",
       "      <td>...</td>\n",
       "      <td>...</td>\n",
       "      <td>...</td>\n",
       "      <td>...</td>\n",
       "    </tr>\n",
       "    <tr>\n",
       "      <th>721</th>\n",
       "      <td>2020-03-27</td>\n",
       "      <td>21.63</td>\n",
       "      <td>27.2100</td>\n",
       "      <td>21.12</td>\n",
       "      <td>24.370</td>\n",
       "      <td>24.3700</td>\n",
       "      <td>465945489.0</td>\n",
       "      <td>0.0</td>\n",
       "      <td>32.1672</td>\n",
       "      <td>32.6119</td>\n",
       "      <td>-0.4447</td>\n",
       "      <td>0.187936</td>\n",
       "      <td>-0.714467</td>\n",
       "      <td>-0.970000</td>\n",
       "    </tr>\n",
       "    <tr>\n",
       "      <th>722</th>\n",
       "      <td>2020-04-03</td>\n",
       "      <td>24.39</td>\n",
       "      <td>25.8755</td>\n",
       "      <td>23.00</td>\n",
       "      <td>24.950</td>\n",
       "      <td>24.9500</td>\n",
       "      <td>215608758.0</td>\n",
       "      <td>0.0</td>\n",
       "      <td>45.4023</td>\n",
       "      <td>37.6669</td>\n",
       "      <td>7.7354</td>\n",
       "      <td>0.200000</td>\n",
       "      <td>-0.722350</td>\n",
       "      <td>-0.827440</td>\n",
       "    </tr>\n",
       "    <tr>\n",
       "      <th>723</th>\n",
       "      <td>2020-04-09</td>\n",
       "      <td>26.01</td>\n",
       "      <td>28.9700</td>\n",
       "      <td>25.54</td>\n",
       "      <td>28.950</td>\n",
       "      <td>28.9500</td>\n",
       "      <td>179418388.0</td>\n",
       "      <td>0.0</td>\n",
       "      <td>63.2822</td>\n",
       "      <td>46.9506</td>\n",
       "      <td>16.3316</td>\n",
       "      <td>0.117617</td>\n",
       "      <td>-0.401206</td>\n",
       "      <td>-0.428404</td>\n",
       "    </tr>\n",
       "    <tr>\n",
       "      <th>724</th>\n",
       "      <td>2020-04-17</td>\n",
       "      <td>28.65</td>\n",
       "      <td>32.2700</td>\n",
       "      <td>27.91</td>\n",
       "      <td>29.940</td>\n",
       "      <td>29.9400</td>\n",
       "      <td>218237784.0</td>\n",
       "      <td>0.0</td>\n",
       "      <td>74.3556</td>\n",
       "      <td>61.0134</td>\n",
       "      <td>13.3422</td>\n",
       "      <td>NaN</td>\n",
       "      <td>-0.066052</td>\n",
       "      <td>-0.078903</td>\n",
       "    </tr>\n",
       "    <tr>\n",
       "      <th>725</th>\n",
       "      <td>2020-04-22</td>\n",
       "      <td>29.98</td>\n",
       "      <td>32.4500</td>\n",
       "      <td>29.55</td>\n",
       "      <td>32.355</td>\n",
       "      <td>32.3550</td>\n",
       "      <td>68943579.0</td>\n",
       "      <td>0.0</td>\n",
       "      <td>NaN</td>\n",
       "      <td>NaN</td>\n",
       "      <td>NaN</td>\n",
       "      <td>NaN</td>\n",
       "      <td>0.389936</td>\n",
       "      <td>0.319072</td>\n",
       "    </tr>\n",
       "  </tbody>\n",
       "</table>\n",
       "<p>726 rows × 14 columns</p>\n",
       "</div>"
      ],
      "text/plain": [
       "          Date   open     high    low   close  adj_close       volume  \\\n",
       "0   2006-06-02  39.50  39.7200  37.17  39.130    34.8133    1828400.0   \n",
       "1   2006-06-09  39.36  40.2700  33.62  35.130    31.2546    2858800.0   \n",
       "2   2006-06-16  35.00  35.6300  31.82  34.570    30.7563    4296900.0   \n",
       "3   2006-06-23  34.27  36.5000  33.57  36.280    32.2777    2363400.0   \n",
       "4   2006-06-30  36.75  39.0600  35.00  38.700    34.4307    2844800.0   \n",
       "..         ...    ...      ...    ...     ...        ...          ...   \n",
       "721 2020-03-27  21.63  27.2100  21.12  24.370    24.3700  465945489.0   \n",
       "722 2020-04-03  24.39  25.8755  23.00  24.950    24.9500  215608758.0   \n",
       "723 2020-04-09  26.01  28.9700  25.54  28.950    28.9500  179418388.0   \n",
       "724 2020-04-17  28.65  32.2700  27.91  29.940    29.9400  218237784.0   \n",
       "725 2020-04-22  29.98  32.4500  29.55  32.355    32.3550   68943579.0   \n",
       "\n",
       "     dividend        k        d  sto_diff  future_ret      macd  macd_hist  \n",
       "0         0.0      NaN      NaN       NaN   -0.116536  0.000000   0.000000  \n",
       "1         0.0      NaN      NaN       NaN    0.032734 -0.079843  -0.036595  \n",
       "2         0.0      NaN      NaN       NaN    0.119468 -0.117188  -0.045081  \n",
       "3         0.0      NaN      NaN       NaN    0.075798 -0.076371  -0.002918  \n",
       "4         0.0      NaN      NaN       NaN    0.006976  0.033088   0.077594  \n",
       "..        ...      ...      ...       ...         ...       ...        ...  \n",
       "721       0.0  32.1672  32.6119   -0.4447    0.187936 -0.714467  -0.970000  \n",
       "722       0.0  45.4023  37.6669    7.7354    0.200000 -0.722350  -0.827440  \n",
       "723       0.0  63.2822  46.9506   16.3316    0.117617 -0.401206  -0.428404  \n",
       "724       0.0  74.3556  61.0134   13.3422         NaN -0.066052  -0.078903  \n",
       "725       0.0      NaN      NaN       NaN         NaN  0.389936   0.319072  \n",
       "\n",
       "[726 rows x 14 columns]"
      ]
     },
     "execution_count": 42,
     "metadata": {},
     "output_type": "execute_result"
    }
   ],
   "source": [
    "spy"
   ]
  },
  {
   "cell_type": "code",
   "execution_count": 43,
   "metadata": {},
   "outputs": [
    {
     "data": {
      "text/plain": [
       "0            NaN\n",
       "1            NaN\n",
       "2            NaN\n",
       "3            NaN\n",
       "4            NaN\n",
       "         ...    \n",
       "721    27.041095\n",
       "722    26.960965\n",
       "723    27.079840\n",
       "724    27.232330\n",
       "725    27.511030\n",
       "Name: adj_close, Length: 726, dtype: float64"
      ]
     },
     "execution_count": 43,
     "metadata": {},
     "output_type": "execute_result"
    }
   ],
   "source": [
    "spy.adj_close.rolling(20).apply(np.mean, raw=False)"
   ]
  },
  {
   "cell_type": "code",
   "execution_count": null,
   "metadata": {},
   "outputs": [],
   "source": []
  }
 ],
 "metadata": {
  "kernelspec": {
   "display_name": "Python 3",
   "language": "python",
   "name": "python3"
  },
  "language_info": {
   "codemirror_mode": {
    "name": "ipython",
    "version": 3
   },
   "file_extension": ".py",
   "mimetype": "text/x-python",
   "name": "python",
   "nbconvert_exporter": "python",
   "pygments_lexer": "ipython3",
   "version": "3.6.9"
  }
 },
 "nbformat": 4,
 "nbformat_minor": 2
}
